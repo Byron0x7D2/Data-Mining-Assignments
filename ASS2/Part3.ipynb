{
 "cells": [
  {
   "attachments": {},
   "cell_type": "markdown",
   "metadata": {},
   "source": [
    "Vyron-Georgios Anemogiannis 1115202000008  \\\n",
    "Georgios-Alexandros Vasilakopoulos 1115202000018\n",
    "\n",
    "Assignment Written Locally"
   ]
  },
  {
   "cell_type": "code",
   "execution_count": 2,
   "metadata": {},
   "outputs": [
    {
     "name": "stderr",
     "output_type": "stream",
     "text": [
      "[nltk_data] Downloading package stopwords to /home/byron/nltk_data...\n",
      "[nltk_data]   Package stopwords is already up-to-date!\n",
      "/home/byron/.local/lib/python3.10/site-packages/tqdm/auto.py:22: TqdmWarning: IProgress not found. Please update jupyter and ipywidgets. See https://ipywidgets.readthedocs.io/en/stable/user_install.html\n",
      "  from .autonotebook import tqdm as notebook_tqdm\n"
     ]
    }
   ],
   "source": [
    "import pandas as pd\n",
    "import numpy as np\n",
    "import sklearn\n",
    "import math\n",
    "import matplotlib.pyplot as plt\n",
    "import wordcloud\n",
    "import nltk\n",
    "nltk.download('stopwords')\n",
    "from nltk.corpus import stopwords\n",
    "stop_words = stopwords.words('english')\n",
    "from nltk.stem.porter import PorterStemmer\n",
    "from nltk.stem import WordNetLemmatizer\n",
    "import re\n",
    "from sklearn.feature_extraction.text import TfidfVectorizer\n",
    "pd.set_option('display.max_rows', 20)\n",
    "pd.set_option('display.max_columns', None)\n",
    "pd.set_option('display.width', None)\n",
    "import pickle\n",
    "from math import ceil\n",
    "from sklearn.model_selection import train_test_split\n",
    "from sklearn.metrics import classification_report, RocCurveDisplay, roc_curve, auc\n",
    "from sklearn.metrics import f1_score \n",
    "from sklearn.naive_bayes import GaussianNB\n",
    "from sklearn.model_selection import cross_val_score\n",
    "from sklearn.ensemble import RandomForestClassifier\n",
    "\n",
    "\n",
    "from sklearn import svm\n",
    "import optuna\n",
    "from optuna.visualization import plot_contour\n",
    "from optuna.visualization import plot_edf\n",
    "from optuna.visualization import plot_intermediate_values\n",
    "from optuna.visualization import plot_optimization_history\n",
    "from optuna.visualization import plot_parallel_coordinate\n",
    "from optuna.visualization import plot_param_importances\n",
    "from optuna.visualization import plot_slice\n",
    "\n",
    "import joblib\n"
   ]
  },
  {
   "cell_type": "code",
   "execution_count": 2,
   "metadata": {},
   "outputs": [
    {
     "data": {
      "text/html": [
       "<div>\n",
       "<style scoped>\n",
       "    .dataframe tbody tr th:only-of-type {\n",
       "        vertical-align: middle;\n",
       "    }\n",
       "\n",
       "    .dataframe tbody tr th {\n",
       "        vertical-align: top;\n",
       "    }\n",
       "\n",
       "    .dataframe thead th {\n",
       "        text-align: right;\n",
       "    }\n",
       "</style>\n",
       "<table border=\"1\" class=\"dataframe\">\n",
       "  <thead>\n",
       "    <tr style=\"text-align: right;\">\n",
       "      <th></th>\n",
       "      <th>bookId</th>\n",
       "      <th>description</th>\n",
       "      <th>genreSingle</th>\n",
       "    </tr>\n",
       "  </thead>\n",
       "  <tbody>\n",
       "    <tr>\n",
       "      <th>0</th>\n",
       "      <td>2767052-the-hunger-games</td>\n",
       "      <td>WINNING MEANS FAME AND FORTUNE.LOSING MEANS CE...</td>\n",
       "      <td>Young Adult</td>\n",
       "    </tr>\n",
       "    <tr>\n",
       "      <th>1</th>\n",
       "      <td>2.Harry_Potter_and_the_Order_of_the_Phoenix</td>\n",
       "      <td>There is a door at the end of a silent corrido...</td>\n",
       "      <td>Fantasy</td>\n",
       "    </tr>\n",
       "    <tr>\n",
       "      <th>2</th>\n",
       "      <td>2657.To_Kill_a_Mockingbird</td>\n",
       "      <td>The unforgettable novel of a childhood in a sl...</td>\n",
       "      <td>Classics</td>\n",
       "    </tr>\n",
       "    <tr>\n",
       "      <th>3</th>\n",
       "      <td>1885.Pride_and_Prejudice</td>\n",
       "      <td>Alternate cover edition of ISBN 9780679783268S...</td>\n",
       "      <td>Classics</td>\n",
       "    </tr>\n",
       "    <tr>\n",
       "      <th>4</th>\n",
       "      <td>41865.Twilight</td>\n",
       "      <td>About three things I was absolutely positive.\\...</td>\n",
       "      <td>Young Adult</td>\n",
       "    </tr>\n",
       "    <tr>\n",
       "      <th>...</th>\n",
       "      <td>...</td>\n",
       "      <td>...</td>\n",
       "      <td>...</td>\n",
       "    </tr>\n",
       "    <tr>\n",
       "      <th>52471</th>\n",
       "      <td>12464361-elemental</td>\n",
       "      <td>When seventeen-year-old Kara Nightingale is su...</td>\n",
       "      <td>Fantasy</td>\n",
       "    </tr>\n",
       "    <tr>\n",
       "      <th>52472</th>\n",
       "      <td>12395883-unbelievable</td>\n",
       "      <td>Lilah Lopez Dreser's in town to take care of u...</td>\n",
       "      <td>Romance</td>\n",
       "    </tr>\n",
       "    <tr>\n",
       "      <th>52474</th>\n",
       "      <td>11836711-anasazi</td>\n",
       "      <td>'Anasazi', sequel to 'The Thirteenth Chime' by...</td>\n",
       "      <td>Mystery</td>\n",
       "    </tr>\n",
       "    <tr>\n",
       "      <th>52475</th>\n",
       "      <td>10815662-marked</td>\n",
       "      <td>--READERS FAVORITE AWARDS WINNER 2011--Sixteen...</td>\n",
       "      <td>Fantasy</td>\n",
       "    </tr>\n",
       "    <tr>\n",
       "      <th>52476</th>\n",
       "      <td>11330278-wayward-son</td>\n",
       "      <td>A POWERFUL TREMOR UNEARTHS AN ANCIENT SECRETBu...</td>\n",
       "      <td>Fiction</td>\n",
       "    </tr>\n",
       "  </tbody>\n",
       "</table>\n",
       "<p>28211 rows × 3 columns</p>\n",
       "</div>"
      ],
      "text/plain": [
       "                                            bookId  \\\n",
       "0                         2767052-the-hunger-games   \n",
       "1      2.Harry_Potter_and_the_Order_of_the_Phoenix   \n",
       "2                       2657.To_Kill_a_Mockingbird   \n",
       "3                         1885.Pride_and_Prejudice   \n",
       "4                                   41865.Twilight   \n",
       "...                                            ...   \n",
       "52471                           12464361-elemental   \n",
       "52472                        12395883-unbelievable   \n",
       "52474                             11836711-anasazi   \n",
       "52475                              10815662-marked   \n",
       "52476                         11330278-wayward-son   \n",
       "\n",
       "                                             description  genreSingle  \n",
       "0      WINNING MEANS FAME AND FORTUNE.LOSING MEANS CE...  Young Adult  \n",
       "1      There is a door at the end of a silent corrido...      Fantasy  \n",
       "2      The unforgettable novel of a childhood in a sl...     Classics  \n",
       "3      Alternate cover edition of ISBN 9780679783268S...     Classics  \n",
       "4      About three things I was absolutely positive.\\...  Young Adult  \n",
       "...                                                  ...          ...  \n",
       "52471  When seventeen-year-old Kara Nightingale is su...      Fantasy  \n",
       "52472  Lilah Lopez Dreser's in town to take care of u...      Romance  \n",
       "52474  'Anasazi', sequel to 'The Thirteenth Chime' by...      Mystery  \n",
       "52475  --READERS FAVORITE AWARDS WINNER 2011--Sixteen...      Fantasy  \n",
       "52476  A POWERFUL TREMOR UNEARTHS AN ANCIENT SECRETBu...      Fiction  \n",
       "\n",
       "[28211 rows x 3 columns]"
      ]
     },
     "execution_count": 2,
     "metadata": {},
     "output_type": "execute_result"
    }
   ],
   "source": [
    "# load csv\n",
    "df = pd.read_csv('books_1.Best_Books_Ever.csv')\n",
    "\n",
    "def convert_to_list(row):\n",
    "    return eval(row)\n",
    "\n",
    "df['genres'] = df['genres'].apply(convert_to_list)\n",
    "df['genreSingle'] = df['genres'].apply(lambda x: x[0] if len(x) > 0 else np.nan)\n",
    "# keep bookId, description, genreSingle columns\n",
    "df = df[['bookId', 'description', 'genreSingle']]\n",
    "# drop rows with NaN\n",
    "df = df.dropna()\n",
    "\n",
    "# keep only the rows that have one of the top 10 gerneSingle values\n",
    "top10 = df['genreSingle'].value_counts().head(10).index.tolist()\n",
    "df = df[df['genreSingle'].isin(top10)]\n",
    "df"
   ]
  },
  {
   "cell_type": "code",
   "execution_count": 3,
   "metadata": {},
   "outputs": [],
   "source": [
    "df['description'] = [r.lower() for r in df['description'] ]   #making everything lowercase\n",
    "df['description'] = df['description'].apply(lambda r: re.sub(r'[^a-z]', ' ', r))   #only keeping letters\n",
    "df['description'] = df['description'].apply(lambda r: ' '.join([word for word in r.split() if word not in (stop_words)]))\n"
   ]
  },
  {
   "cell_type": "code",
   "execution_count": 4,
   "metadata": {},
   "outputs": [],
   "source": [
    "# !wget http://nlp.stanford.edu/data/glove.6B.zip\n",
    "# !unzip glove*.zip"
   ]
  },
  {
   "cell_type": "code",
   "execution_count": 5,
   "metadata": {},
   "outputs": [
    {
     "data": {
      "text/html": [
       "<div>\n",
       "<style scoped>\n",
       "    .dataframe tbody tr th:only-of-type {\n",
       "        vertical-align: middle;\n",
       "    }\n",
       "\n",
       "    .dataframe tbody tr th {\n",
       "        vertical-align: top;\n",
       "    }\n",
       "\n",
       "    .dataframe thead th {\n",
       "        text-align: right;\n",
       "    }\n",
       "</style>\n",
       "<table border=\"1\" class=\"dataframe\">\n",
       "  <thead>\n",
       "    <tr style=\"text-align: right;\">\n",
       "      <th></th>\n",
       "      <th>bookId</th>\n",
       "      <th>description</th>\n",
       "      <th>genreSingle</th>\n",
       "    </tr>\n",
       "  </thead>\n",
       "  <tbody>\n",
       "    <tr>\n",
       "      <th>0</th>\n",
       "      <td>2767052-the-hunger-games</td>\n",
       "      <td>winning means fame fortune losing means certai...</td>\n",
       "      <td>3</td>\n",
       "    </tr>\n",
       "    <tr>\n",
       "      <th>1</th>\n",
       "      <td>2.Harry_Potter_and_the_Order_of_the_Phoenix</td>\n",
       "      <td>door end silent corridor haunting harry pottte...</td>\n",
       "      <td>1</td>\n",
       "    </tr>\n",
       "    <tr>\n",
       "      <th>2</th>\n",
       "      <td>2657.To_Kill_a_Mockingbird</td>\n",
       "      <td>unforgettable novel childhood sleepy southern ...</td>\n",
       "      <td>8</td>\n",
       "    </tr>\n",
       "    <tr>\n",
       "      <th>3</th>\n",
       "      <td>1885.Pride_and_Prejudice</td>\n",
       "      <td>alternate cover edition isbn since immediate s...</td>\n",
       "      <td>8</td>\n",
       "    </tr>\n",
       "    <tr>\n",
       "      <th>4</th>\n",
       "      <td>41865.Twilight</td>\n",
       "      <td>three things absolutely positive first edward ...</td>\n",
       "      <td>3</td>\n",
       "    </tr>\n",
       "    <tr>\n",
       "      <th>...</th>\n",
       "      <td>...</td>\n",
       "      <td>...</td>\n",
       "      <td>...</td>\n",
       "    </tr>\n",
       "    <tr>\n",
       "      <th>52471</th>\n",
       "      <td>12464361-elemental</td>\n",
       "      <td>seventeen year old kara nightingale suddenly s...</td>\n",
       "      <td>1</td>\n",
       "    </tr>\n",
       "    <tr>\n",
       "      <th>52472</th>\n",
       "      <td>12395883-unbelievable</td>\n",
       "      <td>lilah lopez dreser town take care unfinished f...</td>\n",
       "      <td>2</td>\n",
       "    </tr>\n",
       "    <tr>\n",
       "      <th>52474</th>\n",
       "      <td>11836711-anasazi</td>\n",
       "      <td>anasazi sequel thirteenth chime emma michaels ...</td>\n",
       "      <td>6</td>\n",
       "    </tr>\n",
       "    <tr>\n",
       "      <th>52475</th>\n",
       "      <td>10815662-marked</td>\n",
       "      <td>readers favorite awards winner sixteen year ol...</td>\n",
       "      <td>1</td>\n",
       "    </tr>\n",
       "    <tr>\n",
       "      <th>52476</th>\n",
       "      <td>11330278-wayward-son</td>\n",
       "      <td>powerful tremor unearths ancient secretburied ...</td>\n",
       "      <td>0</td>\n",
       "    </tr>\n",
       "  </tbody>\n",
       "</table>\n",
       "<p>28211 rows × 3 columns</p>\n",
       "</div>"
      ],
      "text/plain": [
       "                                            bookId  \\\n",
       "0                         2767052-the-hunger-games   \n",
       "1      2.Harry_Potter_and_the_Order_of_the_Phoenix   \n",
       "2                       2657.To_Kill_a_Mockingbird   \n",
       "3                         1885.Pride_and_Prejudice   \n",
       "4                                   41865.Twilight   \n",
       "...                                            ...   \n",
       "52471                           12464361-elemental   \n",
       "52472                        12395883-unbelievable   \n",
       "52474                             11836711-anasazi   \n",
       "52475                              10815662-marked   \n",
       "52476                         11330278-wayward-son   \n",
       "\n",
       "                                             description genreSingle  \n",
       "0      winning means fame fortune losing means certai...           3  \n",
       "1      door end silent corridor haunting harry pottte...           1  \n",
       "2      unforgettable novel childhood sleepy southern ...           8  \n",
       "3      alternate cover edition isbn since immediate s...           8  \n",
       "4      three things absolutely positive first edward ...           3  \n",
       "...                                                  ...         ...  \n",
       "52471  seventeen year old kara nightingale suddenly s...           1  \n",
       "52472  lilah lopez dreser town take care unfinished f...           2  \n",
       "52474  anasazi sequel thirteenth chime emma michaels ...           6  \n",
       "52475  readers favorite awards winner sixteen year ol...           1  \n",
       "52476  powerful tremor unearths ancient secretburied ...           0  \n",
       "\n",
       "[28211 rows x 3 columns]"
      ]
     },
     "execution_count": 5,
     "metadata": {},
     "output_type": "execute_result"
    }
   ],
   "source": [
    "# enumerate the 10 genres and keep the enumeration in the df as well as a mapping\n",
    "genre_mapping = {}\n",
    "for i, genre in enumerate(top10):\n",
    "\tgenre_mapping[i] = genre\n",
    "\tdf.loc[df['genreSingle'] == genre, 'genreSingle'] = i\n",
    "    \n",
    "df"
   ]
  },
  {
   "cell_type": "code",
   "execution_count": 6,
   "metadata": {},
   "outputs": [],
   "source": [
    "def vectorize(df, w2v):\n",
    "\tX = list()\n",
    "\tY = list()\n",
    "\tgernes = df['genreSingle'].values\n",
    "\n",
    "\n",
    "\tfor (i, review) in enumerate(df[\"description\"].values):\n",
    "\t\twvectors = list()\n",
    "\t\tfor word in review.split(\" \"):\n",
    "\t\t\tif word in w2v.keys(): # Keeping only words in the vocabulary and using theur value\n",
    "\t\t\t\twvectors.append(list(w2v[word]))\n",
    "\t\tif len(wvectors) > 0:\n",
    "\t\t\tX.append(np.mean(wvectors, axis=0)) #we keep the mean \n",
    "\t\t\tY.append(gernes[i])\n",
    "\treturn (X,Y)\n",
    "\n",
    "\n",
    "\n",
    "w2v = {}\n",
    "\n",
    "with open('glove.6B.300d.txt', encoding=\"utf8\") as fp:\n",
    "\tfor lines in fp:\n",
    "\t\tvarray = lines.split(\" \")\n",
    "\t\tw2v[varray[0]] = np.asarray(varray[1:], dtype='float32')\n",
    "\n",
    "(X, Y) = vectorize(df, w2v)\n",
    "\n"
   ]
  },
  {
   "cell_type": "code",
   "execution_count": 7,
   "metadata": {},
   "outputs": [],
   "source": [
    "with open('X.pkl', 'wb') as f:\n",
    "    pickle.dump(X, f)\n",
    "with open('Y.pkl', 'wb') as f:\n",
    "    pickle.dump(Y, f)\n",
    "with open('genre_mapping.pkl', 'wb') as f:\n",
    "    pickle.dump(genre_mapping, f)"
   ]
  },
  {
   "attachments": {},
   "cell_type": "markdown",
   "metadata": {},
   "source": [
    "### Cleaned"
   ]
  },
  {
   "cell_type": "code",
   "execution_count": 10,
   "metadata": {},
   "outputs": [],
   "source": [
    "with open('X.pkl', 'rb') as f:\n",
    "    X = pickle.load(f)\n",
    "with open('Y.pkl', 'rb') as f:\n",
    "    Y = pickle.load(f)\n",
    "with open('genre_mapping.pkl', 'rb') as f:\n",
    "    genre_mapping = pickle.load(f)"
   ]
  },
  {
   "cell_type": "code",
   "execution_count": 11,
   "metadata": {},
   "outputs": [],
   "source": [
    "Xtrain, Xtest , Ytrain, Ytest = train_test_split(X, Y, test_size=0.2, random_state=69)"
   ]
  },
  {
   "attachments": {},
   "cell_type": "markdown",
   "metadata": {},
   "source": [
    "# Naive Bayes"
   ]
  },
  {
   "cell_type": "code",
   "execution_count": 15,
   "metadata": {},
   "outputs": [
    {
     "name": "stdout",
     "output_type": "stream",
     "text": [
      "                    precision    recall  f1-score   support\n",
      "\n",
      "           Fiction       0.51      0.04      0.07      1154\n",
      "           Fantasy       0.82      0.33      0.47      1111\n",
      "           Romance       0.40      0.01      0.02       630\n",
      "       Young Adult       0.23      0.78      0.36       616\n",
      "        Nonfiction       0.46      0.42      0.44       507\n",
      "Historical Fiction       0.42      0.37      0.39       442\n",
      "           Mystery       0.33      0.78      0.46       421\n",
      "   Science Fiction       0.45      0.55      0.49       281\n",
      "          Classics       0.12      0.31      0.18       227\n",
      "           History       0.39      0.40      0.39       182\n",
      "\n",
      "          accuracy                           0.34      5571\n",
      "         macro avg       0.41      0.40      0.33      5571\n",
      "      weighted avg       0.48      0.34      0.30      5571\n",
      "\n",
      "Accuracy: 0.32 (+/- 0.01)\n",
      "F1 score: 0.327082\n"
     ]
    }
   ],
   "source": [
    "gnb = GaussianNB()\n",
    "gnb.fit(Xtrain, Ytrain)\n",
    "Ypred = gnb.predict(Xtest)\n",
    "print(classification_report(Ytest, Ypred, target_names=genre_mapping.values()))\n",
    "\n",
    "scores = cross_val_score(gnb, X, Y, cv=10)\n",
    "print(\"Accuracy: %0.2f (+/- %0.2f)\" % (scores.mean(), scores.std() * 2))\n",
    "f1 = f1_score(Ytest, Ypred, average='macro')\n",
    "print('F1 score: %f' % f1)\n"
   ]
  },
  {
   "attachments": {},
   "cell_type": "markdown",
   "metadata": {},
   "source": [
    "# Support vector Machines"
   ]
  },
  {
   "cell_type": "code",
   "execution_count": 4,
   "metadata": {},
   "outputs": [
    {
     "name": "stderr",
     "output_type": "stream",
     "text": [
      "\u001b[32m[I 2023-05-07 11:26:49,376]\u001b[0m A new study created in memory with name: no-name-3079ce67-c799-45a7-9b0a-23186dd711a4\u001b[0m\n",
      "\u001b[32m[I 2023-05-07 11:29:38,330]\u001b[0m Trial 0 finished with value: 0.3440596910620287 and parameters: {'kernel': 'rbf', 'c': 0.04111714115664755, 'gamma': 'scale'}. Best is trial 0 with value: 0.3440596910620287.\u001b[0m\n",
      "\u001b[32m[I 2023-05-07 11:31:03,782]\u001b[0m Trial 1 finished with value: 0.6217920198414303 and parameters: {'kernel': 'linear', 'c': 3.141043061182334, 'gamma': 'auto'}. Best is trial 1 with value: 0.6217920198414303.\u001b[0m\n",
      "\u001b[32m[I 2023-05-07 11:34:16,169]\u001b[0m Trial 2 finished with value: 0.03431970260223048 and parameters: {'kernel': 'rbf', 'c': 0.03499617688808586, 'gamma': 'auto'}. Best is trial 1 with value: 0.6217920198414303.\u001b[0m\n",
      "\u001b[32m[I 2023-05-07 11:35:43,084]\u001b[0m Trial 3 finished with value: 0.6154665905381511 and parameters: {'kernel': 'linear', 'c': 0.39383942450460424, 'gamma': 'auto'}. Best is trial 1 with value: 0.6217920198414303.\u001b[0m\n",
      "\u001b[32m[I 2023-05-07 11:38:25,770]\u001b[0m Trial 4 finished with value: 0.5078477515777273 and parameters: {'kernel': 'rbf', 'c': 0.09597493568860846, 'gamma': 'scale'}. Best is trial 1 with value: 0.6217920198414303.\u001b[0m\n",
      "\u001b[32m[I 2023-05-07 11:41:39,805]\u001b[0m Trial 5 finished with value: 0.03431970260223048 and parameters: {'kernel': 'rbf', 'c': 0.026554230868065267, 'gamma': 'auto'}. Best is trial 1 with value: 0.6217920198414303.\u001b[0m\n",
      "\u001b[32m[I 2023-05-07 11:43:57,857]\u001b[0m Trial 6 finished with value: 0.4086971595103358 and parameters: {'kernel': 'linear', 'c': 0.012143096823549518, 'gamma': 'auto'}. Best is trial 1 with value: 0.6217920198414303.\u001b[0m\n",
      "\u001b[32m[I 2023-05-07 11:46:19,600]\u001b[0m Trial 7 finished with value: 0.5269270526709142 and parameters: {'kernel': 'rbf', 'c': 0.11686244133073516, 'gamma': 'scale'}. Best is trial 1 with value: 0.6217920198414303.\u001b[0m\n",
      "\u001b[32m[I 2023-05-07 11:47:43,280]\u001b[0m Trial 8 finished with value: 0.6200452406281155 and parameters: {'kernel': 'linear', 'c': 0.6142515946747281, 'gamma': 'scale'}. Best is trial 1 with value: 0.6217920198414303.\u001b[0m\n",
      "\u001b[32m[I 2023-05-07 11:49:35,011]\u001b[0m Trial 9 finished with value: 0.5477464462381204 and parameters: {'kernel': 'linear', 'c': 0.046089231102795405, 'gamma': 'scale'}. Best is trial 1 with value: 0.6217920198414303.\u001b[0m\n",
      "\u001b[32m[I 2023-05-07 11:51:02,670]\u001b[0m Trial 10 finished with value: 0.6227801573103362 and parameters: {'kernel': 'linear', 'c': 4.875103196646984, 'gamma': 'auto'}. Best is trial 10 with value: 0.6227801573103362.\u001b[0m\n",
      "\u001b[32m[I 2023-05-07 11:52:30,978]\u001b[0m Trial 11 finished with value: 0.6231594961947701 and parameters: {'kernel': 'linear', 'c': 5.3043047389051345, 'gamma': 'auto'}. Best is trial 11 with value: 0.6231594961947701.\u001b[0m\n",
      "\u001b[32m[I 2023-05-07 11:54:09,602]\u001b[0m Trial 12 finished with value: 0.6211225131596293 and parameters: {'kernel': 'linear', 'c': 9.782171880109399, 'gamma': 'auto'}. Best is trial 11 with value: 0.6231594961947701.\u001b[0m\n",
      "\u001b[32m[I 2023-05-07 11:55:31,620]\u001b[0m Trial 13 finished with value: 0.6237309727024284 and parameters: {'kernel': 'linear', 'c': 2.0591564482583657, 'gamma': 'auto'}. Best is trial 13 with value: 0.6237309727024284.\u001b[0m\n",
      "\u001b[32m[I 2023-05-07 11:56:53,824]\u001b[0m Trial 14 finished with value: 0.625981643883754 and parameters: {'kernel': 'linear', 'c': 1.5904163312291153, 'gamma': 'auto'}. Best is trial 14 with value: 0.625981643883754.\u001b[0m\n",
      "\u001b[32m[I 2023-05-07 11:58:15,794]\u001b[0m Trial 15 finished with value: 0.6260939230227985 and parameters: {'kernel': 'linear', 'c': 1.279156779580503, 'gamma': 'auto'}. Best is trial 15 with value: 0.6260939230227985.\u001b[0m\n",
      "\u001b[32m[I 2023-05-07 11:59:37,355]\u001b[0m Trial 16 finished with value: 0.6256055155417102 and parameters: {'kernel': 'linear', 'c': 1.2846416128425218, 'gamma': 'auto'}. Best is trial 15 with value: 0.6260939230227985.\u001b[0m\n",
      "\u001b[32m[I 2023-05-07 12:00:59,676]\u001b[0m Trial 17 finished with value: 0.6255603746042705 and parameters: {'kernel': 'linear', 'c': 0.973788182629961, 'gamma': 'auto'}. Best is trial 15 with value: 0.6260939230227985.\u001b[0m\n",
      "\u001b[32m[I 2023-05-07 12:02:21,846]\u001b[0m Trial 18 finished with value: 0.6258510094965027 and parameters: {'kernel': 'linear', 'c': 1.6014333356962671, 'gamma': 'auto'}. Best is trial 15 with value: 0.6260939230227985.\u001b[0m\n",
      "\u001b[32m[I 2023-05-07 12:03:50,134]\u001b[0m Trial 19 finished with value: 0.6228135640479411 and parameters: {'kernel': 'linear', 'c': 0.6480869209208344, 'gamma': 'auto'}. Best is trial 15 with value: 0.6260939230227985.\u001b[0m\n",
      "\u001b[32m[I 2023-05-07 12:05:18,694]\u001b[0m Trial 20 finished with value: 0.6141124294167423 and parameters: {'kernel': 'linear', 'c': 0.3621844556437957, 'gamma': 'auto'}. Best is trial 15 with value: 0.6260939230227985.\u001b[0m\n",
      "\u001b[32m[I 2023-05-07 12:06:41,484]\u001b[0m Trial 21 finished with value: 0.6236602563870367 and parameters: {'kernel': 'linear', 'c': 1.9431657249199208, 'gamma': 'auto'}. Best is trial 15 with value: 0.6260939230227985.\u001b[0m\n",
      "\u001b[32m[I 2023-05-07 12:08:04,017]\u001b[0m Trial 22 finished with value: 0.6248009353737188 and parameters: {'kernel': 'linear', 'c': 1.3815880429813183, 'gamma': 'auto'}. Best is trial 15 with value: 0.6260939230227985.\u001b[0m\n",
      "\u001b[32m[I 2023-05-07 12:09:27,828]\u001b[0m Trial 23 finished with value: 0.6251290972620459 and parameters: {'kernel': 'linear', 'c': 0.8413808358820025, 'gamma': 'auto'}. Best is trial 15 with value: 0.6260939230227985.\u001b[0m\n",
      "\u001b[32m[I 2023-05-07 12:10:51,068]\u001b[0m Trial 24 finished with value: 0.623786509836864 and parameters: {'kernel': 'linear', 'c': 1.910999810644982, 'gamma': 'auto'}. Best is trial 15 with value: 0.6260939230227985.\u001b[0m\n",
      "\u001b[32m[I 2023-05-07 12:12:16,147]\u001b[0m Trial 25 finished with value: 0.6215016038930324 and parameters: {'kernel': 'linear', 'c': 3.0672361660367025, 'gamma': 'auto'}. Best is trial 15 with value: 0.6260939230227985.\u001b[0m\n",
      "\u001b[32m[I 2023-05-07 12:14:09,689]\u001b[0m Trial 26 finished with value: 0.6264856603090225 and parameters: {'kernel': 'rbf', 'c': 0.5818525776592376, 'gamma': 'scale'}. Best is trial 26 with value: 0.6264856603090225.\u001b[0m\n",
      "\u001b[32m[I 2023-05-07 12:16:21,467]\u001b[0m Trial 27 finished with value: 0.5636866565502585 and parameters: {'kernel': 'rbf', 'c': 0.19687493724150107, 'gamma': 'scale'}. Best is trial 26 with value: 0.6264856603090225.\u001b[0m\n",
      "\u001b[32m[I 2023-05-07 12:18:15,292]\u001b[0m Trial 28 finished with value: 0.6215843687227763 and parameters: {'kernel': 'rbf', 'c': 0.5146113432549427, 'gamma': 'scale'}. Best is trial 26 with value: 0.6264856603090225.\u001b[0m\n",
      "\u001b[32m[I 2023-05-07 12:20:19,778]\u001b[0m Trial 29 finished with value: 0.584593389409293 and parameters: {'kernel': 'rbf', 'c': 0.27882393919168064, 'gamma': 'scale'}. Best is trial 26 with value: 0.6264856603090225.\u001b[0m\n",
      "\u001b[32m[I 2023-05-07 12:22:07,779]\u001b[0m Trial 30 finished with value: 0.6363368010315259 and parameters: {'kernel': 'rbf', 'c': 1.0529470400258216, 'gamma': 'scale'}. Best is trial 30 with value: 0.6363368010315259.\u001b[0m\n",
      "\u001b[32m[I 2023-05-07 12:23:56,377]\u001b[0m Trial 31 finished with value: 0.6340339582223975 and parameters: {'kernel': 'rbf', 'c': 0.9904767501053444, 'gamma': 'scale'}. Best is trial 30 with value: 0.6363368010315259.\u001b[0m\n",
      "\u001b[32m[I 2023-05-07 12:25:43,492]\u001b[0m Trial 32 finished with value: 0.633038112379446 and parameters: {'kernel': 'rbf', 'c': 0.9076363682186189, 'gamma': 'scale'}. Best is trial 30 with value: 0.6363368010315259.\u001b[0m\n",
      "\u001b[32m[I 2023-05-07 12:27:32,907]\u001b[0m Trial 33 finished with value: 0.6332029109703179 and parameters: {'kernel': 'rbf', 'c': 0.7836686279602519, 'gamma': 'scale'}. Best is trial 30 with value: 0.6363368010315259.\u001b[0m\n",
      "\u001b[32m[I 2023-05-07 12:29:19,655]\u001b[0m Trial 34 finished with value: 0.6338287651041521 and parameters: {'kernel': 'rbf', 'c': 0.9276566618643377, 'gamma': 'scale'}. Best is trial 30 with value: 0.6363368010315259.\u001b[0m\n",
      "\u001b[32m[I 2023-05-07 12:31:16,562]\u001b[0m Trial 35 finished with value: 0.6076461312834815 and parameters: {'kernel': 'rbf', 'c': 0.4015553288366672, 'gamma': 'scale'}. Best is trial 30 with value: 0.6363368010315259.\u001b[0m\n",
      "\u001b[32m[I 2023-05-07 12:33:04,704]\u001b[0m Trial 36 finished with value: 0.6344126834398166 and parameters: {'kernel': 'rbf', 'c': 0.876596000894981, 'gamma': 'scale'}. Best is trial 30 with value: 0.6363368010315259.\u001b[0m\n",
      "\u001b[32m[I 2023-05-07 12:34:50,856]\u001b[0m Trial 37 finished with value: 0.6340339582223975 and parameters: {'kernel': 'rbf', 'c': 0.9889348050058239, 'gamma': 'scale'}. Best is trial 30 with value: 0.6363368010315259.\u001b[0m\n",
      "\u001b[32m[I 2023-05-07 12:36:45,949]\u001b[0m Trial 38 finished with value: 0.6200596105234972 and parameters: {'kernel': 'rbf', 'c': 0.4980521794778418, 'gamma': 'scale'}. Best is trial 30 with value: 0.6363368010315259.\u001b[0m\n",
      "\u001b[32m[I 2023-05-07 12:38:49,673]\u001b[0m Trial 39 finished with value: 0.5864746691576213 and parameters: {'kernel': 'rbf', 'c': 0.2851284359431068, 'gamma': 'scale'}. Best is trial 30 with value: 0.6363368010315259.\u001b[0m\n",
      "\u001b[32m[I 2023-05-07 12:40:27,872]\u001b[0m Trial 40 finished with value: 0.6516417553413782 and parameters: {'kernel': 'rbf', 'c': 2.650965968270078, 'gamma': 'scale'}. Best is trial 40 with value: 0.6516417553413782.\u001b[0m\n",
      "\u001b[32m[I 2023-05-07 12:42:08,860]\u001b[0m Trial 41 finished with value: 0.651194884543296 and parameters: {'kernel': 'rbf', 'c': 2.4675477613592345, 'gamma': 'scale'}. Best is trial 40 with value: 0.6516417553413782.\u001b[0m\n",
      "\u001b[32m[I 2023-05-07 12:43:47,291]\u001b[0m Trial 42 finished with value: 0.6528840905833782 and parameters: {'kernel': 'rbf', 'c': 2.7274652063963454, 'gamma': 'scale'}. Best is trial 42 with value: 0.6528840905833782.\u001b[0m\n",
      "\u001b[32m[I 2023-05-07 12:45:24,962]\u001b[0m Trial 43 finished with value: 0.6541714448654339 and parameters: {'kernel': 'rbf', 'c': 2.8532492194031094, 'gamma': 'scale'}. Best is trial 43 with value: 0.6541714448654339.\u001b[0m\n",
      "\u001b[32m[I 2023-05-07 12:47:03,922]\u001b[0m Trial 44 finished with value: 0.6553925925413401 and parameters: {'kernel': 'rbf', 'c': 2.8779664350014134, 'gamma': 'scale'}. Best is trial 44 with value: 0.6553925925413401.\u001b[0m\n",
      "\u001b[32m[I 2023-05-07 12:48:41,627]\u001b[0m Trial 45 finished with value: 0.6561666555339485 and parameters: {'kernel': 'rbf', 'c': 3.1963680716447933, 'gamma': 'scale'}. Best is trial 45 with value: 0.6561666555339485.\u001b[0m\n",
      "\u001b[32m[I 2023-05-07 12:50:18,976]\u001b[0m Trial 46 finished with value: 0.6546578262226566 and parameters: {'kernel': 'rbf', 'c': 4.630210285154217, 'gamma': 'scale'}. Best is trial 45 with value: 0.6561666555339485.\u001b[0m\n",
      "\u001b[32m[I 2023-05-07 12:51:59,386]\u001b[0m Trial 47 finished with value: 0.6572999323446688 and parameters: {'kernel': 'rbf', 'c': 3.9153433857642326, 'gamma': 'scale'}. Best is trial 47 with value: 0.6572999323446688.\u001b[0m\n",
      "\u001b[32m[I 2023-05-07 12:53:51,996]\u001b[0m Trial 48 finished with value: 0.6562734227970017 and parameters: {'kernel': 'rbf', 'c': 4.266679897093789, 'gamma': 'scale'}. Best is trial 47 with value: 0.6572999323446688.\u001b[0m\n",
      "\u001b[32m[I 2023-05-07 12:55:37,193]\u001b[0m Trial 49 finished with value: 0.6561039571427711 and parameters: {'kernel': 'rbf', 'c': 4.274290891825934, 'gamma': 'scale'}. Best is trial 47 with value: 0.6572999323446688.\u001b[0m\n"
     ]
    },
    {
     "name": "stdout",
     "output_type": "stream",
     "text": [
      "{'kernel': 'rbf', 'c': 3.9153433857642326, 'gamma': 'scale'}\n"
     ]
    }
   ],
   "source": [
    "def objective(trial):\n",
    "\tkernel = trial.suggest_categorical('kernel', ['linear', 'rbf'])\n",
    "\tc = trial.suggest_float('c', 1e-2, 10, log=True)\n",
    "\tgamma = trial.suggest_categorical('gamma', ['scale', 'auto'])\n",
    "    \n",
    "\tclf = svm.SVC(kernel=kernel, C=c, gamma=gamma)\n",
    "\tclf.fit(Xtrain, Ytrain)\n",
    "\tYpred = clf.predict(Xtest)\n",
    "\tf1 = f1_score(Ytest, Ypred, average='macro')\n",
    "\treturn f1\n",
    "\n",
    "study = optuna.create_study(direction='maximize')\n",
    "study.optimize(objective, n_trials=50)\n",
    "print(study.best_params)\n",
    "\n",
    "# {'kernel': 'rbf', 'c': 3.9153433857642326, 'gamma': 'scale'}\n"
   ]
  },
  {
   "cell_type": "code",
   "execution_count": 18,
   "metadata": {},
   "outputs": [
    {
     "data": {
      "text/plain": [
       "['study.pkl']"
      ]
     },
     "execution_count": 18,
     "metadata": {},
     "output_type": "execute_result"
    }
   ],
   "source": [
    "joblib.dump(study, \"study.pkl\")"
   ]
  },
  {
   "cell_type": "code",
   "execution_count": 2,
   "metadata": {},
   "outputs": [],
   "source": [
    "study = joblib.load(\"study.pkl\")"
   ]
  },
  {
   "cell_type": "code",
   "execution_count": 3,
   "metadata": {},
   "outputs": [
    {
     "data": {
      "application/vnd.plotly.v1+json": {
       "config": {
        "plotlyServerURL": "https://plot.ly"
       },
       "data": [
        {
         "type": "scatter",
         "xaxis": "x",
         "yaxis": "y"
        },
        {
         "colorbar": {
          "title": {
           "text": "Objective Value"
          }
         },
         "colorscale": [
          [
           0,
           "rgb(247,251,255)"
          ],
          [
           0.125,
           "rgb(222,235,247)"
          ],
          [
           0.25,
           "rgb(198,219,239)"
          ],
          [
           0.375,
           "rgb(158,202,225)"
          ],
          [
           0.5,
           "rgb(107,174,214)"
          ],
          [
           0.625,
           "rgb(66,146,198)"
          ],
          [
           0.75,
           "rgb(33,113,181)"
          ],
          [
           0.875,
           "rgb(8,81,156)"
          ],
          [
           1,
           "rgb(8,48,107)"
          ]
         ],
         "connectgaps": true,
         "contours": {
          "coloring": "heatmap"
         },
         "hoverinfo": "none",
         "line": {
          "smoothing": 1.3
         },
         "reversescale": false,
         "showscale": true,
         "type": "contour",
         "x": [
          0.00869008783944295,
          0.012143096823549518,
          0.026554230868065267,
          0.03499617688808586,
          0.04111714115664755,
          0.046089231102795405,
          0.09597493568860846,
          0.11686244133073516,
          0.19687493724150107,
          0.27882393919168064,
          0.2851284359431068,
          0.3621844556437957,
          0.39383942450460424,
          0.4015553288366672,
          0.4980521794778418,
          0.5146113432549427,
          0.5818525776592376,
          0.6142515946747281,
          0.6480869209208344,
          0.7836686279602519,
          0.8413808358820025,
          0.876596000894981,
          0.9076363682186189,
          0.9276566618643377,
          0.973788182629961,
          0.9889348050058239,
          0.9904767501053444,
          1.0529470400258216,
          1.279156779580503,
          1.2846416128425218,
          1.3815880429813183,
          1.5904163312291153,
          1.6014333356962671,
          1.910999810644982,
          1.9431657249199208,
          2.0591564482583657,
          2.4675477613592345,
          2.650965968270078,
          2.7274652063963454,
          2.8532492194031094,
          2.8779664350014134,
          3.0672361660367025,
          3.141043061182334,
          3.1963680716447933,
          3.9153433857642326,
          4.266679897093789,
          4.274290891825934,
          4.630210285154217,
          4.875103196646984,
          5.3043047389051345,
          9.782171880109399,
          13.66912078214231
         ],
         "xaxis": "x4",
         "y": [
          "auto",
          "scale"
         ],
         "yaxis": "y4",
         "z": [
          [
           null,
           0.4086971595103358,
           0.03431970260223048,
           0.03431970260223048,
           null,
           null,
           null,
           null,
           null,
           null,
           null,
           0.6141124294167423,
           0.6154665905381511,
           null,
           null,
           null,
           null,
           null,
           0.6228135640479411,
           null,
           0.6251290972620459,
           null,
           null,
           null,
           0.6255603746042705,
           null,
           null,
           null,
           0.6260939230227985,
           0.6256055155417102,
           0.6248009353737188,
           0.625981643883754,
           0.6258510094965027,
           0.623786509836864,
           0.6236602563870367,
           0.6237309727024284,
           null,
           null,
           null,
           null,
           null,
           0.6215016038930324,
           0.6217920198414303,
           null,
           null,
           null,
           null,
           null,
           0.6227801573103362,
           0.6231594961947701,
           0.6211225131596293,
           null
          ],
          [
           null,
           null,
           null,
           null,
           0.3440596910620287,
           0.5477464462381204,
           0.5078477515777273,
           0.5269270526709142,
           0.5636866565502585,
           0.584593389409293,
           0.5864746691576213,
           null,
           null,
           0.6076461312834815,
           0.6200596105234972,
           0.6215843687227763,
           0.6264856603090225,
           0.6200452406281155,
           null,
           0.6332029109703179,
           null,
           0.6344126834398166,
           0.633038112379446,
           0.6338287651041521,
           null,
           0.6340339582223975,
           0.6340339582223975,
           0.6363368010315259,
           null,
           null,
           null,
           null,
           null,
           null,
           null,
           null,
           0.651194884543296,
           0.6516417553413782,
           0.6528840905833782,
           0.6541714448654339,
           0.6553925925413401,
           null,
           null,
           0.6561666555339485,
           0.6572999323446688,
           0.6562734227970017,
           0.6561039571427711,
           0.6546578262226566,
           null,
           null,
           null,
           null
          ]
         ]
        },
        {
         "marker": {
          "color": "black",
          "line": {
           "color": "Grey",
           "width": 2
          }
         },
         "mode": "markers",
         "showlegend": false,
         "type": "scatter",
         "x": [
          0.04111714115664755,
          3.141043061182334,
          0.03499617688808586,
          0.39383942450460424,
          0.09597493568860846,
          0.026554230868065267,
          0.012143096823549518,
          0.11686244133073516,
          0.6142515946747281,
          0.046089231102795405,
          4.875103196646984,
          5.3043047389051345,
          9.782171880109399,
          2.0591564482583657,
          1.5904163312291153,
          1.279156779580503,
          1.2846416128425218,
          0.973788182629961,
          1.6014333356962671,
          0.6480869209208344,
          0.3621844556437957,
          1.9431657249199208,
          1.3815880429813183,
          0.8413808358820025,
          1.910999810644982,
          3.0672361660367025,
          0.5818525776592376,
          0.19687493724150107,
          0.5146113432549427,
          0.27882393919168064,
          1.0529470400258216,
          0.9904767501053444,
          0.9076363682186189,
          0.7836686279602519,
          0.9276566618643377,
          0.4015553288366672,
          0.876596000894981,
          0.9889348050058239,
          0.4980521794778418,
          0.2851284359431068,
          2.650965968270078,
          2.4675477613592345,
          2.7274652063963454,
          2.8532492194031094,
          2.8779664350014134,
          3.1963680716447933,
          4.630210285154217,
          3.9153433857642326,
          4.266679897093789,
          4.274290891825934
         ],
         "xaxis": "x4",
         "y": [
          "scale",
          "auto",
          "auto",
          "auto",
          "scale",
          "auto",
          "auto",
          "scale",
          "scale",
          "scale",
          "auto",
          "auto",
          "auto",
          "auto",
          "auto",
          "auto",
          "auto",
          "auto",
          "auto",
          "auto",
          "auto",
          "auto",
          "auto",
          "auto",
          "auto",
          "auto",
          "scale",
          "scale",
          "scale",
          "scale",
          "scale",
          "scale",
          "scale",
          "scale",
          "scale",
          "scale",
          "scale",
          "scale",
          "scale",
          "scale",
          "scale",
          "scale",
          "scale",
          "scale",
          "scale",
          "scale",
          "scale",
          "scale",
          "scale",
          "scale"
         ],
         "yaxis": "y4"
        },
        {
         "colorbar": {
          "title": {
           "text": "Objective Value"
          }
         },
         "colorscale": [
          [
           0,
           "rgb(247,251,255)"
          ],
          [
           0.125,
           "rgb(222,235,247)"
          ],
          [
           0.25,
           "rgb(198,219,239)"
          ],
          [
           0.375,
           "rgb(158,202,225)"
          ],
          [
           0.5,
           "rgb(107,174,214)"
          ],
          [
           0.625,
           "rgb(66,146,198)"
          ],
          [
           0.75,
           "rgb(33,113,181)"
          ],
          [
           0.875,
           "rgb(8,81,156)"
          ],
          [
           1,
           "rgb(8,48,107)"
          ]
         ],
         "connectgaps": true,
         "contours": {
          "coloring": "heatmap"
         },
         "hoverinfo": "none",
         "line": {
          "smoothing": 1.3
         },
         "reversescale": false,
         "showscale": false,
         "type": "contour",
         "x": [
          0.00869008783944295,
          0.012143096823549518,
          0.026554230868065267,
          0.03499617688808586,
          0.04111714115664755,
          0.046089231102795405,
          0.09597493568860846,
          0.11686244133073516,
          0.19687493724150107,
          0.27882393919168064,
          0.2851284359431068,
          0.3621844556437957,
          0.39383942450460424,
          0.4015553288366672,
          0.4980521794778418,
          0.5146113432549427,
          0.5818525776592376,
          0.6142515946747281,
          0.6480869209208344,
          0.7836686279602519,
          0.8413808358820025,
          0.876596000894981,
          0.9076363682186189,
          0.9276566618643377,
          0.973788182629961,
          0.9889348050058239,
          0.9904767501053444,
          1.0529470400258216,
          1.279156779580503,
          1.2846416128425218,
          1.3815880429813183,
          1.5904163312291153,
          1.6014333356962671,
          1.910999810644982,
          1.9431657249199208,
          2.0591564482583657,
          2.4675477613592345,
          2.650965968270078,
          2.7274652063963454,
          2.8532492194031094,
          2.8779664350014134,
          3.0672361660367025,
          3.141043061182334,
          3.1963680716447933,
          3.9153433857642326,
          4.266679897093789,
          4.274290891825934,
          4.630210285154217,
          4.875103196646984,
          5.3043047389051345,
          9.782171880109399,
          13.66912078214231
         ],
         "xaxis": "x7",
         "y": [
          "linear",
          "rbf"
         ],
         "yaxis": "y7",
         "z": [
          [
           null,
           0.4086971595103358,
           null,
           null,
           null,
           0.5477464462381204,
           null,
           null,
           null,
           null,
           null,
           0.6141124294167423,
           0.6154665905381511,
           null,
           null,
           null,
           null,
           0.6200452406281155,
           0.6228135640479411,
           null,
           0.6251290972620459,
           null,
           null,
           null,
           0.6255603746042705,
           null,
           null,
           null,
           0.6260939230227985,
           0.6256055155417102,
           0.6248009353737188,
           0.625981643883754,
           0.6258510094965027,
           0.623786509836864,
           0.6236602563870367,
           0.6237309727024284,
           null,
           null,
           null,
           null,
           null,
           0.6215016038930324,
           0.6217920198414303,
           null,
           null,
           null,
           null,
           null,
           0.6227801573103362,
           0.6231594961947701,
           0.6211225131596293,
           null
          ],
          [
           null,
           null,
           0.03431970260223048,
           0.03431970260223048,
           0.3440596910620287,
           null,
           0.5078477515777273,
           0.5269270526709142,
           0.5636866565502585,
           0.584593389409293,
           0.5864746691576213,
           null,
           null,
           0.6076461312834815,
           0.6200596105234972,
           0.6215843687227763,
           0.6264856603090225,
           null,
           null,
           0.6332029109703179,
           null,
           0.6344126834398166,
           0.633038112379446,
           0.6338287651041521,
           null,
           0.6340339582223975,
           0.6340339582223975,
           0.6363368010315259,
           null,
           null,
           null,
           null,
           null,
           null,
           null,
           null,
           0.651194884543296,
           0.6516417553413782,
           0.6528840905833782,
           0.6541714448654339,
           0.6553925925413401,
           null,
           null,
           0.6561666555339485,
           0.6572999323446688,
           0.6562734227970017,
           0.6561039571427711,
           0.6546578262226566,
           null,
           null,
           null,
           null
          ]
         ]
        },
        {
         "marker": {
          "color": "black",
          "line": {
           "color": "Grey",
           "width": 2
          }
         },
         "mode": "markers",
         "showlegend": false,
         "type": "scatter",
         "x": [
          0.04111714115664755,
          3.141043061182334,
          0.03499617688808586,
          0.39383942450460424,
          0.09597493568860846,
          0.026554230868065267,
          0.012143096823549518,
          0.11686244133073516,
          0.6142515946747281,
          0.046089231102795405,
          4.875103196646984,
          5.3043047389051345,
          9.782171880109399,
          2.0591564482583657,
          1.5904163312291153,
          1.279156779580503,
          1.2846416128425218,
          0.973788182629961,
          1.6014333356962671,
          0.6480869209208344,
          0.3621844556437957,
          1.9431657249199208,
          1.3815880429813183,
          0.8413808358820025,
          1.910999810644982,
          3.0672361660367025,
          0.5818525776592376,
          0.19687493724150107,
          0.5146113432549427,
          0.27882393919168064,
          1.0529470400258216,
          0.9904767501053444,
          0.9076363682186189,
          0.7836686279602519,
          0.9276566618643377,
          0.4015553288366672,
          0.876596000894981,
          0.9889348050058239,
          0.4980521794778418,
          0.2851284359431068,
          2.650965968270078,
          2.4675477613592345,
          2.7274652063963454,
          2.8532492194031094,
          2.8779664350014134,
          3.1963680716447933,
          4.630210285154217,
          3.9153433857642326,
          4.266679897093789,
          4.274290891825934
         ],
         "xaxis": "x7",
         "y": [
          "rbf",
          "linear",
          "rbf",
          "linear",
          "rbf",
          "rbf",
          "linear",
          "rbf",
          "linear",
          "linear",
          "linear",
          "linear",
          "linear",
          "linear",
          "linear",
          "linear",
          "linear",
          "linear",
          "linear",
          "linear",
          "linear",
          "linear",
          "linear",
          "linear",
          "linear",
          "linear",
          "rbf",
          "rbf",
          "rbf",
          "rbf",
          "rbf",
          "rbf",
          "rbf",
          "rbf",
          "rbf",
          "rbf",
          "rbf",
          "rbf",
          "rbf",
          "rbf",
          "rbf",
          "rbf",
          "rbf",
          "rbf",
          "rbf",
          "rbf",
          "rbf",
          "rbf",
          "rbf",
          "rbf"
         ],
         "yaxis": "y7"
        },
        {
         "colorbar": {
          "title": {
           "text": "Objective Value"
          }
         },
         "colorscale": [
          [
           0,
           "rgb(247,251,255)"
          ],
          [
           0.125,
           "rgb(222,235,247)"
          ],
          [
           0.25,
           "rgb(198,219,239)"
          ],
          [
           0.375,
           "rgb(158,202,225)"
          ],
          [
           0.5,
           "rgb(107,174,214)"
          ],
          [
           0.625,
           "rgb(66,146,198)"
          ],
          [
           0.75,
           "rgb(33,113,181)"
          ],
          [
           0.875,
           "rgb(8,81,156)"
          ],
          [
           1,
           "rgb(8,48,107)"
          ]
         ],
         "connectgaps": true,
         "contours": {
          "coloring": "heatmap"
         },
         "hoverinfo": "none",
         "line": {
          "smoothing": 1.3
         },
         "reversescale": false,
         "showscale": false,
         "type": "contour",
         "x": [
          "auto",
          "scale"
         ],
         "xaxis": "x2",
         "y": [
          0.00869008783944295,
          0.012143096823549518,
          0.026554230868065267,
          0.03499617688808586,
          0.04111714115664755,
          0.046089231102795405,
          0.09597493568860846,
          0.11686244133073516,
          0.19687493724150107,
          0.27882393919168064,
          0.2851284359431068,
          0.3621844556437957,
          0.39383942450460424,
          0.4015553288366672,
          0.4980521794778418,
          0.5146113432549427,
          0.5818525776592376,
          0.6142515946747281,
          0.6480869209208344,
          0.7836686279602519,
          0.8413808358820025,
          0.876596000894981,
          0.9076363682186189,
          0.9276566618643377,
          0.973788182629961,
          0.9889348050058239,
          0.9904767501053444,
          1.0529470400258216,
          1.279156779580503,
          1.2846416128425218,
          1.3815880429813183,
          1.5904163312291153,
          1.6014333356962671,
          1.910999810644982,
          1.9431657249199208,
          2.0591564482583657,
          2.4675477613592345,
          2.650965968270078,
          2.7274652063963454,
          2.8532492194031094,
          2.8779664350014134,
          3.0672361660367025,
          3.141043061182334,
          3.1963680716447933,
          3.9153433857642326,
          4.266679897093789,
          4.274290891825934,
          4.630210285154217,
          4.875103196646984,
          5.3043047389051345,
          9.782171880109399,
          13.66912078214231
         ],
         "yaxis": "y2",
         "z": [
          [
           null,
           null
          ],
          [
           0.4086971595103358,
           null
          ],
          [
           0.03431970260223048,
           null
          ],
          [
           0.03431970260223048,
           null
          ],
          [
           null,
           0.3440596910620287
          ],
          [
           null,
           0.5477464462381204
          ],
          [
           null,
           0.5078477515777273
          ],
          [
           null,
           0.5269270526709142
          ],
          [
           null,
           0.5636866565502585
          ],
          [
           null,
           0.584593389409293
          ],
          [
           null,
           0.5864746691576213
          ],
          [
           0.6141124294167423,
           null
          ],
          [
           0.6154665905381511,
           null
          ],
          [
           null,
           0.6076461312834815
          ],
          [
           null,
           0.6200596105234972
          ],
          [
           null,
           0.6215843687227763
          ],
          [
           null,
           0.6264856603090225
          ],
          [
           null,
           0.6200452406281155
          ],
          [
           0.6228135640479411,
           null
          ],
          [
           null,
           0.6332029109703179
          ],
          [
           0.6251290972620459,
           null
          ],
          [
           null,
           0.6344126834398166
          ],
          [
           null,
           0.633038112379446
          ],
          [
           null,
           0.6338287651041521
          ],
          [
           0.6255603746042705,
           null
          ],
          [
           null,
           0.6340339582223975
          ],
          [
           null,
           0.6340339582223975
          ],
          [
           null,
           0.6363368010315259
          ],
          [
           0.6260939230227985,
           null
          ],
          [
           0.6256055155417102,
           null
          ],
          [
           0.6248009353737188,
           null
          ],
          [
           0.625981643883754,
           null
          ],
          [
           0.6258510094965027,
           null
          ],
          [
           0.623786509836864,
           null
          ],
          [
           0.6236602563870367,
           null
          ],
          [
           0.6237309727024284,
           null
          ],
          [
           null,
           0.651194884543296
          ],
          [
           null,
           0.6516417553413782
          ],
          [
           null,
           0.6528840905833782
          ],
          [
           null,
           0.6541714448654339
          ],
          [
           null,
           0.6553925925413401
          ],
          [
           0.6215016038930324,
           null
          ],
          [
           0.6217920198414303,
           null
          ],
          [
           null,
           0.6561666555339485
          ],
          [
           null,
           0.6572999323446688
          ],
          [
           null,
           0.6562734227970017
          ],
          [
           null,
           0.6561039571427711
          ],
          [
           null,
           0.6546578262226566
          ],
          [
           0.6227801573103362,
           null
          ],
          [
           0.6231594961947701,
           null
          ],
          [
           0.6211225131596293,
           null
          ],
          [
           null,
           null
          ]
         ]
        },
        {
         "marker": {
          "color": "black",
          "line": {
           "color": "Grey",
           "width": 2
          }
         },
         "mode": "markers",
         "showlegend": false,
         "type": "scatter",
         "x": [
          "scale",
          "auto",
          "auto",
          "auto",
          "scale",
          "auto",
          "auto",
          "scale",
          "scale",
          "scale",
          "auto",
          "auto",
          "auto",
          "auto",
          "auto",
          "auto",
          "auto",
          "auto",
          "auto",
          "auto",
          "auto",
          "auto",
          "auto",
          "auto",
          "auto",
          "auto",
          "scale",
          "scale",
          "scale",
          "scale",
          "scale",
          "scale",
          "scale",
          "scale",
          "scale",
          "scale",
          "scale",
          "scale",
          "scale",
          "scale",
          "scale",
          "scale",
          "scale",
          "scale",
          "scale",
          "scale",
          "scale",
          "scale",
          "scale",
          "scale"
         ],
         "xaxis": "x2",
         "y": [
          0.04111714115664755,
          3.141043061182334,
          0.03499617688808586,
          0.39383942450460424,
          0.09597493568860846,
          0.026554230868065267,
          0.012143096823549518,
          0.11686244133073516,
          0.6142515946747281,
          0.046089231102795405,
          4.875103196646984,
          5.3043047389051345,
          9.782171880109399,
          2.0591564482583657,
          1.5904163312291153,
          1.279156779580503,
          1.2846416128425218,
          0.973788182629961,
          1.6014333356962671,
          0.6480869209208344,
          0.3621844556437957,
          1.9431657249199208,
          1.3815880429813183,
          0.8413808358820025,
          1.910999810644982,
          3.0672361660367025,
          0.5818525776592376,
          0.19687493724150107,
          0.5146113432549427,
          0.27882393919168064,
          1.0529470400258216,
          0.9904767501053444,
          0.9076363682186189,
          0.7836686279602519,
          0.9276566618643377,
          0.4015553288366672,
          0.876596000894981,
          0.9889348050058239,
          0.4980521794778418,
          0.2851284359431068,
          2.650965968270078,
          2.4675477613592345,
          2.7274652063963454,
          2.8532492194031094,
          2.8779664350014134,
          3.1963680716447933,
          4.630210285154217,
          3.9153433857642326,
          4.266679897093789,
          4.274290891825934
         ],
         "yaxis": "y2"
        },
        {
         "type": "scatter",
         "xaxis": "x5",
         "yaxis": "y5"
        },
        {
         "colorbar": {
          "title": {
           "text": "Objective Value"
          }
         },
         "colorscale": [
          [
           0,
           "rgb(247,251,255)"
          ],
          [
           0.125,
           "rgb(222,235,247)"
          ],
          [
           0.25,
           "rgb(198,219,239)"
          ],
          [
           0.375,
           "rgb(158,202,225)"
          ],
          [
           0.5,
           "rgb(107,174,214)"
          ],
          [
           0.625,
           "rgb(66,146,198)"
          ],
          [
           0.75,
           "rgb(33,113,181)"
          ],
          [
           0.875,
           "rgb(8,81,156)"
          ],
          [
           1,
           "rgb(8,48,107)"
          ]
         ],
         "connectgaps": true,
         "contours": {
          "coloring": "heatmap"
         },
         "hoverinfo": "none",
         "line": {
          "smoothing": 1.3
         },
         "reversescale": false,
         "showscale": false,
         "type": "contour",
         "x": [
          "auto",
          "scale"
         ],
         "xaxis": "x8",
         "y": [
          "linear",
          "rbf"
         ],
         "yaxis": "y8",
         "z": [
          [
           0.6215016038930324,
           0.5477464462381204
          ],
          [
           0.03431970260223048,
           0.6561039571427711
          ]
         ]
        },
        {
         "marker": {
          "color": "black",
          "line": {
           "color": "Grey",
           "width": 2
          }
         },
         "mode": "markers",
         "showlegend": false,
         "type": "scatter",
         "x": [
          "scale",
          "auto",
          "auto",
          "auto",
          "scale",
          "auto",
          "auto",
          "scale",
          "scale",
          "scale",
          "auto",
          "auto",
          "auto",
          "auto",
          "auto",
          "auto",
          "auto",
          "auto",
          "auto",
          "auto",
          "auto",
          "auto",
          "auto",
          "auto",
          "auto",
          "auto",
          "scale",
          "scale",
          "scale",
          "scale",
          "scale",
          "scale",
          "scale",
          "scale",
          "scale",
          "scale",
          "scale",
          "scale",
          "scale",
          "scale",
          "scale",
          "scale",
          "scale",
          "scale",
          "scale",
          "scale",
          "scale",
          "scale",
          "scale",
          "scale"
         ],
         "xaxis": "x8",
         "y": [
          "rbf",
          "linear",
          "rbf",
          "linear",
          "rbf",
          "rbf",
          "linear",
          "rbf",
          "linear",
          "linear",
          "linear",
          "linear",
          "linear",
          "linear",
          "linear",
          "linear",
          "linear",
          "linear",
          "linear",
          "linear",
          "linear",
          "linear",
          "linear",
          "linear",
          "linear",
          "linear",
          "rbf",
          "rbf",
          "rbf",
          "rbf",
          "rbf",
          "rbf",
          "rbf",
          "rbf",
          "rbf",
          "rbf",
          "rbf",
          "rbf",
          "rbf",
          "rbf",
          "rbf",
          "rbf",
          "rbf",
          "rbf",
          "rbf",
          "rbf",
          "rbf",
          "rbf",
          "rbf",
          "rbf"
         ],
         "yaxis": "y8"
        },
        {
         "colorbar": {
          "title": {
           "text": "Objective Value"
          }
         },
         "colorscale": [
          [
           0,
           "rgb(247,251,255)"
          ],
          [
           0.125,
           "rgb(222,235,247)"
          ],
          [
           0.25,
           "rgb(198,219,239)"
          ],
          [
           0.375,
           "rgb(158,202,225)"
          ],
          [
           0.5,
           "rgb(107,174,214)"
          ],
          [
           0.625,
           "rgb(66,146,198)"
          ],
          [
           0.75,
           "rgb(33,113,181)"
          ],
          [
           0.875,
           "rgb(8,81,156)"
          ],
          [
           1,
           "rgb(8,48,107)"
          ]
         ],
         "connectgaps": true,
         "contours": {
          "coloring": "heatmap"
         },
         "hoverinfo": "none",
         "line": {
          "smoothing": 1.3
         },
         "reversescale": false,
         "showscale": false,
         "type": "contour",
         "x": [
          "linear",
          "rbf"
         ],
         "xaxis": "x3",
         "y": [
          0.00869008783944295,
          0.012143096823549518,
          0.026554230868065267,
          0.03499617688808586,
          0.04111714115664755,
          0.046089231102795405,
          0.09597493568860846,
          0.11686244133073516,
          0.19687493724150107,
          0.27882393919168064,
          0.2851284359431068,
          0.3621844556437957,
          0.39383942450460424,
          0.4015553288366672,
          0.4980521794778418,
          0.5146113432549427,
          0.5818525776592376,
          0.6142515946747281,
          0.6480869209208344,
          0.7836686279602519,
          0.8413808358820025,
          0.876596000894981,
          0.9076363682186189,
          0.9276566618643377,
          0.973788182629961,
          0.9889348050058239,
          0.9904767501053444,
          1.0529470400258216,
          1.279156779580503,
          1.2846416128425218,
          1.3815880429813183,
          1.5904163312291153,
          1.6014333356962671,
          1.910999810644982,
          1.9431657249199208,
          2.0591564482583657,
          2.4675477613592345,
          2.650965968270078,
          2.7274652063963454,
          2.8532492194031094,
          2.8779664350014134,
          3.0672361660367025,
          3.141043061182334,
          3.1963680716447933,
          3.9153433857642326,
          4.266679897093789,
          4.274290891825934,
          4.630210285154217,
          4.875103196646984,
          5.3043047389051345,
          9.782171880109399,
          13.66912078214231
         ],
         "yaxis": "y3",
         "z": [
          [
           null,
           null
          ],
          [
           0.4086971595103358,
           null
          ],
          [
           null,
           0.03431970260223048
          ],
          [
           null,
           0.03431970260223048
          ],
          [
           null,
           0.3440596910620287
          ],
          [
           0.5477464462381204,
           null
          ],
          [
           null,
           0.5078477515777273
          ],
          [
           null,
           0.5269270526709142
          ],
          [
           null,
           0.5636866565502585
          ],
          [
           null,
           0.584593389409293
          ],
          [
           null,
           0.5864746691576213
          ],
          [
           0.6141124294167423,
           null
          ],
          [
           0.6154665905381511,
           null
          ],
          [
           null,
           0.6076461312834815
          ],
          [
           null,
           0.6200596105234972
          ],
          [
           null,
           0.6215843687227763
          ],
          [
           null,
           0.6264856603090225
          ],
          [
           0.6200452406281155,
           null
          ],
          [
           0.6228135640479411,
           null
          ],
          [
           null,
           0.6332029109703179
          ],
          [
           0.6251290972620459,
           null
          ],
          [
           null,
           0.6344126834398166
          ],
          [
           null,
           0.633038112379446
          ],
          [
           null,
           0.6338287651041521
          ],
          [
           0.6255603746042705,
           null
          ],
          [
           null,
           0.6340339582223975
          ],
          [
           null,
           0.6340339582223975
          ],
          [
           null,
           0.6363368010315259
          ],
          [
           0.6260939230227985,
           null
          ],
          [
           0.6256055155417102,
           null
          ],
          [
           0.6248009353737188,
           null
          ],
          [
           0.625981643883754,
           null
          ],
          [
           0.6258510094965027,
           null
          ],
          [
           0.623786509836864,
           null
          ],
          [
           0.6236602563870367,
           null
          ],
          [
           0.6237309727024284,
           null
          ],
          [
           null,
           0.651194884543296
          ],
          [
           null,
           0.6516417553413782
          ],
          [
           null,
           0.6528840905833782
          ],
          [
           null,
           0.6541714448654339
          ],
          [
           null,
           0.6553925925413401
          ],
          [
           0.6215016038930324,
           null
          ],
          [
           0.6217920198414303,
           null
          ],
          [
           null,
           0.6561666555339485
          ],
          [
           null,
           0.6572999323446688
          ],
          [
           null,
           0.6562734227970017
          ],
          [
           null,
           0.6561039571427711
          ],
          [
           null,
           0.6546578262226566
          ],
          [
           0.6227801573103362,
           null
          ],
          [
           0.6231594961947701,
           null
          ],
          [
           0.6211225131596293,
           null
          ],
          [
           null,
           null
          ]
         ]
        },
        {
         "marker": {
          "color": "black",
          "line": {
           "color": "Grey",
           "width": 2
          }
         },
         "mode": "markers",
         "showlegend": false,
         "type": "scatter",
         "x": [
          "rbf",
          "linear",
          "rbf",
          "linear",
          "rbf",
          "rbf",
          "linear",
          "rbf",
          "linear",
          "linear",
          "linear",
          "linear",
          "linear",
          "linear",
          "linear",
          "linear",
          "linear",
          "linear",
          "linear",
          "linear",
          "linear",
          "linear",
          "linear",
          "linear",
          "linear",
          "linear",
          "rbf",
          "rbf",
          "rbf",
          "rbf",
          "rbf",
          "rbf",
          "rbf",
          "rbf",
          "rbf",
          "rbf",
          "rbf",
          "rbf",
          "rbf",
          "rbf",
          "rbf",
          "rbf",
          "rbf",
          "rbf",
          "rbf",
          "rbf",
          "rbf",
          "rbf",
          "rbf",
          "rbf"
         ],
         "xaxis": "x3",
         "y": [
          0.04111714115664755,
          3.141043061182334,
          0.03499617688808586,
          0.39383942450460424,
          0.09597493568860846,
          0.026554230868065267,
          0.012143096823549518,
          0.11686244133073516,
          0.6142515946747281,
          0.046089231102795405,
          4.875103196646984,
          5.3043047389051345,
          9.782171880109399,
          2.0591564482583657,
          1.5904163312291153,
          1.279156779580503,
          1.2846416128425218,
          0.973788182629961,
          1.6014333356962671,
          0.6480869209208344,
          0.3621844556437957,
          1.9431657249199208,
          1.3815880429813183,
          0.8413808358820025,
          1.910999810644982,
          3.0672361660367025,
          0.5818525776592376,
          0.19687493724150107,
          0.5146113432549427,
          0.27882393919168064,
          1.0529470400258216,
          0.9904767501053444,
          0.9076363682186189,
          0.7836686279602519,
          0.9276566618643377,
          0.4015553288366672,
          0.876596000894981,
          0.9889348050058239,
          0.4980521794778418,
          0.2851284359431068,
          2.650965968270078,
          2.4675477613592345,
          2.7274652063963454,
          2.8532492194031094,
          2.8779664350014134,
          3.1963680716447933,
          4.630210285154217,
          3.9153433857642326,
          4.266679897093789,
          4.274290891825934
         ],
         "yaxis": "y3"
        },
        {
         "colorbar": {
          "title": {
           "text": "Objective Value"
          }
         },
         "colorscale": [
          [
           0,
           "rgb(247,251,255)"
          ],
          [
           0.125,
           "rgb(222,235,247)"
          ],
          [
           0.25,
           "rgb(198,219,239)"
          ],
          [
           0.375,
           "rgb(158,202,225)"
          ],
          [
           0.5,
           "rgb(107,174,214)"
          ],
          [
           0.625,
           "rgb(66,146,198)"
          ],
          [
           0.75,
           "rgb(33,113,181)"
          ],
          [
           0.875,
           "rgb(8,81,156)"
          ],
          [
           1,
           "rgb(8,48,107)"
          ]
         ],
         "connectgaps": true,
         "contours": {
          "coloring": "heatmap"
         },
         "hoverinfo": "none",
         "line": {
          "smoothing": 1.3
         },
         "reversescale": false,
         "showscale": false,
         "type": "contour",
         "x": [
          "linear",
          "rbf"
         ],
         "xaxis": "x6",
         "y": [
          "auto",
          "scale"
         ],
         "yaxis": "y6",
         "z": [
          [
           0.6215016038930324,
           0.03431970260223048
          ],
          [
           0.5477464462381204,
           0.6561039571427711
          ]
         ]
        },
        {
         "marker": {
          "color": "black",
          "line": {
           "color": "Grey",
           "width": 2
          }
         },
         "mode": "markers",
         "showlegend": false,
         "type": "scatter",
         "x": [
          "rbf",
          "linear",
          "rbf",
          "linear",
          "rbf",
          "rbf",
          "linear",
          "rbf",
          "linear",
          "linear",
          "linear",
          "linear",
          "linear",
          "linear",
          "linear",
          "linear",
          "linear",
          "linear",
          "linear",
          "linear",
          "linear",
          "linear",
          "linear",
          "linear",
          "linear",
          "linear",
          "rbf",
          "rbf",
          "rbf",
          "rbf",
          "rbf",
          "rbf",
          "rbf",
          "rbf",
          "rbf",
          "rbf",
          "rbf",
          "rbf",
          "rbf",
          "rbf",
          "rbf",
          "rbf",
          "rbf",
          "rbf",
          "rbf",
          "rbf",
          "rbf",
          "rbf",
          "rbf",
          "rbf"
         ],
         "xaxis": "x6",
         "y": [
          "scale",
          "auto",
          "auto",
          "auto",
          "scale",
          "auto",
          "auto",
          "scale",
          "scale",
          "scale",
          "auto",
          "auto",
          "auto",
          "auto",
          "auto",
          "auto",
          "auto",
          "auto",
          "auto",
          "auto",
          "auto",
          "auto",
          "auto",
          "auto",
          "auto",
          "auto",
          "scale",
          "scale",
          "scale",
          "scale",
          "scale",
          "scale",
          "scale",
          "scale",
          "scale",
          "scale",
          "scale",
          "scale",
          "scale",
          "scale",
          "scale",
          "scale",
          "scale",
          "scale",
          "scale",
          "scale",
          "scale",
          "scale",
          "scale",
          "scale"
         ],
         "yaxis": "y6"
        },
        {
         "type": "scatter",
         "xaxis": "x9",
         "yaxis": "y9"
        }
       ],
       "layout": {
        "template": {
         "data": {
          "bar": [
           {
            "error_x": {
             "color": "#2a3f5f"
            },
            "error_y": {
             "color": "#2a3f5f"
            },
            "marker": {
             "line": {
              "color": "#E5ECF6",
              "width": 0.5
             },
             "pattern": {
              "fillmode": "overlay",
              "size": 10,
              "solidity": 0.2
             }
            },
            "type": "bar"
           }
          ],
          "barpolar": [
           {
            "marker": {
             "line": {
              "color": "#E5ECF6",
              "width": 0.5
             },
             "pattern": {
              "fillmode": "overlay",
              "size": 10,
              "solidity": 0.2
             }
            },
            "type": "barpolar"
           }
          ],
          "carpet": [
           {
            "aaxis": {
             "endlinecolor": "#2a3f5f",
             "gridcolor": "white",
             "linecolor": "white",
             "minorgridcolor": "white",
             "startlinecolor": "#2a3f5f"
            },
            "baxis": {
             "endlinecolor": "#2a3f5f",
             "gridcolor": "white",
             "linecolor": "white",
             "minorgridcolor": "white",
             "startlinecolor": "#2a3f5f"
            },
            "type": "carpet"
           }
          ],
          "choropleth": [
           {
            "colorbar": {
             "outlinewidth": 0,
             "ticks": ""
            },
            "type": "choropleth"
           }
          ],
          "contour": [
           {
            "colorbar": {
             "outlinewidth": 0,
             "ticks": ""
            },
            "colorscale": [
             [
              0,
              "#0d0887"
             ],
             [
              0.1111111111111111,
              "#46039f"
             ],
             [
              0.2222222222222222,
              "#7201a8"
             ],
             [
              0.3333333333333333,
              "#9c179e"
             ],
             [
              0.4444444444444444,
              "#bd3786"
             ],
             [
              0.5555555555555556,
              "#d8576b"
             ],
             [
              0.6666666666666666,
              "#ed7953"
             ],
             [
              0.7777777777777778,
              "#fb9f3a"
             ],
             [
              0.8888888888888888,
              "#fdca26"
             ],
             [
              1,
              "#f0f921"
             ]
            ],
            "type": "contour"
           }
          ],
          "contourcarpet": [
           {
            "colorbar": {
             "outlinewidth": 0,
             "ticks": ""
            },
            "type": "contourcarpet"
           }
          ],
          "heatmap": [
           {
            "colorbar": {
             "outlinewidth": 0,
             "ticks": ""
            },
            "colorscale": [
             [
              0,
              "#0d0887"
             ],
             [
              0.1111111111111111,
              "#46039f"
             ],
             [
              0.2222222222222222,
              "#7201a8"
             ],
             [
              0.3333333333333333,
              "#9c179e"
             ],
             [
              0.4444444444444444,
              "#bd3786"
             ],
             [
              0.5555555555555556,
              "#d8576b"
             ],
             [
              0.6666666666666666,
              "#ed7953"
             ],
             [
              0.7777777777777778,
              "#fb9f3a"
             ],
             [
              0.8888888888888888,
              "#fdca26"
             ],
             [
              1,
              "#f0f921"
             ]
            ],
            "type": "heatmap"
           }
          ],
          "heatmapgl": [
           {
            "colorbar": {
             "outlinewidth": 0,
             "ticks": ""
            },
            "colorscale": [
             [
              0,
              "#0d0887"
             ],
             [
              0.1111111111111111,
              "#46039f"
             ],
             [
              0.2222222222222222,
              "#7201a8"
             ],
             [
              0.3333333333333333,
              "#9c179e"
             ],
             [
              0.4444444444444444,
              "#bd3786"
             ],
             [
              0.5555555555555556,
              "#d8576b"
             ],
             [
              0.6666666666666666,
              "#ed7953"
             ],
             [
              0.7777777777777778,
              "#fb9f3a"
             ],
             [
              0.8888888888888888,
              "#fdca26"
             ],
             [
              1,
              "#f0f921"
             ]
            ],
            "type": "heatmapgl"
           }
          ],
          "histogram": [
           {
            "marker": {
             "pattern": {
              "fillmode": "overlay",
              "size": 10,
              "solidity": 0.2
             }
            },
            "type": "histogram"
           }
          ],
          "histogram2d": [
           {
            "colorbar": {
             "outlinewidth": 0,
             "ticks": ""
            },
            "colorscale": [
             [
              0,
              "#0d0887"
             ],
             [
              0.1111111111111111,
              "#46039f"
             ],
             [
              0.2222222222222222,
              "#7201a8"
             ],
             [
              0.3333333333333333,
              "#9c179e"
             ],
             [
              0.4444444444444444,
              "#bd3786"
             ],
             [
              0.5555555555555556,
              "#d8576b"
             ],
             [
              0.6666666666666666,
              "#ed7953"
             ],
             [
              0.7777777777777778,
              "#fb9f3a"
             ],
             [
              0.8888888888888888,
              "#fdca26"
             ],
             [
              1,
              "#f0f921"
             ]
            ],
            "type": "histogram2d"
           }
          ],
          "histogram2dcontour": [
           {
            "colorbar": {
             "outlinewidth": 0,
             "ticks": ""
            },
            "colorscale": [
             [
              0,
              "#0d0887"
             ],
             [
              0.1111111111111111,
              "#46039f"
             ],
             [
              0.2222222222222222,
              "#7201a8"
             ],
             [
              0.3333333333333333,
              "#9c179e"
             ],
             [
              0.4444444444444444,
              "#bd3786"
             ],
             [
              0.5555555555555556,
              "#d8576b"
             ],
             [
              0.6666666666666666,
              "#ed7953"
             ],
             [
              0.7777777777777778,
              "#fb9f3a"
             ],
             [
              0.8888888888888888,
              "#fdca26"
             ],
             [
              1,
              "#f0f921"
             ]
            ],
            "type": "histogram2dcontour"
           }
          ],
          "mesh3d": [
           {
            "colorbar": {
             "outlinewidth": 0,
             "ticks": ""
            },
            "type": "mesh3d"
           }
          ],
          "parcoords": [
           {
            "line": {
             "colorbar": {
              "outlinewidth": 0,
              "ticks": ""
             }
            },
            "type": "parcoords"
           }
          ],
          "pie": [
           {
            "automargin": true,
            "type": "pie"
           }
          ],
          "scatter": [
           {
            "fillpattern": {
             "fillmode": "overlay",
             "size": 10,
             "solidity": 0.2
            },
            "type": "scatter"
           }
          ],
          "scatter3d": [
           {
            "line": {
             "colorbar": {
              "outlinewidth": 0,
              "ticks": ""
             }
            },
            "marker": {
             "colorbar": {
              "outlinewidth": 0,
              "ticks": ""
             }
            },
            "type": "scatter3d"
           }
          ],
          "scattercarpet": [
           {
            "marker": {
             "colorbar": {
              "outlinewidth": 0,
              "ticks": ""
             }
            },
            "type": "scattercarpet"
           }
          ],
          "scattergeo": [
           {
            "marker": {
             "colorbar": {
              "outlinewidth": 0,
              "ticks": ""
             }
            },
            "type": "scattergeo"
           }
          ],
          "scattergl": [
           {
            "marker": {
             "colorbar": {
              "outlinewidth": 0,
              "ticks": ""
             }
            },
            "type": "scattergl"
           }
          ],
          "scattermapbox": [
           {
            "marker": {
             "colorbar": {
              "outlinewidth": 0,
              "ticks": ""
             }
            },
            "type": "scattermapbox"
           }
          ],
          "scatterpolar": [
           {
            "marker": {
             "colorbar": {
              "outlinewidth": 0,
              "ticks": ""
             }
            },
            "type": "scatterpolar"
           }
          ],
          "scatterpolargl": [
           {
            "marker": {
             "colorbar": {
              "outlinewidth": 0,
              "ticks": ""
             }
            },
            "type": "scatterpolargl"
           }
          ],
          "scatterternary": [
           {
            "marker": {
             "colorbar": {
              "outlinewidth": 0,
              "ticks": ""
             }
            },
            "type": "scatterternary"
           }
          ],
          "surface": [
           {
            "colorbar": {
             "outlinewidth": 0,
             "ticks": ""
            },
            "colorscale": [
             [
              0,
              "#0d0887"
             ],
             [
              0.1111111111111111,
              "#46039f"
             ],
             [
              0.2222222222222222,
              "#7201a8"
             ],
             [
              0.3333333333333333,
              "#9c179e"
             ],
             [
              0.4444444444444444,
              "#bd3786"
             ],
             [
              0.5555555555555556,
              "#d8576b"
             ],
             [
              0.6666666666666666,
              "#ed7953"
             ],
             [
              0.7777777777777778,
              "#fb9f3a"
             ],
             [
              0.8888888888888888,
              "#fdca26"
             ],
             [
              1,
              "#f0f921"
             ]
            ],
            "type": "surface"
           }
          ],
          "table": [
           {
            "cells": {
             "fill": {
              "color": "#EBF0F8"
             },
             "line": {
              "color": "white"
             }
            },
            "header": {
             "fill": {
              "color": "#C8D4E3"
             },
             "line": {
              "color": "white"
             }
            },
            "type": "table"
           }
          ]
         },
         "layout": {
          "annotationdefaults": {
           "arrowcolor": "#2a3f5f",
           "arrowhead": 0,
           "arrowwidth": 1
          },
          "autotypenumbers": "strict",
          "coloraxis": {
           "colorbar": {
            "outlinewidth": 0,
            "ticks": ""
           }
          },
          "colorscale": {
           "diverging": [
            [
             0,
             "#8e0152"
            ],
            [
             0.1,
             "#c51b7d"
            ],
            [
             0.2,
             "#de77ae"
            ],
            [
             0.3,
             "#f1b6da"
            ],
            [
             0.4,
             "#fde0ef"
            ],
            [
             0.5,
             "#f7f7f7"
            ],
            [
             0.6,
             "#e6f5d0"
            ],
            [
             0.7,
             "#b8e186"
            ],
            [
             0.8,
             "#7fbc41"
            ],
            [
             0.9,
             "#4d9221"
            ],
            [
             1,
             "#276419"
            ]
           ],
           "sequential": [
            [
             0,
             "#0d0887"
            ],
            [
             0.1111111111111111,
             "#46039f"
            ],
            [
             0.2222222222222222,
             "#7201a8"
            ],
            [
             0.3333333333333333,
             "#9c179e"
            ],
            [
             0.4444444444444444,
             "#bd3786"
            ],
            [
             0.5555555555555556,
             "#d8576b"
            ],
            [
             0.6666666666666666,
             "#ed7953"
            ],
            [
             0.7777777777777778,
             "#fb9f3a"
            ],
            [
             0.8888888888888888,
             "#fdca26"
            ],
            [
             1,
             "#f0f921"
            ]
           ],
           "sequentialminus": [
            [
             0,
             "#0d0887"
            ],
            [
             0.1111111111111111,
             "#46039f"
            ],
            [
             0.2222222222222222,
             "#7201a8"
            ],
            [
             0.3333333333333333,
             "#9c179e"
            ],
            [
             0.4444444444444444,
             "#bd3786"
            ],
            [
             0.5555555555555556,
             "#d8576b"
            ],
            [
             0.6666666666666666,
             "#ed7953"
            ],
            [
             0.7777777777777778,
             "#fb9f3a"
            ],
            [
             0.8888888888888888,
             "#fdca26"
            ],
            [
             1,
             "#f0f921"
            ]
           ]
          },
          "colorway": [
           "#636efa",
           "#EF553B",
           "#00cc96",
           "#ab63fa",
           "#FFA15A",
           "#19d3f3",
           "#FF6692",
           "#B6E880",
           "#FF97FF",
           "#FECB52"
          ],
          "font": {
           "color": "#2a3f5f"
          },
          "geo": {
           "bgcolor": "white",
           "lakecolor": "white",
           "landcolor": "#E5ECF6",
           "showlakes": true,
           "showland": true,
           "subunitcolor": "white"
          },
          "hoverlabel": {
           "align": "left"
          },
          "hovermode": "closest",
          "mapbox": {
           "style": "light"
          },
          "paper_bgcolor": "white",
          "plot_bgcolor": "#E5ECF6",
          "polar": {
           "angularaxis": {
            "gridcolor": "white",
            "linecolor": "white",
            "ticks": ""
           },
           "bgcolor": "#E5ECF6",
           "radialaxis": {
            "gridcolor": "white",
            "linecolor": "white",
            "ticks": ""
           }
          },
          "scene": {
           "xaxis": {
            "backgroundcolor": "#E5ECF6",
            "gridcolor": "white",
            "gridwidth": 2,
            "linecolor": "white",
            "showbackground": true,
            "ticks": "",
            "zerolinecolor": "white"
           },
           "yaxis": {
            "backgroundcolor": "#E5ECF6",
            "gridcolor": "white",
            "gridwidth": 2,
            "linecolor": "white",
            "showbackground": true,
            "ticks": "",
            "zerolinecolor": "white"
           },
           "zaxis": {
            "backgroundcolor": "#E5ECF6",
            "gridcolor": "white",
            "gridwidth": 2,
            "linecolor": "white",
            "showbackground": true,
            "ticks": "",
            "zerolinecolor": "white"
           }
          },
          "shapedefaults": {
           "line": {
            "color": "#2a3f5f"
           }
          },
          "ternary": {
           "aaxis": {
            "gridcolor": "white",
            "linecolor": "white",
            "ticks": ""
           },
           "baxis": {
            "gridcolor": "white",
            "linecolor": "white",
            "ticks": ""
           },
           "bgcolor": "#E5ECF6",
           "caxis": {
            "gridcolor": "white",
            "linecolor": "white",
            "ticks": ""
           }
          },
          "title": {
           "x": 0.05
          },
          "xaxis": {
           "automargin": true,
           "gridcolor": "white",
           "linecolor": "white",
           "ticks": "",
           "title": {
            "standoff": 15
           },
           "zerolinecolor": "white",
           "zerolinewidth": 2
          },
          "yaxis": {
           "automargin": true,
           "gridcolor": "white",
           "linecolor": "white",
           "ticks": "",
           "title": {
            "standoff": 15
           },
           "zerolinecolor": "white",
           "zerolinewidth": 2
          }
         }
        },
        "title": {
         "text": "Contour Plot"
        },
        "xaxis": {
         "anchor": "y",
         "domain": [
          0,
          0.2888888888888889
         ],
         "matches": "x7",
         "range": [
          -2.0609758336787714,
          1.1357405810093761
         ],
         "showticklabels": false,
         "type": "log"
        },
        "xaxis2": {
         "anchor": "y2",
         "domain": [
          0.35555555555555557,
          0.6444444444444445
         ],
         "matches": "x8",
         "range": [
          -0.05,
          1.05
         ],
         "showticklabels": false,
         "type": "category"
        },
        "xaxis3": {
         "anchor": "y3",
         "domain": [
          0.7111111111111111,
          1
         ],
         "matches": "x9",
         "range": [
          -0.05,
          1.05
         ],
         "showticklabels": false,
         "type": "category"
        },
        "xaxis4": {
         "anchor": "y4",
         "domain": [
          0,
          0.2888888888888889
         ],
         "matches": "x7",
         "range": [
          -2.0609758336787714,
          1.1357405810093761
         ],
         "showticklabels": false,
         "type": "log"
        },
        "xaxis5": {
         "anchor": "y5",
         "domain": [
          0.35555555555555557,
          0.6444444444444445
         ],
         "matches": "x8",
         "range": [
          -0.05,
          1.05
         ],
         "showticklabels": false,
         "type": "category"
        },
        "xaxis6": {
         "anchor": "y6",
         "domain": [
          0.7111111111111111,
          1
         ],
         "matches": "x9",
         "range": [
          -0.05,
          1.05
         ],
         "showticklabels": false,
         "type": "category"
        },
        "xaxis7": {
         "anchor": "y7",
         "domain": [
          0,
          0.2888888888888889
         ],
         "range": [
          -2.0609758336787714,
          1.1357405810093761
         ],
         "title": {
          "text": "c"
         },
         "type": "log"
        },
        "xaxis8": {
         "anchor": "y8",
         "domain": [
          0.35555555555555557,
          0.6444444444444445
         ],
         "range": [
          -0.05,
          1.05
         ],
         "title": {
          "text": "gamma"
         },
         "type": "category"
        },
        "xaxis9": {
         "anchor": "y9",
         "domain": [
          0.7111111111111111,
          1
         ],
         "range": [
          -0.05,
          1.05
         ],
         "title": {
          "text": "kernel"
         },
         "type": "category"
        },
        "yaxis": {
         "anchor": "x",
         "domain": [
          0.7333333333333333,
          1
         ],
         "range": [
          -2.0609758336787714,
          1.1357405810093761
         ],
         "title": {
          "text": "c"
         },
         "type": "log"
        },
        "yaxis2": {
         "anchor": "x2",
         "domain": [
          0.7333333333333333,
          1
         ],
         "matches": "y",
         "range": [
          -2.0609758336787714,
          1.1357405810093761
         ],
         "showticklabels": false,
         "type": "log"
        },
        "yaxis3": {
         "anchor": "x3",
         "domain": [
          0.7333333333333333,
          1
         ],
         "matches": "y",
         "range": [
          -2.0609758336787714,
          1.1357405810093761
         ],
         "showticklabels": false,
         "type": "log"
        },
        "yaxis4": {
         "anchor": "x4",
         "domain": [
          0.36666666666666664,
          0.6333333333333333
         ],
         "range": [
          -0.05,
          1.05
         ],
         "title": {
          "text": "gamma"
         },
         "type": "category"
        },
        "yaxis5": {
         "anchor": "x5",
         "domain": [
          0.36666666666666664,
          0.6333333333333333
         ],
         "matches": "y4",
         "range": [
          -0.05,
          1.05
         ],
         "showticklabels": false,
         "type": "category"
        },
        "yaxis6": {
         "anchor": "x6",
         "domain": [
          0.36666666666666664,
          0.6333333333333333
         ],
         "matches": "y4",
         "range": [
          -0.05,
          1.05
         ],
         "showticklabels": false,
         "type": "category"
        },
        "yaxis7": {
         "anchor": "x7",
         "domain": [
          0,
          0.26666666666666666
         ],
         "range": [
          -0.05,
          1.05
         ],
         "title": {
          "text": "kernel"
         },
         "type": "category"
        },
        "yaxis8": {
         "anchor": "x8",
         "domain": [
          0,
          0.26666666666666666
         ],
         "matches": "y7",
         "range": [
          -0.05,
          1.05
         ],
         "showticklabels": false,
         "type": "category"
        },
        "yaxis9": {
         "anchor": "x9",
         "domain": [
          0,
          0.26666666666666666
         ],
         "matches": "y7",
         "range": [
          -0.05,
          1.05
         ],
         "showticklabels": false,
         "type": "category"
        }
       }
      }
     },
     "metadata": {},
     "output_type": "display_data"
    }
   ],
   "source": [
    "plot_contour(study)"
   ]
  },
  {
   "cell_type": "code",
   "execution_count": 4,
   "metadata": {},
   "outputs": [
    {
     "data": {
      "application/vnd.plotly.v1+json": {
       "config": {
        "plotlyServerURL": "https://plot.ly"
       },
       "data": [
        {
         "mode": "lines",
         "name": "no-name-3079ce67-c799-45a7-9b0a-23186dd711a4",
         "type": "scatter",
         "x": [
          0.03431970260223048,
          0.040612432195588445,
          0.04690516178894641,
          0.053197891382304366,
          0.05949062097566233,
          0.0657833505690203,
          0.07207608016237825,
          0.07836880975573621,
          0.08466153934909418,
          0.09095426894245215,
          0.0972469985358101,
          0.10353972812916806,
          0.10983245772252602,
          0.11612518731588399,
          0.12241791690924195,
          0.12871064650259992,
          0.13500337609595786,
          0.14129610568931583,
          0.1475888352826738,
          0.15388156487603177,
          0.16017429446938974,
          0.16646702406274766,
          0.17275975365610563,
          0.1790524832494636,
          0.18534521284282157,
          0.19163794243617954,
          0.1979306720295375,
          0.20422340162289548,
          0.2105161312162534,
          0.21680886080961137,
          0.22310159040296934,
          0.2293943199963273,
          0.23568704958968528,
          0.24197977918304325,
          0.24827250877640117,
          0.25456523836975914,
          0.2608579679631171,
          0.2671506975564751,
          0.27344342714983305,
          0.279736156743191,
          0.286028886336549,
          0.29232161592990696,
          0.2986143455232649,
          0.30490707511662285,
          0.3111998047099808,
          0.3174925343033388,
          0.32378526389669676,
          0.33007799349005473,
          0.33637072308341265,
          0.3426634526767706,
          0.3489561822701286,
          0.35524891186348656,
          0.36154164145684453,
          0.3678343710502025,
          0.3741271006435605,
          0.3804198302369184,
          0.38671255983027636,
          0.39300528942363433,
          0.3992980190169923,
          0.40559074861035027,
          0.41188347820370824,
          0.41817620779706616,
          0.42446893739042413,
          0.4307616669837821,
          0.43705439657714007,
          0.44334712617049804,
          0.449639855763856,
          0.455932585357214,
          0.4622253149505719,
          0.46851804454392987,
          0.47481077413728784,
          0.4811035037306458,
          0.4873962333240038,
          0.49368896291736175,
          0.49998169251071967,
          0.5062744221040776,
          0.5125671516974356,
          0.5188598812907935,
          0.5251526108841515,
          0.5314453404775095,
          0.5377380700708675,
          0.5440307996642254,
          0.5503235292575834,
          0.5566162588509413,
          0.5629089884442993,
          0.5692017180376573,
          0.5754944476310152,
          0.5817871772243732,
          0.5880799068177311,
          0.5943726364110892,
          0.6006653660044471,
          0.606958095597805,
          0.613250825191163,
          0.619543554784521,
          0.625836284377879,
          0.6321290139712369,
          0.6384217435645948,
          0.6447144731579528,
          0.6510072027513107,
          0.6572999323446688
         ],
         "y": [
          0.04,
          0.04,
          0.04,
          0.04,
          0.04,
          0.04,
          0.04,
          0.04,
          0.04,
          0.04,
          0.04,
          0.04,
          0.04,
          0.04,
          0.04,
          0.04,
          0.04,
          0.04,
          0.04,
          0.04,
          0.04,
          0.04,
          0.04,
          0.04,
          0.04,
          0.04,
          0.04,
          0.04,
          0.04,
          0.04,
          0.04,
          0.04,
          0.04,
          0.04,
          0.04,
          0.04,
          0.04,
          0.04,
          0.04,
          0.04,
          0.04,
          0.04,
          0.04,
          0.04,
          0.04,
          0.04,
          0.04,
          0.04,
          0.04,
          0.04,
          0.06,
          0.06,
          0.06,
          0.06,
          0.06,
          0.06,
          0.06,
          0.06,
          0.06,
          0.06,
          0.08,
          0.08,
          0.08,
          0.08,
          0.08,
          0.08,
          0.08,
          0.08,
          0.08,
          0.08,
          0.08,
          0.08,
          0.08,
          0.08,
          0.08,
          0.08,
          0.1,
          0.1,
          0.1,
          0.12,
          0.12,
          0.12,
          0.14,
          0.14,
          0.14,
          0.16,
          0.16,
          0.16,
          0.2,
          0.2,
          0.2,
          0.2,
          0.22,
          0.26,
          0.58,
          0.66,
          0.8,
          0.8,
          0.8,
          1
         ]
        }
       ],
       "layout": {
        "template": {
         "data": {
          "bar": [
           {
            "error_x": {
             "color": "#2a3f5f"
            },
            "error_y": {
             "color": "#2a3f5f"
            },
            "marker": {
             "line": {
              "color": "#E5ECF6",
              "width": 0.5
             },
             "pattern": {
              "fillmode": "overlay",
              "size": 10,
              "solidity": 0.2
             }
            },
            "type": "bar"
           }
          ],
          "barpolar": [
           {
            "marker": {
             "line": {
              "color": "#E5ECF6",
              "width": 0.5
             },
             "pattern": {
              "fillmode": "overlay",
              "size": 10,
              "solidity": 0.2
             }
            },
            "type": "barpolar"
           }
          ],
          "carpet": [
           {
            "aaxis": {
             "endlinecolor": "#2a3f5f",
             "gridcolor": "white",
             "linecolor": "white",
             "minorgridcolor": "white",
             "startlinecolor": "#2a3f5f"
            },
            "baxis": {
             "endlinecolor": "#2a3f5f",
             "gridcolor": "white",
             "linecolor": "white",
             "minorgridcolor": "white",
             "startlinecolor": "#2a3f5f"
            },
            "type": "carpet"
           }
          ],
          "choropleth": [
           {
            "colorbar": {
             "outlinewidth": 0,
             "ticks": ""
            },
            "type": "choropleth"
           }
          ],
          "contour": [
           {
            "colorbar": {
             "outlinewidth": 0,
             "ticks": ""
            },
            "colorscale": [
             [
              0,
              "#0d0887"
             ],
             [
              0.1111111111111111,
              "#46039f"
             ],
             [
              0.2222222222222222,
              "#7201a8"
             ],
             [
              0.3333333333333333,
              "#9c179e"
             ],
             [
              0.4444444444444444,
              "#bd3786"
             ],
             [
              0.5555555555555556,
              "#d8576b"
             ],
             [
              0.6666666666666666,
              "#ed7953"
             ],
             [
              0.7777777777777778,
              "#fb9f3a"
             ],
             [
              0.8888888888888888,
              "#fdca26"
             ],
             [
              1,
              "#f0f921"
             ]
            ],
            "type": "contour"
           }
          ],
          "contourcarpet": [
           {
            "colorbar": {
             "outlinewidth": 0,
             "ticks": ""
            },
            "type": "contourcarpet"
           }
          ],
          "heatmap": [
           {
            "colorbar": {
             "outlinewidth": 0,
             "ticks": ""
            },
            "colorscale": [
             [
              0,
              "#0d0887"
             ],
             [
              0.1111111111111111,
              "#46039f"
             ],
             [
              0.2222222222222222,
              "#7201a8"
             ],
             [
              0.3333333333333333,
              "#9c179e"
             ],
             [
              0.4444444444444444,
              "#bd3786"
             ],
             [
              0.5555555555555556,
              "#d8576b"
             ],
             [
              0.6666666666666666,
              "#ed7953"
             ],
             [
              0.7777777777777778,
              "#fb9f3a"
             ],
             [
              0.8888888888888888,
              "#fdca26"
             ],
             [
              1,
              "#f0f921"
             ]
            ],
            "type": "heatmap"
           }
          ],
          "heatmapgl": [
           {
            "colorbar": {
             "outlinewidth": 0,
             "ticks": ""
            },
            "colorscale": [
             [
              0,
              "#0d0887"
             ],
             [
              0.1111111111111111,
              "#46039f"
             ],
             [
              0.2222222222222222,
              "#7201a8"
             ],
             [
              0.3333333333333333,
              "#9c179e"
             ],
             [
              0.4444444444444444,
              "#bd3786"
             ],
             [
              0.5555555555555556,
              "#d8576b"
             ],
             [
              0.6666666666666666,
              "#ed7953"
             ],
             [
              0.7777777777777778,
              "#fb9f3a"
             ],
             [
              0.8888888888888888,
              "#fdca26"
             ],
             [
              1,
              "#f0f921"
             ]
            ],
            "type": "heatmapgl"
           }
          ],
          "histogram": [
           {
            "marker": {
             "pattern": {
              "fillmode": "overlay",
              "size": 10,
              "solidity": 0.2
             }
            },
            "type": "histogram"
           }
          ],
          "histogram2d": [
           {
            "colorbar": {
             "outlinewidth": 0,
             "ticks": ""
            },
            "colorscale": [
             [
              0,
              "#0d0887"
             ],
             [
              0.1111111111111111,
              "#46039f"
             ],
             [
              0.2222222222222222,
              "#7201a8"
             ],
             [
              0.3333333333333333,
              "#9c179e"
             ],
             [
              0.4444444444444444,
              "#bd3786"
             ],
             [
              0.5555555555555556,
              "#d8576b"
             ],
             [
              0.6666666666666666,
              "#ed7953"
             ],
             [
              0.7777777777777778,
              "#fb9f3a"
             ],
             [
              0.8888888888888888,
              "#fdca26"
             ],
             [
              1,
              "#f0f921"
             ]
            ],
            "type": "histogram2d"
           }
          ],
          "histogram2dcontour": [
           {
            "colorbar": {
             "outlinewidth": 0,
             "ticks": ""
            },
            "colorscale": [
             [
              0,
              "#0d0887"
             ],
             [
              0.1111111111111111,
              "#46039f"
             ],
             [
              0.2222222222222222,
              "#7201a8"
             ],
             [
              0.3333333333333333,
              "#9c179e"
             ],
             [
              0.4444444444444444,
              "#bd3786"
             ],
             [
              0.5555555555555556,
              "#d8576b"
             ],
             [
              0.6666666666666666,
              "#ed7953"
             ],
             [
              0.7777777777777778,
              "#fb9f3a"
             ],
             [
              0.8888888888888888,
              "#fdca26"
             ],
             [
              1,
              "#f0f921"
             ]
            ],
            "type": "histogram2dcontour"
           }
          ],
          "mesh3d": [
           {
            "colorbar": {
             "outlinewidth": 0,
             "ticks": ""
            },
            "type": "mesh3d"
           }
          ],
          "parcoords": [
           {
            "line": {
             "colorbar": {
              "outlinewidth": 0,
              "ticks": ""
             }
            },
            "type": "parcoords"
           }
          ],
          "pie": [
           {
            "automargin": true,
            "type": "pie"
           }
          ],
          "scatter": [
           {
            "fillpattern": {
             "fillmode": "overlay",
             "size": 10,
             "solidity": 0.2
            },
            "type": "scatter"
           }
          ],
          "scatter3d": [
           {
            "line": {
             "colorbar": {
              "outlinewidth": 0,
              "ticks": ""
             }
            },
            "marker": {
             "colorbar": {
              "outlinewidth": 0,
              "ticks": ""
             }
            },
            "type": "scatter3d"
           }
          ],
          "scattercarpet": [
           {
            "marker": {
             "colorbar": {
              "outlinewidth": 0,
              "ticks": ""
             }
            },
            "type": "scattercarpet"
           }
          ],
          "scattergeo": [
           {
            "marker": {
             "colorbar": {
              "outlinewidth": 0,
              "ticks": ""
             }
            },
            "type": "scattergeo"
           }
          ],
          "scattergl": [
           {
            "marker": {
             "colorbar": {
              "outlinewidth": 0,
              "ticks": ""
             }
            },
            "type": "scattergl"
           }
          ],
          "scattermapbox": [
           {
            "marker": {
             "colorbar": {
              "outlinewidth": 0,
              "ticks": ""
             }
            },
            "type": "scattermapbox"
           }
          ],
          "scatterpolar": [
           {
            "marker": {
             "colorbar": {
              "outlinewidth": 0,
              "ticks": ""
             }
            },
            "type": "scatterpolar"
           }
          ],
          "scatterpolargl": [
           {
            "marker": {
             "colorbar": {
              "outlinewidth": 0,
              "ticks": ""
             }
            },
            "type": "scatterpolargl"
           }
          ],
          "scatterternary": [
           {
            "marker": {
             "colorbar": {
              "outlinewidth": 0,
              "ticks": ""
             }
            },
            "type": "scatterternary"
           }
          ],
          "surface": [
           {
            "colorbar": {
             "outlinewidth": 0,
             "ticks": ""
            },
            "colorscale": [
             [
              0,
              "#0d0887"
             ],
             [
              0.1111111111111111,
              "#46039f"
             ],
             [
              0.2222222222222222,
              "#7201a8"
             ],
             [
              0.3333333333333333,
              "#9c179e"
             ],
             [
              0.4444444444444444,
              "#bd3786"
             ],
             [
              0.5555555555555556,
              "#d8576b"
             ],
             [
              0.6666666666666666,
              "#ed7953"
             ],
             [
              0.7777777777777778,
              "#fb9f3a"
             ],
             [
              0.8888888888888888,
              "#fdca26"
             ],
             [
              1,
              "#f0f921"
             ]
            ],
            "type": "surface"
           }
          ],
          "table": [
           {
            "cells": {
             "fill": {
              "color": "#EBF0F8"
             },
             "line": {
              "color": "white"
             }
            },
            "header": {
             "fill": {
              "color": "#C8D4E3"
             },
             "line": {
              "color": "white"
             }
            },
            "type": "table"
           }
          ]
         },
         "layout": {
          "annotationdefaults": {
           "arrowcolor": "#2a3f5f",
           "arrowhead": 0,
           "arrowwidth": 1
          },
          "autotypenumbers": "strict",
          "coloraxis": {
           "colorbar": {
            "outlinewidth": 0,
            "ticks": ""
           }
          },
          "colorscale": {
           "diverging": [
            [
             0,
             "#8e0152"
            ],
            [
             0.1,
             "#c51b7d"
            ],
            [
             0.2,
             "#de77ae"
            ],
            [
             0.3,
             "#f1b6da"
            ],
            [
             0.4,
             "#fde0ef"
            ],
            [
             0.5,
             "#f7f7f7"
            ],
            [
             0.6,
             "#e6f5d0"
            ],
            [
             0.7,
             "#b8e186"
            ],
            [
             0.8,
             "#7fbc41"
            ],
            [
             0.9,
             "#4d9221"
            ],
            [
             1,
             "#276419"
            ]
           ],
           "sequential": [
            [
             0,
             "#0d0887"
            ],
            [
             0.1111111111111111,
             "#46039f"
            ],
            [
             0.2222222222222222,
             "#7201a8"
            ],
            [
             0.3333333333333333,
             "#9c179e"
            ],
            [
             0.4444444444444444,
             "#bd3786"
            ],
            [
             0.5555555555555556,
             "#d8576b"
            ],
            [
             0.6666666666666666,
             "#ed7953"
            ],
            [
             0.7777777777777778,
             "#fb9f3a"
            ],
            [
             0.8888888888888888,
             "#fdca26"
            ],
            [
             1,
             "#f0f921"
            ]
           ],
           "sequentialminus": [
            [
             0,
             "#0d0887"
            ],
            [
             0.1111111111111111,
             "#46039f"
            ],
            [
             0.2222222222222222,
             "#7201a8"
            ],
            [
             0.3333333333333333,
             "#9c179e"
            ],
            [
             0.4444444444444444,
             "#bd3786"
            ],
            [
             0.5555555555555556,
             "#d8576b"
            ],
            [
             0.6666666666666666,
             "#ed7953"
            ],
            [
             0.7777777777777778,
             "#fb9f3a"
            ],
            [
             0.8888888888888888,
             "#fdca26"
            ],
            [
             1,
             "#f0f921"
            ]
           ]
          },
          "colorway": [
           "#636efa",
           "#EF553B",
           "#00cc96",
           "#ab63fa",
           "#FFA15A",
           "#19d3f3",
           "#FF6692",
           "#B6E880",
           "#FF97FF",
           "#FECB52"
          ],
          "font": {
           "color": "#2a3f5f"
          },
          "geo": {
           "bgcolor": "white",
           "lakecolor": "white",
           "landcolor": "#E5ECF6",
           "showlakes": true,
           "showland": true,
           "subunitcolor": "white"
          },
          "hoverlabel": {
           "align": "left"
          },
          "hovermode": "closest",
          "mapbox": {
           "style": "light"
          },
          "paper_bgcolor": "white",
          "plot_bgcolor": "#E5ECF6",
          "polar": {
           "angularaxis": {
            "gridcolor": "white",
            "linecolor": "white",
            "ticks": ""
           },
           "bgcolor": "#E5ECF6",
           "radialaxis": {
            "gridcolor": "white",
            "linecolor": "white",
            "ticks": ""
           }
          },
          "scene": {
           "xaxis": {
            "backgroundcolor": "#E5ECF6",
            "gridcolor": "white",
            "gridwidth": 2,
            "linecolor": "white",
            "showbackground": true,
            "ticks": "",
            "zerolinecolor": "white"
           },
           "yaxis": {
            "backgroundcolor": "#E5ECF6",
            "gridcolor": "white",
            "gridwidth": 2,
            "linecolor": "white",
            "showbackground": true,
            "ticks": "",
            "zerolinecolor": "white"
           },
           "zaxis": {
            "backgroundcolor": "#E5ECF6",
            "gridcolor": "white",
            "gridwidth": 2,
            "linecolor": "white",
            "showbackground": true,
            "ticks": "",
            "zerolinecolor": "white"
           }
          },
          "shapedefaults": {
           "line": {
            "color": "#2a3f5f"
           }
          },
          "ternary": {
           "aaxis": {
            "gridcolor": "white",
            "linecolor": "white",
            "ticks": ""
           },
           "baxis": {
            "gridcolor": "white",
            "linecolor": "white",
            "ticks": ""
           },
           "bgcolor": "#E5ECF6",
           "caxis": {
            "gridcolor": "white",
            "linecolor": "white",
            "ticks": ""
           }
          },
          "title": {
           "x": 0.05
          },
          "xaxis": {
           "automargin": true,
           "gridcolor": "white",
           "linecolor": "white",
           "ticks": "",
           "title": {
            "standoff": 15
           },
           "zerolinecolor": "white",
           "zerolinewidth": 2
          },
          "yaxis": {
           "automargin": true,
           "gridcolor": "white",
           "linecolor": "white",
           "ticks": "",
           "title": {
            "standoff": 15
           },
           "zerolinecolor": "white",
           "zerolinewidth": 2
          }
         }
        },
        "title": {
         "text": "Empirical Distribution Function Plot"
        },
        "xaxis": {
         "title": {
          "text": "Objective Value"
         }
        },
        "yaxis": {
         "range": [
          0,
          1
         ],
         "title": {
          "text": "Cumulative Probability"
         }
        }
       }
      }
     },
     "metadata": {},
     "output_type": "display_data"
    }
   ],
   "source": [
    "plot_edf(study)"
   ]
  },
  {
   "cell_type": "code",
   "execution_count": 5,
   "metadata": {},
   "outputs": [
    {
     "data": {
      "application/vnd.plotly.v1+json": {
       "config": {
        "plotlyServerURL": "https://plot.ly"
       },
       "data": [
        {
         "mode": "markers",
         "name": "Objective Value",
         "type": "scatter",
         "x": [
          0,
          1,
          2,
          3,
          4,
          5,
          6,
          7,
          8,
          9,
          10,
          11,
          12,
          13,
          14,
          15,
          16,
          17,
          18,
          19,
          20,
          21,
          22,
          23,
          24,
          25,
          26,
          27,
          28,
          29,
          30,
          31,
          32,
          33,
          34,
          35,
          36,
          37,
          38,
          39,
          40,
          41,
          42,
          43,
          44,
          45,
          46,
          47,
          48,
          49
         ],
         "y": [
          0.3440596910620287,
          0.6217920198414303,
          0.03431970260223048,
          0.6154665905381511,
          0.5078477515777273,
          0.03431970260223048,
          0.4086971595103358,
          0.5269270526709142,
          0.6200452406281155,
          0.5477464462381204,
          0.6227801573103362,
          0.6231594961947701,
          0.6211225131596293,
          0.6237309727024284,
          0.625981643883754,
          0.6260939230227985,
          0.6256055155417102,
          0.6255603746042705,
          0.6258510094965027,
          0.6228135640479411,
          0.6141124294167423,
          0.6236602563870367,
          0.6248009353737188,
          0.6251290972620459,
          0.623786509836864,
          0.6215016038930324,
          0.6264856603090225,
          0.5636866565502585,
          0.6215843687227763,
          0.584593389409293,
          0.6363368010315259,
          0.6340339582223975,
          0.633038112379446,
          0.6332029109703179,
          0.6338287651041521,
          0.6076461312834815,
          0.6344126834398166,
          0.6340339582223975,
          0.6200596105234972,
          0.5864746691576213,
          0.6516417553413782,
          0.651194884543296,
          0.6528840905833782,
          0.6541714448654339,
          0.6553925925413401,
          0.6561666555339485,
          0.6546578262226566,
          0.6572999323446688,
          0.6562734227970017,
          0.6561039571427711
         ]
        },
        {
         "name": "Best Value",
         "type": "scatter",
         "x": [
          0,
          1,
          2,
          3,
          4,
          5,
          6,
          7,
          8,
          9,
          10,
          11,
          12,
          13,
          14,
          15,
          16,
          17,
          18,
          19,
          20,
          21,
          22,
          23,
          24,
          25,
          26,
          27,
          28,
          29,
          30,
          31,
          32,
          33,
          34,
          35,
          36,
          37,
          38,
          39,
          40,
          41,
          42,
          43,
          44,
          45,
          46,
          47,
          48,
          49
         ],
         "y": [
          0.3440596910620287,
          0.6217920198414303,
          0.6217920198414303,
          0.6217920198414303,
          0.6217920198414303,
          0.6217920198414303,
          0.6217920198414303,
          0.6217920198414303,
          0.6217920198414303,
          0.6217920198414303,
          0.6227801573103362,
          0.6231594961947701,
          0.6231594961947701,
          0.6237309727024284,
          0.625981643883754,
          0.6260939230227985,
          0.6260939230227985,
          0.6260939230227985,
          0.6260939230227985,
          0.6260939230227985,
          0.6260939230227985,
          0.6260939230227985,
          0.6260939230227985,
          0.6260939230227985,
          0.6260939230227985,
          0.6260939230227985,
          0.6264856603090225,
          0.6264856603090225,
          0.6264856603090225,
          0.6264856603090225,
          0.6363368010315259,
          0.6363368010315259,
          0.6363368010315259,
          0.6363368010315259,
          0.6363368010315259,
          0.6363368010315259,
          0.6363368010315259,
          0.6363368010315259,
          0.6363368010315259,
          0.6363368010315259,
          0.6516417553413782,
          0.6516417553413782,
          0.6528840905833782,
          0.6541714448654339,
          0.6553925925413401,
          0.6561666555339485,
          0.6561666555339485,
          0.6572999323446688,
          0.6572999323446688,
          0.6572999323446688
         ]
        }
       ],
       "layout": {
        "template": {
         "data": {
          "bar": [
           {
            "error_x": {
             "color": "#2a3f5f"
            },
            "error_y": {
             "color": "#2a3f5f"
            },
            "marker": {
             "line": {
              "color": "#E5ECF6",
              "width": 0.5
             },
             "pattern": {
              "fillmode": "overlay",
              "size": 10,
              "solidity": 0.2
             }
            },
            "type": "bar"
           }
          ],
          "barpolar": [
           {
            "marker": {
             "line": {
              "color": "#E5ECF6",
              "width": 0.5
             },
             "pattern": {
              "fillmode": "overlay",
              "size": 10,
              "solidity": 0.2
             }
            },
            "type": "barpolar"
           }
          ],
          "carpet": [
           {
            "aaxis": {
             "endlinecolor": "#2a3f5f",
             "gridcolor": "white",
             "linecolor": "white",
             "minorgridcolor": "white",
             "startlinecolor": "#2a3f5f"
            },
            "baxis": {
             "endlinecolor": "#2a3f5f",
             "gridcolor": "white",
             "linecolor": "white",
             "minorgridcolor": "white",
             "startlinecolor": "#2a3f5f"
            },
            "type": "carpet"
           }
          ],
          "choropleth": [
           {
            "colorbar": {
             "outlinewidth": 0,
             "ticks": ""
            },
            "type": "choropleth"
           }
          ],
          "contour": [
           {
            "colorbar": {
             "outlinewidth": 0,
             "ticks": ""
            },
            "colorscale": [
             [
              0,
              "#0d0887"
             ],
             [
              0.1111111111111111,
              "#46039f"
             ],
             [
              0.2222222222222222,
              "#7201a8"
             ],
             [
              0.3333333333333333,
              "#9c179e"
             ],
             [
              0.4444444444444444,
              "#bd3786"
             ],
             [
              0.5555555555555556,
              "#d8576b"
             ],
             [
              0.6666666666666666,
              "#ed7953"
             ],
             [
              0.7777777777777778,
              "#fb9f3a"
             ],
             [
              0.8888888888888888,
              "#fdca26"
             ],
             [
              1,
              "#f0f921"
             ]
            ],
            "type": "contour"
           }
          ],
          "contourcarpet": [
           {
            "colorbar": {
             "outlinewidth": 0,
             "ticks": ""
            },
            "type": "contourcarpet"
           }
          ],
          "heatmap": [
           {
            "colorbar": {
             "outlinewidth": 0,
             "ticks": ""
            },
            "colorscale": [
             [
              0,
              "#0d0887"
             ],
             [
              0.1111111111111111,
              "#46039f"
             ],
             [
              0.2222222222222222,
              "#7201a8"
             ],
             [
              0.3333333333333333,
              "#9c179e"
             ],
             [
              0.4444444444444444,
              "#bd3786"
             ],
             [
              0.5555555555555556,
              "#d8576b"
             ],
             [
              0.6666666666666666,
              "#ed7953"
             ],
             [
              0.7777777777777778,
              "#fb9f3a"
             ],
             [
              0.8888888888888888,
              "#fdca26"
             ],
             [
              1,
              "#f0f921"
             ]
            ],
            "type": "heatmap"
           }
          ],
          "heatmapgl": [
           {
            "colorbar": {
             "outlinewidth": 0,
             "ticks": ""
            },
            "colorscale": [
             [
              0,
              "#0d0887"
             ],
             [
              0.1111111111111111,
              "#46039f"
             ],
             [
              0.2222222222222222,
              "#7201a8"
             ],
             [
              0.3333333333333333,
              "#9c179e"
             ],
             [
              0.4444444444444444,
              "#bd3786"
             ],
             [
              0.5555555555555556,
              "#d8576b"
             ],
             [
              0.6666666666666666,
              "#ed7953"
             ],
             [
              0.7777777777777778,
              "#fb9f3a"
             ],
             [
              0.8888888888888888,
              "#fdca26"
             ],
             [
              1,
              "#f0f921"
             ]
            ],
            "type": "heatmapgl"
           }
          ],
          "histogram": [
           {
            "marker": {
             "pattern": {
              "fillmode": "overlay",
              "size": 10,
              "solidity": 0.2
             }
            },
            "type": "histogram"
           }
          ],
          "histogram2d": [
           {
            "colorbar": {
             "outlinewidth": 0,
             "ticks": ""
            },
            "colorscale": [
             [
              0,
              "#0d0887"
             ],
             [
              0.1111111111111111,
              "#46039f"
             ],
             [
              0.2222222222222222,
              "#7201a8"
             ],
             [
              0.3333333333333333,
              "#9c179e"
             ],
             [
              0.4444444444444444,
              "#bd3786"
             ],
             [
              0.5555555555555556,
              "#d8576b"
             ],
             [
              0.6666666666666666,
              "#ed7953"
             ],
             [
              0.7777777777777778,
              "#fb9f3a"
             ],
             [
              0.8888888888888888,
              "#fdca26"
             ],
             [
              1,
              "#f0f921"
             ]
            ],
            "type": "histogram2d"
           }
          ],
          "histogram2dcontour": [
           {
            "colorbar": {
             "outlinewidth": 0,
             "ticks": ""
            },
            "colorscale": [
             [
              0,
              "#0d0887"
             ],
             [
              0.1111111111111111,
              "#46039f"
             ],
             [
              0.2222222222222222,
              "#7201a8"
             ],
             [
              0.3333333333333333,
              "#9c179e"
             ],
             [
              0.4444444444444444,
              "#bd3786"
             ],
             [
              0.5555555555555556,
              "#d8576b"
             ],
             [
              0.6666666666666666,
              "#ed7953"
             ],
             [
              0.7777777777777778,
              "#fb9f3a"
             ],
             [
              0.8888888888888888,
              "#fdca26"
             ],
             [
              1,
              "#f0f921"
             ]
            ],
            "type": "histogram2dcontour"
           }
          ],
          "mesh3d": [
           {
            "colorbar": {
             "outlinewidth": 0,
             "ticks": ""
            },
            "type": "mesh3d"
           }
          ],
          "parcoords": [
           {
            "line": {
             "colorbar": {
              "outlinewidth": 0,
              "ticks": ""
             }
            },
            "type": "parcoords"
           }
          ],
          "pie": [
           {
            "automargin": true,
            "type": "pie"
           }
          ],
          "scatter": [
           {
            "fillpattern": {
             "fillmode": "overlay",
             "size": 10,
             "solidity": 0.2
            },
            "type": "scatter"
           }
          ],
          "scatter3d": [
           {
            "line": {
             "colorbar": {
              "outlinewidth": 0,
              "ticks": ""
             }
            },
            "marker": {
             "colorbar": {
              "outlinewidth": 0,
              "ticks": ""
             }
            },
            "type": "scatter3d"
           }
          ],
          "scattercarpet": [
           {
            "marker": {
             "colorbar": {
              "outlinewidth": 0,
              "ticks": ""
             }
            },
            "type": "scattercarpet"
           }
          ],
          "scattergeo": [
           {
            "marker": {
             "colorbar": {
              "outlinewidth": 0,
              "ticks": ""
             }
            },
            "type": "scattergeo"
           }
          ],
          "scattergl": [
           {
            "marker": {
             "colorbar": {
              "outlinewidth": 0,
              "ticks": ""
             }
            },
            "type": "scattergl"
           }
          ],
          "scattermapbox": [
           {
            "marker": {
             "colorbar": {
              "outlinewidth": 0,
              "ticks": ""
             }
            },
            "type": "scattermapbox"
           }
          ],
          "scatterpolar": [
           {
            "marker": {
             "colorbar": {
              "outlinewidth": 0,
              "ticks": ""
             }
            },
            "type": "scatterpolar"
           }
          ],
          "scatterpolargl": [
           {
            "marker": {
             "colorbar": {
              "outlinewidth": 0,
              "ticks": ""
             }
            },
            "type": "scatterpolargl"
           }
          ],
          "scatterternary": [
           {
            "marker": {
             "colorbar": {
              "outlinewidth": 0,
              "ticks": ""
             }
            },
            "type": "scatterternary"
           }
          ],
          "surface": [
           {
            "colorbar": {
             "outlinewidth": 0,
             "ticks": ""
            },
            "colorscale": [
             [
              0,
              "#0d0887"
             ],
             [
              0.1111111111111111,
              "#46039f"
             ],
             [
              0.2222222222222222,
              "#7201a8"
             ],
             [
              0.3333333333333333,
              "#9c179e"
             ],
             [
              0.4444444444444444,
              "#bd3786"
             ],
             [
              0.5555555555555556,
              "#d8576b"
             ],
             [
              0.6666666666666666,
              "#ed7953"
             ],
             [
              0.7777777777777778,
              "#fb9f3a"
             ],
             [
              0.8888888888888888,
              "#fdca26"
             ],
             [
              1,
              "#f0f921"
             ]
            ],
            "type": "surface"
           }
          ],
          "table": [
           {
            "cells": {
             "fill": {
              "color": "#EBF0F8"
             },
             "line": {
              "color": "white"
             }
            },
            "header": {
             "fill": {
              "color": "#C8D4E3"
             },
             "line": {
              "color": "white"
             }
            },
            "type": "table"
           }
          ]
         },
         "layout": {
          "annotationdefaults": {
           "arrowcolor": "#2a3f5f",
           "arrowhead": 0,
           "arrowwidth": 1
          },
          "autotypenumbers": "strict",
          "coloraxis": {
           "colorbar": {
            "outlinewidth": 0,
            "ticks": ""
           }
          },
          "colorscale": {
           "diverging": [
            [
             0,
             "#8e0152"
            ],
            [
             0.1,
             "#c51b7d"
            ],
            [
             0.2,
             "#de77ae"
            ],
            [
             0.3,
             "#f1b6da"
            ],
            [
             0.4,
             "#fde0ef"
            ],
            [
             0.5,
             "#f7f7f7"
            ],
            [
             0.6,
             "#e6f5d0"
            ],
            [
             0.7,
             "#b8e186"
            ],
            [
             0.8,
             "#7fbc41"
            ],
            [
             0.9,
             "#4d9221"
            ],
            [
             1,
             "#276419"
            ]
           ],
           "sequential": [
            [
             0,
             "#0d0887"
            ],
            [
             0.1111111111111111,
             "#46039f"
            ],
            [
             0.2222222222222222,
             "#7201a8"
            ],
            [
             0.3333333333333333,
             "#9c179e"
            ],
            [
             0.4444444444444444,
             "#bd3786"
            ],
            [
             0.5555555555555556,
             "#d8576b"
            ],
            [
             0.6666666666666666,
             "#ed7953"
            ],
            [
             0.7777777777777778,
             "#fb9f3a"
            ],
            [
             0.8888888888888888,
             "#fdca26"
            ],
            [
             1,
             "#f0f921"
            ]
           ],
           "sequentialminus": [
            [
             0,
             "#0d0887"
            ],
            [
             0.1111111111111111,
             "#46039f"
            ],
            [
             0.2222222222222222,
             "#7201a8"
            ],
            [
             0.3333333333333333,
             "#9c179e"
            ],
            [
             0.4444444444444444,
             "#bd3786"
            ],
            [
             0.5555555555555556,
             "#d8576b"
            ],
            [
             0.6666666666666666,
             "#ed7953"
            ],
            [
             0.7777777777777778,
             "#fb9f3a"
            ],
            [
             0.8888888888888888,
             "#fdca26"
            ],
            [
             1,
             "#f0f921"
            ]
           ]
          },
          "colorway": [
           "#636efa",
           "#EF553B",
           "#00cc96",
           "#ab63fa",
           "#FFA15A",
           "#19d3f3",
           "#FF6692",
           "#B6E880",
           "#FF97FF",
           "#FECB52"
          ],
          "font": {
           "color": "#2a3f5f"
          },
          "geo": {
           "bgcolor": "white",
           "lakecolor": "white",
           "landcolor": "#E5ECF6",
           "showlakes": true,
           "showland": true,
           "subunitcolor": "white"
          },
          "hoverlabel": {
           "align": "left"
          },
          "hovermode": "closest",
          "mapbox": {
           "style": "light"
          },
          "paper_bgcolor": "white",
          "plot_bgcolor": "#E5ECF6",
          "polar": {
           "angularaxis": {
            "gridcolor": "white",
            "linecolor": "white",
            "ticks": ""
           },
           "bgcolor": "#E5ECF6",
           "radialaxis": {
            "gridcolor": "white",
            "linecolor": "white",
            "ticks": ""
           }
          },
          "scene": {
           "xaxis": {
            "backgroundcolor": "#E5ECF6",
            "gridcolor": "white",
            "gridwidth": 2,
            "linecolor": "white",
            "showbackground": true,
            "ticks": "",
            "zerolinecolor": "white"
           },
           "yaxis": {
            "backgroundcolor": "#E5ECF6",
            "gridcolor": "white",
            "gridwidth": 2,
            "linecolor": "white",
            "showbackground": true,
            "ticks": "",
            "zerolinecolor": "white"
           },
           "zaxis": {
            "backgroundcolor": "#E5ECF6",
            "gridcolor": "white",
            "gridwidth": 2,
            "linecolor": "white",
            "showbackground": true,
            "ticks": "",
            "zerolinecolor": "white"
           }
          },
          "shapedefaults": {
           "line": {
            "color": "#2a3f5f"
           }
          },
          "ternary": {
           "aaxis": {
            "gridcolor": "white",
            "linecolor": "white",
            "ticks": ""
           },
           "baxis": {
            "gridcolor": "white",
            "linecolor": "white",
            "ticks": ""
           },
           "bgcolor": "#E5ECF6",
           "caxis": {
            "gridcolor": "white",
            "linecolor": "white",
            "ticks": ""
           }
          },
          "title": {
           "x": 0.05
          },
          "xaxis": {
           "automargin": true,
           "gridcolor": "white",
           "linecolor": "white",
           "ticks": "",
           "title": {
            "standoff": 15
           },
           "zerolinecolor": "white",
           "zerolinewidth": 2
          },
          "yaxis": {
           "automargin": true,
           "gridcolor": "white",
           "linecolor": "white",
           "ticks": "",
           "title": {
            "standoff": 15
           },
           "zerolinecolor": "white",
           "zerolinewidth": 2
          }
         }
        },
        "title": {
         "text": "Optimization History Plot"
        },
        "xaxis": {
         "title": {
          "text": "Trial"
         }
        },
        "yaxis": {
         "title": {
          "text": "Objective Value"
         }
        }
       }
      }
     },
     "metadata": {},
     "output_type": "display_data"
    }
   ],
   "source": [
    "plot_optimization_history(study)"
   ]
  },
  {
   "cell_type": "code",
   "execution_count": 6,
   "metadata": {},
   "outputs": [
    {
     "data": {
      "application/vnd.plotly.v1+json": {
       "config": {
        "plotlyServerURL": "https://plot.ly"
       },
       "data": [
        {
         "dimensions": [
          {
           "label": "Objective Value",
           "range": [
            0.03431970260223048,
            0.6572999323446688
           ],
           "values": [
            0.3440596910620287,
            0.6217920198414303,
            0.03431970260223048,
            0.6154665905381511,
            0.5078477515777273,
            0.03431970260223048,
            0.4086971595103358,
            0.5269270526709142,
            0.6200452406281155,
            0.5477464462381204,
            0.6227801573103362,
            0.6231594961947701,
            0.6211225131596293,
            0.6237309727024284,
            0.625981643883754,
            0.6260939230227985,
            0.6256055155417102,
            0.6255603746042705,
            0.6258510094965027,
            0.6228135640479411,
            0.6141124294167423,
            0.6236602563870367,
            0.6248009353737188,
            0.6251290972620459,
            0.623786509836864,
            0.6215016038930324,
            0.6264856603090225,
            0.5636866565502585,
            0.6215843687227763,
            0.584593389409293,
            0.6363368010315259,
            0.6340339582223975,
            0.633038112379446,
            0.6332029109703179,
            0.6338287651041521,
            0.6076461312834815,
            0.6344126834398166,
            0.6340339582223975,
            0.6200596105234972,
            0.5864746691576213,
            0.6516417553413782,
            0.651194884543296,
            0.6528840905833782,
            0.6541714448654339,
            0.6553925925413401,
            0.6561666555339485,
            0.6546578262226566,
            0.6572999323446688,
            0.6562734227970017,
            0.6561039571427711
           ]
          },
          {
           "label": "c",
           "range": [
            -1.9156705421020372,
            0.9904352894326423
           ],
           "ticktext": [
            "0.0121",
            "0.1",
            "1",
            "9.78"
           ],
           "tickvals": [
            -1.9156705421020372,
            -1,
            0,
            0.9904352894326423
           ],
           "values": [
            -1.3859770891259773,
            0.49707389026850857,
            -1.4559793969953372,
            -0.40468081184493243,
            -1.0178421702247988,
            -1.5758662732165096,
            -1.9156705421020372,
            -0.9323250452430027,
            -0.2116537073630856,
            -1.336400537060954,
            0.687983813318654,
            0.7246284668716629,
            0.9904352894326423,
            0.31368934420624733,
            0.2015108266396769,
            0.10692377695237586,
            0.1087819858200541,
            -0.011535500122574,
            0.204508864609677,
            -0.18836674298015488,
            -0.4410701928209371,
            0.28850984143816855,
            0.14037856595365225,
            -0.07500738412491866,
            0.2812606440221277,
            0.4867472163665292,
            -0.2351870373763952,
            -0.7058095673078436,
            -0.2885206451394028,
            -0.5546699414330003,
            0.022406528067767877,
            -0.004155714390413441,
            -0.04208811062731517,
            -0.105867538681177,
            -0.03261273223816121,
            -0.3962546064178179,
            -0.057200514965659845,
            -0.004832338088851706,
            -0.3027251550873171,
            -0.5449594682137066,
            0.42340415252095387,
            0.3922655675398582,
            0.43575921910769244,
            0.4553397071230754,
            0.45908572456282565,
            0.5046567838710619,
            0.6656007153393899,
            0.5927698568161364,
            0.6300900616217803,
            0.6308640752487049
           ]
          },
          {
           "label": "gamma",
           "range": [
            0,
            1
           ],
           "ticktext": [
            "scale",
            "auto"
           ],
           "tickvals": [
            0,
            1
           ],
           "values": [
            0,
            1,
            1,
            1,
            0,
            1,
            1,
            0,
            0,
            0,
            1,
            1,
            1,
            1,
            1,
            1,
            1,
            1,
            1,
            1,
            1,
            1,
            1,
            1,
            1,
            1,
            0,
            0,
            0,
            0,
            0,
            0,
            0,
            0,
            0,
            0,
            0,
            0,
            0,
            0,
            0,
            0,
            0,
            0,
            0,
            0,
            0,
            0,
            0,
            0
           ]
          },
          {
           "label": "kernel",
           "range": [
            0,
            1
           ],
           "ticktext": [
            "rbf",
            "linear"
           ],
           "tickvals": [
            0,
            1
           ],
           "values": [
            0,
            1,
            0,
            1,
            0,
            0,
            1,
            0,
            1,
            1,
            1,
            1,
            1,
            1,
            1,
            1,
            1,
            1,
            1,
            1,
            1,
            1,
            1,
            1,
            1,
            1,
            0,
            0,
            0,
            0,
            0,
            0,
            0,
            0,
            0,
            0,
            0,
            0,
            0,
            0,
            0,
            0,
            0,
            0,
            0,
            0,
            0,
            0,
            0,
            0
           ]
          }
         ],
         "labelangle": 30,
         "labelside": "bottom",
         "line": {
          "color": [
           0.3440596910620287,
           0.6217920198414303,
           0.03431970260223048,
           0.6154665905381511,
           0.5078477515777273,
           0.03431970260223048,
           0.4086971595103358,
           0.5269270526709142,
           0.6200452406281155,
           0.5477464462381204,
           0.6227801573103362,
           0.6231594961947701,
           0.6211225131596293,
           0.6237309727024284,
           0.625981643883754,
           0.6260939230227985,
           0.6256055155417102,
           0.6255603746042705,
           0.6258510094965027,
           0.6228135640479411,
           0.6141124294167423,
           0.6236602563870367,
           0.6248009353737188,
           0.6251290972620459,
           0.623786509836864,
           0.6215016038930324,
           0.6264856603090225,
           0.5636866565502585,
           0.6215843687227763,
           0.584593389409293,
           0.6363368010315259,
           0.6340339582223975,
           0.633038112379446,
           0.6332029109703179,
           0.6338287651041521,
           0.6076461312834815,
           0.6344126834398166,
           0.6340339582223975,
           0.6200596105234972,
           0.5864746691576213,
           0.6516417553413782,
           0.651194884543296,
           0.6528840905833782,
           0.6541714448654339,
           0.6553925925413401,
           0.6561666555339485,
           0.6546578262226566,
           0.6572999323446688,
           0.6562734227970017,
           0.6561039571427711
          ],
          "colorbar": {
           "title": {
            "text": "Objective Value"
           }
          },
          "colorscale": [
           [
            0,
            "rgb(247,251,255)"
           ],
           [
            0.125,
            "rgb(222,235,247)"
           ],
           [
            0.25,
            "rgb(198,219,239)"
           ],
           [
            0.375,
            "rgb(158,202,225)"
           ],
           [
            0.5,
            "rgb(107,174,214)"
           ],
           [
            0.625,
            "rgb(66,146,198)"
           ],
           [
            0.75,
            "rgb(33,113,181)"
           ],
           [
            0.875,
            "rgb(8,81,156)"
           ],
           [
            1,
            "rgb(8,48,107)"
           ]
          ],
          "reversescale": false,
          "showscale": true
         },
         "type": "parcoords"
        }
       ],
       "layout": {
        "template": {
         "data": {
          "bar": [
           {
            "error_x": {
             "color": "#2a3f5f"
            },
            "error_y": {
             "color": "#2a3f5f"
            },
            "marker": {
             "line": {
              "color": "#E5ECF6",
              "width": 0.5
             },
             "pattern": {
              "fillmode": "overlay",
              "size": 10,
              "solidity": 0.2
             }
            },
            "type": "bar"
           }
          ],
          "barpolar": [
           {
            "marker": {
             "line": {
              "color": "#E5ECF6",
              "width": 0.5
             },
             "pattern": {
              "fillmode": "overlay",
              "size": 10,
              "solidity": 0.2
             }
            },
            "type": "barpolar"
           }
          ],
          "carpet": [
           {
            "aaxis": {
             "endlinecolor": "#2a3f5f",
             "gridcolor": "white",
             "linecolor": "white",
             "minorgridcolor": "white",
             "startlinecolor": "#2a3f5f"
            },
            "baxis": {
             "endlinecolor": "#2a3f5f",
             "gridcolor": "white",
             "linecolor": "white",
             "minorgridcolor": "white",
             "startlinecolor": "#2a3f5f"
            },
            "type": "carpet"
           }
          ],
          "choropleth": [
           {
            "colorbar": {
             "outlinewidth": 0,
             "ticks": ""
            },
            "type": "choropleth"
           }
          ],
          "contour": [
           {
            "colorbar": {
             "outlinewidth": 0,
             "ticks": ""
            },
            "colorscale": [
             [
              0,
              "#0d0887"
             ],
             [
              0.1111111111111111,
              "#46039f"
             ],
             [
              0.2222222222222222,
              "#7201a8"
             ],
             [
              0.3333333333333333,
              "#9c179e"
             ],
             [
              0.4444444444444444,
              "#bd3786"
             ],
             [
              0.5555555555555556,
              "#d8576b"
             ],
             [
              0.6666666666666666,
              "#ed7953"
             ],
             [
              0.7777777777777778,
              "#fb9f3a"
             ],
             [
              0.8888888888888888,
              "#fdca26"
             ],
             [
              1,
              "#f0f921"
             ]
            ],
            "type": "contour"
           }
          ],
          "contourcarpet": [
           {
            "colorbar": {
             "outlinewidth": 0,
             "ticks": ""
            },
            "type": "contourcarpet"
           }
          ],
          "heatmap": [
           {
            "colorbar": {
             "outlinewidth": 0,
             "ticks": ""
            },
            "colorscale": [
             [
              0,
              "#0d0887"
             ],
             [
              0.1111111111111111,
              "#46039f"
             ],
             [
              0.2222222222222222,
              "#7201a8"
             ],
             [
              0.3333333333333333,
              "#9c179e"
             ],
             [
              0.4444444444444444,
              "#bd3786"
             ],
             [
              0.5555555555555556,
              "#d8576b"
             ],
             [
              0.6666666666666666,
              "#ed7953"
             ],
             [
              0.7777777777777778,
              "#fb9f3a"
             ],
             [
              0.8888888888888888,
              "#fdca26"
             ],
             [
              1,
              "#f0f921"
             ]
            ],
            "type": "heatmap"
           }
          ],
          "heatmapgl": [
           {
            "colorbar": {
             "outlinewidth": 0,
             "ticks": ""
            },
            "colorscale": [
             [
              0,
              "#0d0887"
             ],
             [
              0.1111111111111111,
              "#46039f"
             ],
             [
              0.2222222222222222,
              "#7201a8"
             ],
             [
              0.3333333333333333,
              "#9c179e"
             ],
             [
              0.4444444444444444,
              "#bd3786"
             ],
             [
              0.5555555555555556,
              "#d8576b"
             ],
             [
              0.6666666666666666,
              "#ed7953"
             ],
             [
              0.7777777777777778,
              "#fb9f3a"
             ],
             [
              0.8888888888888888,
              "#fdca26"
             ],
             [
              1,
              "#f0f921"
             ]
            ],
            "type": "heatmapgl"
           }
          ],
          "histogram": [
           {
            "marker": {
             "pattern": {
              "fillmode": "overlay",
              "size": 10,
              "solidity": 0.2
             }
            },
            "type": "histogram"
           }
          ],
          "histogram2d": [
           {
            "colorbar": {
             "outlinewidth": 0,
             "ticks": ""
            },
            "colorscale": [
             [
              0,
              "#0d0887"
             ],
             [
              0.1111111111111111,
              "#46039f"
             ],
             [
              0.2222222222222222,
              "#7201a8"
             ],
             [
              0.3333333333333333,
              "#9c179e"
             ],
             [
              0.4444444444444444,
              "#bd3786"
             ],
             [
              0.5555555555555556,
              "#d8576b"
             ],
             [
              0.6666666666666666,
              "#ed7953"
             ],
             [
              0.7777777777777778,
              "#fb9f3a"
             ],
             [
              0.8888888888888888,
              "#fdca26"
             ],
             [
              1,
              "#f0f921"
             ]
            ],
            "type": "histogram2d"
           }
          ],
          "histogram2dcontour": [
           {
            "colorbar": {
             "outlinewidth": 0,
             "ticks": ""
            },
            "colorscale": [
             [
              0,
              "#0d0887"
             ],
             [
              0.1111111111111111,
              "#46039f"
             ],
             [
              0.2222222222222222,
              "#7201a8"
             ],
             [
              0.3333333333333333,
              "#9c179e"
             ],
             [
              0.4444444444444444,
              "#bd3786"
             ],
             [
              0.5555555555555556,
              "#d8576b"
             ],
             [
              0.6666666666666666,
              "#ed7953"
             ],
             [
              0.7777777777777778,
              "#fb9f3a"
             ],
             [
              0.8888888888888888,
              "#fdca26"
             ],
             [
              1,
              "#f0f921"
             ]
            ],
            "type": "histogram2dcontour"
           }
          ],
          "mesh3d": [
           {
            "colorbar": {
             "outlinewidth": 0,
             "ticks": ""
            },
            "type": "mesh3d"
           }
          ],
          "parcoords": [
           {
            "line": {
             "colorbar": {
              "outlinewidth": 0,
              "ticks": ""
             }
            },
            "type": "parcoords"
           }
          ],
          "pie": [
           {
            "automargin": true,
            "type": "pie"
           }
          ],
          "scatter": [
           {
            "fillpattern": {
             "fillmode": "overlay",
             "size": 10,
             "solidity": 0.2
            },
            "type": "scatter"
           }
          ],
          "scatter3d": [
           {
            "line": {
             "colorbar": {
              "outlinewidth": 0,
              "ticks": ""
             }
            },
            "marker": {
             "colorbar": {
              "outlinewidth": 0,
              "ticks": ""
             }
            },
            "type": "scatter3d"
           }
          ],
          "scattercarpet": [
           {
            "marker": {
             "colorbar": {
              "outlinewidth": 0,
              "ticks": ""
             }
            },
            "type": "scattercarpet"
           }
          ],
          "scattergeo": [
           {
            "marker": {
             "colorbar": {
              "outlinewidth": 0,
              "ticks": ""
             }
            },
            "type": "scattergeo"
           }
          ],
          "scattergl": [
           {
            "marker": {
             "colorbar": {
              "outlinewidth": 0,
              "ticks": ""
             }
            },
            "type": "scattergl"
           }
          ],
          "scattermapbox": [
           {
            "marker": {
             "colorbar": {
              "outlinewidth": 0,
              "ticks": ""
             }
            },
            "type": "scattermapbox"
           }
          ],
          "scatterpolar": [
           {
            "marker": {
             "colorbar": {
              "outlinewidth": 0,
              "ticks": ""
             }
            },
            "type": "scatterpolar"
           }
          ],
          "scatterpolargl": [
           {
            "marker": {
             "colorbar": {
              "outlinewidth": 0,
              "ticks": ""
             }
            },
            "type": "scatterpolargl"
           }
          ],
          "scatterternary": [
           {
            "marker": {
             "colorbar": {
              "outlinewidth": 0,
              "ticks": ""
             }
            },
            "type": "scatterternary"
           }
          ],
          "surface": [
           {
            "colorbar": {
             "outlinewidth": 0,
             "ticks": ""
            },
            "colorscale": [
             [
              0,
              "#0d0887"
             ],
             [
              0.1111111111111111,
              "#46039f"
             ],
             [
              0.2222222222222222,
              "#7201a8"
             ],
             [
              0.3333333333333333,
              "#9c179e"
             ],
             [
              0.4444444444444444,
              "#bd3786"
             ],
             [
              0.5555555555555556,
              "#d8576b"
             ],
             [
              0.6666666666666666,
              "#ed7953"
             ],
             [
              0.7777777777777778,
              "#fb9f3a"
             ],
             [
              0.8888888888888888,
              "#fdca26"
             ],
             [
              1,
              "#f0f921"
             ]
            ],
            "type": "surface"
           }
          ],
          "table": [
           {
            "cells": {
             "fill": {
              "color": "#EBF0F8"
             },
             "line": {
              "color": "white"
             }
            },
            "header": {
             "fill": {
              "color": "#C8D4E3"
             },
             "line": {
              "color": "white"
             }
            },
            "type": "table"
           }
          ]
         },
         "layout": {
          "annotationdefaults": {
           "arrowcolor": "#2a3f5f",
           "arrowhead": 0,
           "arrowwidth": 1
          },
          "autotypenumbers": "strict",
          "coloraxis": {
           "colorbar": {
            "outlinewidth": 0,
            "ticks": ""
           }
          },
          "colorscale": {
           "diverging": [
            [
             0,
             "#8e0152"
            ],
            [
             0.1,
             "#c51b7d"
            ],
            [
             0.2,
             "#de77ae"
            ],
            [
             0.3,
             "#f1b6da"
            ],
            [
             0.4,
             "#fde0ef"
            ],
            [
             0.5,
             "#f7f7f7"
            ],
            [
             0.6,
             "#e6f5d0"
            ],
            [
             0.7,
             "#b8e186"
            ],
            [
             0.8,
             "#7fbc41"
            ],
            [
             0.9,
             "#4d9221"
            ],
            [
             1,
             "#276419"
            ]
           ],
           "sequential": [
            [
             0,
             "#0d0887"
            ],
            [
             0.1111111111111111,
             "#46039f"
            ],
            [
             0.2222222222222222,
             "#7201a8"
            ],
            [
             0.3333333333333333,
             "#9c179e"
            ],
            [
             0.4444444444444444,
             "#bd3786"
            ],
            [
             0.5555555555555556,
             "#d8576b"
            ],
            [
             0.6666666666666666,
             "#ed7953"
            ],
            [
             0.7777777777777778,
             "#fb9f3a"
            ],
            [
             0.8888888888888888,
             "#fdca26"
            ],
            [
             1,
             "#f0f921"
            ]
           ],
           "sequentialminus": [
            [
             0,
             "#0d0887"
            ],
            [
             0.1111111111111111,
             "#46039f"
            ],
            [
             0.2222222222222222,
             "#7201a8"
            ],
            [
             0.3333333333333333,
             "#9c179e"
            ],
            [
             0.4444444444444444,
             "#bd3786"
            ],
            [
             0.5555555555555556,
             "#d8576b"
            ],
            [
             0.6666666666666666,
             "#ed7953"
            ],
            [
             0.7777777777777778,
             "#fb9f3a"
            ],
            [
             0.8888888888888888,
             "#fdca26"
            ],
            [
             1,
             "#f0f921"
            ]
           ]
          },
          "colorway": [
           "#636efa",
           "#EF553B",
           "#00cc96",
           "#ab63fa",
           "#FFA15A",
           "#19d3f3",
           "#FF6692",
           "#B6E880",
           "#FF97FF",
           "#FECB52"
          ],
          "font": {
           "color": "#2a3f5f"
          },
          "geo": {
           "bgcolor": "white",
           "lakecolor": "white",
           "landcolor": "#E5ECF6",
           "showlakes": true,
           "showland": true,
           "subunitcolor": "white"
          },
          "hoverlabel": {
           "align": "left"
          },
          "hovermode": "closest",
          "mapbox": {
           "style": "light"
          },
          "paper_bgcolor": "white",
          "plot_bgcolor": "#E5ECF6",
          "polar": {
           "angularaxis": {
            "gridcolor": "white",
            "linecolor": "white",
            "ticks": ""
           },
           "bgcolor": "#E5ECF6",
           "radialaxis": {
            "gridcolor": "white",
            "linecolor": "white",
            "ticks": ""
           }
          },
          "scene": {
           "xaxis": {
            "backgroundcolor": "#E5ECF6",
            "gridcolor": "white",
            "gridwidth": 2,
            "linecolor": "white",
            "showbackground": true,
            "ticks": "",
            "zerolinecolor": "white"
           },
           "yaxis": {
            "backgroundcolor": "#E5ECF6",
            "gridcolor": "white",
            "gridwidth": 2,
            "linecolor": "white",
            "showbackground": true,
            "ticks": "",
            "zerolinecolor": "white"
           },
           "zaxis": {
            "backgroundcolor": "#E5ECF6",
            "gridcolor": "white",
            "gridwidth": 2,
            "linecolor": "white",
            "showbackground": true,
            "ticks": "",
            "zerolinecolor": "white"
           }
          },
          "shapedefaults": {
           "line": {
            "color": "#2a3f5f"
           }
          },
          "ternary": {
           "aaxis": {
            "gridcolor": "white",
            "linecolor": "white",
            "ticks": ""
           },
           "baxis": {
            "gridcolor": "white",
            "linecolor": "white",
            "ticks": ""
           },
           "bgcolor": "#E5ECF6",
           "caxis": {
            "gridcolor": "white",
            "linecolor": "white",
            "ticks": ""
           }
          },
          "title": {
           "x": 0.05
          },
          "xaxis": {
           "automargin": true,
           "gridcolor": "white",
           "linecolor": "white",
           "ticks": "",
           "title": {
            "standoff": 15
           },
           "zerolinecolor": "white",
           "zerolinewidth": 2
          },
          "yaxis": {
           "automargin": true,
           "gridcolor": "white",
           "linecolor": "white",
           "ticks": "",
           "title": {
            "standoff": 15
           },
           "zerolinecolor": "white",
           "zerolinewidth": 2
          }
         }
        },
        "title": {
         "text": "Parallel Coordinate Plot"
        }
       }
      }
     },
     "metadata": {},
     "output_type": "display_data"
    }
   ],
   "source": [
    "plot_parallel_coordinate(study)"
   ]
  },
  {
   "cell_type": "code",
   "execution_count": 7,
   "metadata": {},
   "outputs": [
    {
     "data": {
      "application/vnd.plotly.v1+json": {
       "config": {
        "plotlyServerURL": "https://plot.ly"
       },
       "data": [
        {
         "cliponaxis": false,
         "hovertemplate": [
          "gamma (CategoricalDistribution): 0.04026698093145356<extra></extra>",
          "kernel (CategoricalDistribution): 0.1170865581387471<extra></extra>",
          "c (FloatDistribution): 0.8426464609297993<extra></extra>"
         ],
         "marker": {
          "color": "rgb(66,146,198)"
         },
         "orientation": "h",
         "text": [
          "0.04",
          "0.12",
          "0.84"
         ],
         "textposition": "outside",
         "type": "bar",
         "x": [
          0.04026698093145356,
          0.1170865581387471,
          0.8426464609297993
         ],
         "y": [
          "gamma",
          "kernel",
          "c"
         ]
        }
       ],
       "layout": {
        "showlegend": false,
        "template": {
         "data": {
          "bar": [
           {
            "error_x": {
             "color": "#2a3f5f"
            },
            "error_y": {
             "color": "#2a3f5f"
            },
            "marker": {
             "line": {
              "color": "#E5ECF6",
              "width": 0.5
             },
             "pattern": {
              "fillmode": "overlay",
              "size": 10,
              "solidity": 0.2
             }
            },
            "type": "bar"
           }
          ],
          "barpolar": [
           {
            "marker": {
             "line": {
              "color": "#E5ECF6",
              "width": 0.5
             },
             "pattern": {
              "fillmode": "overlay",
              "size": 10,
              "solidity": 0.2
             }
            },
            "type": "barpolar"
           }
          ],
          "carpet": [
           {
            "aaxis": {
             "endlinecolor": "#2a3f5f",
             "gridcolor": "white",
             "linecolor": "white",
             "minorgridcolor": "white",
             "startlinecolor": "#2a3f5f"
            },
            "baxis": {
             "endlinecolor": "#2a3f5f",
             "gridcolor": "white",
             "linecolor": "white",
             "minorgridcolor": "white",
             "startlinecolor": "#2a3f5f"
            },
            "type": "carpet"
           }
          ],
          "choropleth": [
           {
            "colorbar": {
             "outlinewidth": 0,
             "ticks": ""
            },
            "type": "choropleth"
           }
          ],
          "contour": [
           {
            "colorbar": {
             "outlinewidth": 0,
             "ticks": ""
            },
            "colorscale": [
             [
              0,
              "#0d0887"
             ],
             [
              0.1111111111111111,
              "#46039f"
             ],
             [
              0.2222222222222222,
              "#7201a8"
             ],
             [
              0.3333333333333333,
              "#9c179e"
             ],
             [
              0.4444444444444444,
              "#bd3786"
             ],
             [
              0.5555555555555556,
              "#d8576b"
             ],
             [
              0.6666666666666666,
              "#ed7953"
             ],
             [
              0.7777777777777778,
              "#fb9f3a"
             ],
             [
              0.8888888888888888,
              "#fdca26"
             ],
             [
              1,
              "#f0f921"
             ]
            ],
            "type": "contour"
           }
          ],
          "contourcarpet": [
           {
            "colorbar": {
             "outlinewidth": 0,
             "ticks": ""
            },
            "type": "contourcarpet"
           }
          ],
          "heatmap": [
           {
            "colorbar": {
             "outlinewidth": 0,
             "ticks": ""
            },
            "colorscale": [
             [
              0,
              "#0d0887"
             ],
             [
              0.1111111111111111,
              "#46039f"
             ],
             [
              0.2222222222222222,
              "#7201a8"
             ],
             [
              0.3333333333333333,
              "#9c179e"
             ],
             [
              0.4444444444444444,
              "#bd3786"
             ],
             [
              0.5555555555555556,
              "#d8576b"
             ],
             [
              0.6666666666666666,
              "#ed7953"
             ],
             [
              0.7777777777777778,
              "#fb9f3a"
             ],
             [
              0.8888888888888888,
              "#fdca26"
             ],
             [
              1,
              "#f0f921"
             ]
            ],
            "type": "heatmap"
           }
          ],
          "heatmapgl": [
           {
            "colorbar": {
             "outlinewidth": 0,
             "ticks": ""
            },
            "colorscale": [
             [
              0,
              "#0d0887"
             ],
             [
              0.1111111111111111,
              "#46039f"
             ],
             [
              0.2222222222222222,
              "#7201a8"
             ],
             [
              0.3333333333333333,
              "#9c179e"
             ],
             [
              0.4444444444444444,
              "#bd3786"
             ],
             [
              0.5555555555555556,
              "#d8576b"
             ],
             [
              0.6666666666666666,
              "#ed7953"
             ],
             [
              0.7777777777777778,
              "#fb9f3a"
             ],
             [
              0.8888888888888888,
              "#fdca26"
             ],
             [
              1,
              "#f0f921"
             ]
            ],
            "type": "heatmapgl"
           }
          ],
          "histogram": [
           {
            "marker": {
             "pattern": {
              "fillmode": "overlay",
              "size": 10,
              "solidity": 0.2
             }
            },
            "type": "histogram"
           }
          ],
          "histogram2d": [
           {
            "colorbar": {
             "outlinewidth": 0,
             "ticks": ""
            },
            "colorscale": [
             [
              0,
              "#0d0887"
             ],
             [
              0.1111111111111111,
              "#46039f"
             ],
             [
              0.2222222222222222,
              "#7201a8"
             ],
             [
              0.3333333333333333,
              "#9c179e"
             ],
             [
              0.4444444444444444,
              "#bd3786"
             ],
             [
              0.5555555555555556,
              "#d8576b"
             ],
             [
              0.6666666666666666,
              "#ed7953"
             ],
             [
              0.7777777777777778,
              "#fb9f3a"
             ],
             [
              0.8888888888888888,
              "#fdca26"
             ],
             [
              1,
              "#f0f921"
             ]
            ],
            "type": "histogram2d"
           }
          ],
          "histogram2dcontour": [
           {
            "colorbar": {
             "outlinewidth": 0,
             "ticks": ""
            },
            "colorscale": [
             [
              0,
              "#0d0887"
             ],
             [
              0.1111111111111111,
              "#46039f"
             ],
             [
              0.2222222222222222,
              "#7201a8"
             ],
             [
              0.3333333333333333,
              "#9c179e"
             ],
             [
              0.4444444444444444,
              "#bd3786"
             ],
             [
              0.5555555555555556,
              "#d8576b"
             ],
             [
              0.6666666666666666,
              "#ed7953"
             ],
             [
              0.7777777777777778,
              "#fb9f3a"
             ],
             [
              0.8888888888888888,
              "#fdca26"
             ],
             [
              1,
              "#f0f921"
             ]
            ],
            "type": "histogram2dcontour"
           }
          ],
          "mesh3d": [
           {
            "colorbar": {
             "outlinewidth": 0,
             "ticks": ""
            },
            "type": "mesh3d"
           }
          ],
          "parcoords": [
           {
            "line": {
             "colorbar": {
              "outlinewidth": 0,
              "ticks": ""
             }
            },
            "type": "parcoords"
           }
          ],
          "pie": [
           {
            "automargin": true,
            "type": "pie"
           }
          ],
          "scatter": [
           {
            "fillpattern": {
             "fillmode": "overlay",
             "size": 10,
             "solidity": 0.2
            },
            "type": "scatter"
           }
          ],
          "scatter3d": [
           {
            "line": {
             "colorbar": {
              "outlinewidth": 0,
              "ticks": ""
             }
            },
            "marker": {
             "colorbar": {
              "outlinewidth": 0,
              "ticks": ""
             }
            },
            "type": "scatter3d"
           }
          ],
          "scattercarpet": [
           {
            "marker": {
             "colorbar": {
              "outlinewidth": 0,
              "ticks": ""
             }
            },
            "type": "scattercarpet"
           }
          ],
          "scattergeo": [
           {
            "marker": {
             "colorbar": {
              "outlinewidth": 0,
              "ticks": ""
             }
            },
            "type": "scattergeo"
           }
          ],
          "scattergl": [
           {
            "marker": {
             "colorbar": {
              "outlinewidth": 0,
              "ticks": ""
             }
            },
            "type": "scattergl"
           }
          ],
          "scattermapbox": [
           {
            "marker": {
             "colorbar": {
              "outlinewidth": 0,
              "ticks": ""
             }
            },
            "type": "scattermapbox"
           }
          ],
          "scatterpolar": [
           {
            "marker": {
             "colorbar": {
              "outlinewidth": 0,
              "ticks": ""
             }
            },
            "type": "scatterpolar"
           }
          ],
          "scatterpolargl": [
           {
            "marker": {
             "colorbar": {
              "outlinewidth": 0,
              "ticks": ""
             }
            },
            "type": "scatterpolargl"
           }
          ],
          "scatterternary": [
           {
            "marker": {
             "colorbar": {
              "outlinewidth": 0,
              "ticks": ""
             }
            },
            "type": "scatterternary"
           }
          ],
          "surface": [
           {
            "colorbar": {
             "outlinewidth": 0,
             "ticks": ""
            },
            "colorscale": [
             [
              0,
              "#0d0887"
             ],
             [
              0.1111111111111111,
              "#46039f"
             ],
             [
              0.2222222222222222,
              "#7201a8"
             ],
             [
              0.3333333333333333,
              "#9c179e"
             ],
             [
              0.4444444444444444,
              "#bd3786"
             ],
             [
              0.5555555555555556,
              "#d8576b"
             ],
             [
              0.6666666666666666,
              "#ed7953"
             ],
             [
              0.7777777777777778,
              "#fb9f3a"
             ],
             [
              0.8888888888888888,
              "#fdca26"
             ],
             [
              1,
              "#f0f921"
             ]
            ],
            "type": "surface"
           }
          ],
          "table": [
           {
            "cells": {
             "fill": {
              "color": "#EBF0F8"
             },
             "line": {
              "color": "white"
             }
            },
            "header": {
             "fill": {
              "color": "#C8D4E3"
             },
             "line": {
              "color": "white"
             }
            },
            "type": "table"
           }
          ]
         },
         "layout": {
          "annotationdefaults": {
           "arrowcolor": "#2a3f5f",
           "arrowhead": 0,
           "arrowwidth": 1
          },
          "autotypenumbers": "strict",
          "coloraxis": {
           "colorbar": {
            "outlinewidth": 0,
            "ticks": ""
           }
          },
          "colorscale": {
           "diverging": [
            [
             0,
             "#8e0152"
            ],
            [
             0.1,
             "#c51b7d"
            ],
            [
             0.2,
             "#de77ae"
            ],
            [
             0.3,
             "#f1b6da"
            ],
            [
             0.4,
             "#fde0ef"
            ],
            [
             0.5,
             "#f7f7f7"
            ],
            [
             0.6,
             "#e6f5d0"
            ],
            [
             0.7,
             "#b8e186"
            ],
            [
             0.8,
             "#7fbc41"
            ],
            [
             0.9,
             "#4d9221"
            ],
            [
             1,
             "#276419"
            ]
           ],
           "sequential": [
            [
             0,
             "#0d0887"
            ],
            [
             0.1111111111111111,
             "#46039f"
            ],
            [
             0.2222222222222222,
             "#7201a8"
            ],
            [
             0.3333333333333333,
             "#9c179e"
            ],
            [
             0.4444444444444444,
             "#bd3786"
            ],
            [
             0.5555555555555556,
             "#d8576b"
            ],
            [
             0.6666666666666666,
             "#ed7953"
            ],
            [
             0.7777777777777778,
             "#fb9f3a"
            ],
            [
             0.8888888888888888,
             "#fdca26"
            ],
            [
             1,
             "#f0f921"
            ]
           ],
           "sequentialminus": [
            [
             0,
             "#0d0887"
            ],
            [
             0.1111111111111111,
             "#46039f"
            ],
            [
             0.2222222222222222,
             "#7201a8"
            ],
            [
             0.3333333333333333,
             "#9c179e"
            ],
            [
             0.4444444444444444,
             "#bd3786"
            ],
            [
             0.5555555555555556,
             "#d8576b"
            ],
            [
             0.6666666666666666,
             "#ed7953"
            ],
            [
             0.7777777777777778,
             "#fb9f3a"
            ],
            [
             0.8888888888888888,
             "#fdca26"
            ],
            [
             1,
             "#f0f921"
            ]
           ]
          },
          "colorway": [
           "#636efa",
           "#EF553B",
           "#00cc96",
           "#ab63fa",
           "#FFA15A",
           "#19d3f3",
           "#FF6692",
           "#B6E880",
           "#FF97FF",
           "#FECB52"
          ],
          "font": {
           "color": "#2a3f5f"
          },
          "geo": {
           "bgcolor": "white",
           "lakecolor": "white",
           "landcolor": "#E5ECF6",
           "showlakes": true,
           "showland": true,
           "subunitcolor": "white"
          },
          "hoverlabel": {
           "align": "left"
          },
          "hovermode": "closest",
          "mapbox": {
           "style": "light"
          },
          "paper_bgcolor": "white",
          "plot_bgcolor": "#E5ECF6",
          "polar": {
           "angularaxis": {
            "gridcolor": "white",
            "linecolor": "white",
            "ticks": ""
           },
           "bgcolor": "#E5ECF6",
           "radialaxis": {
            "gridcolor": "white",
            "linecolor": "white",
            "ticks": ""
           }
          },
          "scene": {
           "xaxis": {
            "backgroundcolor": "#E5ECF6",
            "gridcolor": "white",
            "gridwidth": 2,
            "linecolor": "white",
            "showbackground": true,
            "ticks": "",
            "zerolinecolor": "white"
           },
           "yaxis": {
            "backgroundcolor": "#E5ECF6",
            "gridcolor": "white",
            "gridwidth": 2,
            "linecolor": "white",
            "showbackground": true,
            "ticks": "",
            "zerolinecolor": "white"
           },
           "zaxis": {
            "backgroundcolor": "#E5ECF6",
            "gridcolor": "white",
            "gridwidth": 2,
            "linecolor": "white",
            "showbackground": true,
            "ticks": "",
            "zerolinecolor": "white"
           }
          },
          "shapedefaults": {
           "line": {
            "color": "#2a3f5f"
           }
          },
          "ternary": {
           "aaxis": {
            "gridcolor": "white",
            "linecolor": "white",
            "ticks": ""
           },
           "baxis": {
            "gridcolor": "white",
            "linecolor": "white",
            "ticks": ""
           },
           "bgcolor": "#E5ECF6",
           "caxis": {
            "gridcolor": "white",
            "linecolor": "white",
            "ticks": ""
           }
          },
          "title": {
           "x": 0.05
          },
          "xaxis": {
           "automargin": true,
           "gridcolor": "white",
           "linecolor": "white",
           "ticks": "",
           "title": {
            "standoff": 15
           },
           "zerolinecolor": "white",
           "zerolinewidth": 2
          },
          "yaxis": {
           "automargin": true,
           "gridcolor": "white",
           "linecolor": "white",
           "ticks": "",
           "title": {
            "standoff": 15
           },
           "zerolinecolor": "white",
           "zerolinewidth": 2
          }
         }
        },
        "title": {
         "text": "Hyperparameter Importances"
        },
        "xaxis": {
         "title": {
          "text": "Importance for Objective Value"
         }
        },
        "yaxis": {
         "title": {
          "text": "Hyperparameter"
         }
        }
       }
      }
     },
     "metadata": {},
     "output_type": "display_data"
    }
   ],
   "source": [
    "plot_param_importances(study)"
   ]
  },
  {
   "cell_type": "code",
   "execution_count": 8,
   "metadata": {},
   "outputs": [
    {
     "data": {
      "application/vnd.plotly.v1+json": {
       "config": {
        "plotlyServerURL": "https://plot.ly"
       },
       "data": [
        {
         "marker": {
          "color": [
           0,
           1,
           2,
           3,
           4,
           5,
           6,
           7,
           8,
           9,
           10,
           11,
           12,
           13,
           14,
           15,
           16,
           17,
           18,
           19,
           20,
           21,
           22,
           23,
           24,
           25,
           26,
           27,
           28,
           29,
           30,
           31,
           32,
           33,
           34,
           35,
           36,
           37,
           38,
           39,
           40,
           41,
           42,
           43,
           44,
           45,
           46,
           47,
           48,
           49
          ],
          "colorbar": {
           "title": {
            "text": "Trial"
           },
           "x": 1,
           "xpad": 40
          },
          "colorscale": [
           [
            0,
            "rgb(247,251,255)"
           ],
           [
            0.125,
            "rgb(222,235,247)"
           ],
           [
            0.25,
            "rgb(198,219,239)"
           ],
           [
            0.375,
            "rgb(158,202,225)"
           ],
           [
            0.5,
            "rgb(107,174,214)"
           ],
           [
            0.625,
            "rgb(66,146,198)"
           ],
           [
            0.75,
            "rgb(33,113,181)"
           ],
           [
            0.875,
            "rgb(8,81,156)"
           ],
           [
            1,
            "rgb(8,48,107)"
           ]
          ],
          "line": {
           "color": "Grey",
           "width": 0.5
          },
          "showscale": true
         },
         "mode": "markers",
         "showlegend": false,
         "type": "scatter",
         "x": [
          0.04111714115664755,
          3.141043061182334,
          0.03499617688808586,
          0.39383942450460424,
          0.09597493568860846,
          0.026554230868065267,
          0.012143096823549518,
          0.11686244133073516,
          0.6142515946747281,
          0.046089231102795405,
          4.875103196646984,
          5.3043047389051345,
          9.782171880109399,
          2.0591564482583657,
          1.5904163312291153,
          1.279156779580503,
          1.2846416128425218,
          0.973788182629961,
          1.6014333356962671,
          0.6480869209208344,
          0.3621844556437957,
          1.9431657249199208,
          1.3815880429813183,
          0.8413808358820025,
          1.910999810644982,
          3.0672361660367025,
          0.5818525776592376,
          0.19687493724150107,
          0.5146113432549427,
          0.27882393919168064,
          1.0529470400258216,
          0.9904767501053444,
          0.9076363682186189,
          0.7836686279602519,
          0.9276566618643377,
          0.4015553288366672,
          0.876596000894981,
          0.9889348050058239,
          0.4980521794778418,
          0.2851284359431068,
          2.650965968270078,
          2.4675477613592345,
          2.7274652063963454,
          2.8532492194031094,
          2.8779664350014134,
          3.1963680716447933,
          4.630210285154217,
          3.9153433857642326,
          4.266679897093789,
          4.274290891825934
         ],
         "xaxis": "x",
         "y": [
          0.3440596910620287,
          0.6217920198414303,
          0.03431970260223048,
          0.6154665905381511,
          0.5078477515777273,
          0.03431970260223048,
          0.4086971595103358,
          0.5269270526709142,
          0.6200452406281155,
          0.5477464462381204,
          0.6227801573103362,
          0.6231594961947701,
          0.6211225131596293,
          0.6237309727024284,
          0.625981643883754,
          0.6260939230227985,
          0.6256055155417102,
          0.6255603746042705,
          0.6258510094965027,
          0.6228135640479411,
          0.6141124294167423,
          0.6236602563870367,
          0.6248009353737188,
          0.6251290972620459,
          0.623786509836864,
          0.6215016038930324,
          0.6264856603090225,
          0.5636866565502585,
          0.6215843687227763,
          0.584593389409293,
          0.6363368010315259,
          0.6340339582223975,
          0.633038112379446,
          0.6332029109703179,
          0.6338287651041521,
          0.6076461312834815,
          0.6344126834398166,
          0.6340339582223975,
          0.6200596105234972,
          0.5864746691576213,
          0.6516417553413782,
          0.651194884543296,
          0.6528840905833782,
          0.6541714448654339,
          0.6553925925413401,
          0.6561666555339485,
          0.6546578262226566,
          0.6572999323446688,
          0.6562734227970017,
          0.6561039571427711
         ],
         "yaxis": "y"
        },
        {
         "marker": {
          "color": [
           0,
           1,
           2,
           3,
           4,
           5,
           6,
           7,
           8,
           9,
           10,
           11,
           12,
           13,
           14,
           15,
           16,
           17,
           18,
           19,
           20,
           21,
           22,
           23,
           24,
           25,
           26,
           27,
           28,
           29,
           30,
           31,
           32,
           33,
           34,
           35,
           36,
           37,
           38,
           39,
           40,
           41,
           42,
           43,
           44,
           45,
           46,
           47,
           48,
           49
          ],
          "colorbar": {
           "title": {
            "text": "Trial"
           },
           "x": 1,
           "xpad": 40
          },
          "colorscale": [
           [
            0,
            "rgb(247,251,255)"
           ],
           [
            0.125,
            "rgb(222,235,247)"
           ],
           [
            0.25,
            "rgb(198,219,239)"
           ],
           [
            0.375,
            "rgb(158,202,225)"
           ],
           [
            0.5,
            "rgb(107,174,214)"
           ],
           [
            0.625,
            "rgb(66,146,198)"
           ],
           [
            0.75,
            "rgb(33,113,181)"
           ],
           [
            0.875,
            "rgb(8,81,156)"
           ],
           [
            1,
            "rgb(8,48,107)"
           ]
          ],
          "line": {
           "color": "Grey",
           "width": 0.5
          },
          "showscale": false
         },
         "mode": "markers",
         "showlegend": false,
         "type": "scatter",
         "x": [
          "scale",
          "auto",
          "auto",
          "auto",
          "scale",
          "auto",
          "auto",
          "scale",
          "scale",
          "scale",
          "auto",
          "auto",
          "auto",
          "auto",
          "auto",
          "auto",
          "auto",
          "auto",
          "auto",
          "auto",
          "auto",
          "auto",
          "auto",
          "auto",
          "auto",
          "auto",
          "scale",
          "scale",
          "scale",
          "scale",
          "scale",
          "scale",
          "scale",
          "scale",
          "scale",
          "scale",
          "scale",
          "scale",
          "scale",
          "scale",
          "scale",
          "scale",
          "scale",
          "scale",
          "scale",
          "scale",
          "scale",
          "scale",
          "scale",
          "scale"
         ],
         "xaxis": "x2",
         "y": [
          0.3440596910620287,
          0.6217920198414303,
          0.03431970260223048,
          0.6154665905381511,
          0.5078477515777273,
          0.03431970260223048,
          0.4086971595103358,
          0.5269270526709142,
          0.6200452406281155,
          0.5477464462381204,
          0.6227801573103362,
          0.6231594961947701,
          0.6211225131596293,
          0.6237309727024284,
          0.625981643883754,
          0.6260939230227985,
          0.6256055155417102,
          0.6255603746042705,
          0.6258510094965027,
          0.6228135640479411,
          0.6141124294167423,
          0.6236602563870367,
          0.6248009353737188,
          0.6251290972620459,
          0.623786509836864,
          0.6215016038930324,
          0.6264856603090225,
          0.5636866565502585,
          0.6215843687227763,
          0.584593389409293,
          0.6363368010315259,
          0.6340339582223975,
          0.633038112379446,
          0.6332029109703179,
          0.6338287651041521,
          0.6076461312834815,
          0.6344126834398166,
          0.6340339582223975,
          0.6200596105234972,
          0.5864746691576213,
          0.6516417553413782,
          0.651194884543296,
          0.6528840905833782,
          0.6541714448654339,
          0.6553925925413401,
          0.6561666555339485,
          0.6546578262226566,
          0.6572999323446688,
          0.6562734227970017,
          0.6561039571427711
         ],
         "yaxis": "y2"
        },
        {
         "marker": {
          "color": [
           0,
           1,
           2,
           3,
           4,
           5,
           6,
           7,
           8,
           9,
           10,
           11,
           12,
           13,
           14,
           15,
           16,
           17,
           18,
           19,
           20,
           21,
           22,
           23,
           24,
           25,
           26,
           27,
           28,
           29,
           30,
           31,
           32,
           33,
           34,
           35,
           36,
           37,
           38,
           39,
           40,
           41,
           42,
           43,
           44,
           45,
           46,
           47,
           48,
           49
          ],
          "colorbar": {
           "title": {
            "text": "Trial"
           },
           "x": 1,
           "xpad": 40
          },
          "colorscale": [
           [
            0,
            "rgb(247,251,255)"
           ],
           [
            0.125,
            "rgb(222,235,247)"
           ],
           [
            0.25,
            "rgb(198,219,239)"
           ],
           [
            0.375,
            "rgb(158,202,225)"
           ],
           [
            0.5,
            "rgb(107,174,214)"
           ],
           [
            0.625,
            "rgb(66,146,198)"
           ],
           [
            0.75,
            "rgb(33,113,181)"
           ],
           [
            0.875,
            "rgb(8,81,156)"
           ],
           [
            1,
            "rgb(8,48,107)"
           ]
          ],
          "line": {
           "color": "Grey",
           "width": 0.5
          },
          "showscale": false
         },
         "mode": "markers",
         "showlegend": false,
         "type": "scatter",
         "x": [
          "rbf",
          "linear",
          "rbf",
          "linear",
          "rbf",
          "rbf",
          "linear",
          "rbf",
          "linear",
          "linear",
          "linear",
          "linear",
          "linear",
          "linear",
          "linear",
          "linear",
          "linear",
          "linear",
          "linear",
          "linear",
          "linear",
          "linear",
          "linear",
          "linear",
          "linear",
          "linear",
          "rbf",
          "rbf",
          "rbf",
          "rbf",
          "rbf",
          "rbf",
          "rbf",
          "rbf",
          "rbf",
          "rbf",
          "rbf",
          "rbf",
          "rbf",
          "rbf",
          "rbf",
          "rbf",
          "rbf",
          "rbf",
          "rbf",
          "rbf",
          "rbf",
          "rbf",
          "rbf",
          "rbf"
         ],
         "xaxis": "x3",
         "y": [
          0.3440596910620287,
          0.6217920198414303,
          0.03431970260223048,
          0.6154665905381511,
          0.5078477515777273,
          0.03431970260223048,
          0.4086971595103358,
          0.5269270526709142,
          0.6200452406281155,
          0.5477464462381204,
          0.6227801573103362,
          0.6231594961947701,
          0.6211225131596293,
          0.6237309727024284,
          0.625981643883754,
          0.6260939230227985,
          0.6256055155417102,
          0.6255603746042705,
          0.6258510094965027,
          0.6228135640479411,
          0.6141124294167423,
          0.6236602563870367,
          0.6248009353737188,
          0.6251290972620459,
          0.623786509836864,
          0.6215016038930324,
          0.6264856603090225,
          0.5636866565502585,
          0.6215843687227763,
          0.584593389409293,
          0.6363368010315259,
          0.6340339582223975,
          0.633038112379446,
          0.6332029109703179,
          0.6338287651041521,
          0.6076461312834815,
          0.6344126834398166,
          0.6340339582223975,
          0.6200596105234972,
          0.5864746691576213,
          0.6516417553413782,
          0.651194884543296,
          0.6528840905833782,
          0.6541714448654339,
          0.6553925925413401,
          0.6561666555339485,
          0.6546578262226566,
          0.6572999323446688,
          0.6562734227970017,
          0.6561039571427711
         ],
         "yaxis": "y3"
        }
       ],
       "layout": {
        "template": {
         "data": {
          "bar": [
           {
            "error_x": {
             "color": "#2a3f5f"
            },
            "error_y": {
             "color": "#2a3f5f"
            },
            "marker": {
             "line": {
              "color": "#E5ECF6",
              "width": 0.5
             },
             "pattern": {
              "fillmode": "overlay",
              "size": 10,
              "solidity": 0.2
             }
            },
            "type": "bar"
           }
          ],
          "barpolar": [
           {
            "marker": {
             "line": {
              "color": "#E5ECF6",
              "width": 0.5
             },
             "pattern": {
              "fillmode": "overlay",
              "size": 10,
              "solidity": 0.2
             }
            },
            "type": "barpolar"
           }
          ],
          "carpet": [
           {
            "aaxis": {
             "endlinecolor": "#2a3f5f",
             "gridcolor": "white",
             "linecolor": "white",
             "minorgridcolor": "white",
             "startlinecolor": "#2a3f5f"
            },
            "baxis": {
             "endlinecolor": "#2a3f5f",
             "gridcolor": "white",
             "linecolor": "white",
             "minorgridcolor": "white",
             "startlinecolor": "#2a3f5f"
            },
            "type": "carpet"
           }
          ],
          "choropleth": [
           {
            "colorbar": {
             "outlinewidth": 0,
             "ticks": ""
            },
            "type": "choropleth"
           }
          ],
          "contour": [
           {
            "colorbar": {
             "outlinewidth": 0,
             "ticks": ""
            },
            "colorscale": [
             [
              0,
              "#0d0887"
             ],
             [
              0.1111111111111111,
              "#46039f"
             ],
             [
              0.2222222222222222,
              "#7201a8"
             ],
             [
              0.3333333333333333,
              "#9c179e"
             ],
             [
              0.4444444444444444,
              "#bd3786"
             ],
             [
              0.5555555555555556,
              "#d8576b"
             ],
             [
              0.6666666666666666,
              "#ed7953"
             ],
             [
              0.7777777777777778,
              "#fb9f3a"
             ],
             [
              0.8888888888888888,
              "#fdca26"
             ],
             [
              1,
              "#f0f921"
             ]
            ],
            "type": "contour"
           }
          ],
          "contourcarpet": [
           {
            "colorbar": {
             "outlinewidth": 0,
             "ticks": ""
            },
            "type": "contourcarpet"
           }
          ],
          "heatmap": [
           {
            "colorbar": {
             "outlinewidth": 0,
             "ticks": ""
            },
            "colorscale": [
             [
              0,
              "#0d0887"
             ],
             [
              0.1111111111111111,
              "#46039f"
             ],
             [
              0.2222222222222222,
              "#7201a8"
             ],
             [
              0.3333333333333333,
              "#9c179e"
             ],
             [
              0.4444444444444444,
              "#bd3786"
             ],
             [
              0.5555555555555556,
              "#d8576b"
             ],
             [
              0.6666666666666666,
              "#ed7953"
             ],
             [
              0.7777777777777778,
              "#fb9f3a"
             ],
             [
              0.8888888888888888,
              "#fdca26"
             ],
             [
              1,
              "#f0f921"
             ]
            ],
            "type": "heatmap"
           }
          ],
          "heatmapgl": [
           {
            "colorbar": {
             "outlinewidth": 0,
             "ticks": ""
            },
            "colorscale": [
             [
              0,
              "#0d0887"
             ],
             [
              0.1111111111111111,
              "#46039f"
             ],
             [
              0.2222222222222222,
              "#7201a8"
             ],
             [
              0.3333333333333333,
              "#9c179e"
             ],
             [
              0.4444444444444444,
              "#bd3786"
             ],
             [
              0.5555555555555556,
              "#d8576b"
             ],
             [
              0.6666666666666666,
              "#ed7953"
             ],
             [
              0.7777777777777778,
              "#fb9f3a"
             ],
             [
              0.8888888888888888,
              "#fdca26"
             ],
             [
              1,
              "#f0f921"
             ]
            ],
            "type": "heatmapgl"
           }
          ],
          "histogram": [
           {
            "marker": {
             "pattern": {
              "fillmode": "overlay",
              "size": 10,
              "solidity": 0.2
             }
            },
            "type": "histogram"
           }
          ],
          "histogram2d": [
           {
            "colorbar": {
             "outlinewidth": 0,
             "ticks": ""
            },
            "colorscale": [
             [
              0,
              "#0d0887"
             ],
             [
              0.1111111111111111,
              "#46039f"
             ],
             [
              0.2222222222222222,
              "#7201a8"
             ],
             [
              0.3333333333333333,
              "#9c179e"
             ],
             [
              0.4444444444444444,
              "#bd3786"
             ],
             [
              0.5555555555555556,
              "#d8576b"
             ],
             [
              0.6666666666666666,
              "#ed7953"
             ],
             [
              0.7777777777777778,
              "#fb9f3a"
             ],
             [
              0.8888888888888888,
              "#fdca26"
             ],
             [
              1,
              "#f0f921"
             ]
            ],
            "type": "histogram2d"
           }
          ],
          "histogram2dcontour": [
           {
            "colorbar": {
             "outlinewidth": 0,
             "ticks": ""
            },
            "colorscale": [
             [
              0,
              "#0d0887"
             ],
             [
              0.1111111111111111,
              "#46039f"
             ],
             [
              0.2222222222222222,
              "#7201a8"
             ],
             [
              0.3333333333333333,
              "#9c179e"
             ],
             [
              0.4444444444444444,
              "#bd3786"
             ],
             [
              0.5555555555555556,
              "#d8576b"
             ],
             [
              0.6666666666666666,
              "#ed7953"
             ],
             [
              0.7777777777777778,
              "#fb9f3a"
             ],
             [
              0.8888888888888888,
              "#fdca26"
             ],
             [
              1,
              "#f0f921"
             ]
            ],
            "type": "histogram2dcontour"
           }
          ],
          "mesh3d": [
           {
            "colorbar": {
             "outlinewidth": 0,
             "ticks": ""
            },
            "type": "mesh3d"
           }
          ],
          "parcoords": [
           {
            "line": {
             "colorbar": {
              "outlinewidth": 0,
              "ticks": ""
             }
            },
            "type": "parcoords"
           }
          ],
          "pie": [
           {
            "automargin": true,
            "type": "pie"
           }
          ],
          "scatter": [
           {
            "fillpattern": {
             "fillmode": "overlay",
             "size": 10,
             "solidity": 0.2
            },
            "type": "scatter"
           }
          ],
          "scatter3d": [
           {
            "line": {
             "colorbar": {
              "outlinewidth": 0,
              "ticks": ""
             }
            },
            "marker": {
             "colorbar": {
              "outlinewidth": 0,
              "ticks": ""
             }
            },
            "type": "scatter3d"
           }
          ],
          "scattercarpet": [
           {
            "marker": {
             "colorbar": {
              "outlinewidth": 0,
              "ticks": ""
             }
            },
            "type": "scattercarpet"
           }
          ],
          "scattergeo": [
           {
            "marker": {
             "colorbar": {
              "outlinewidth": 0,
              "ticks": ""
             }
            },
            "type": "scattergeo"
           }
          ],
          "scattergl": [
           {
            "marker": {
             "colorbar": {
              "outlinewidth": 0,
              "ticks": ""
             }
            },
            "type": "scattergl"
           }
          ],
          "scattermapbox": [
           {
            "marker": {
             "colorbar": {
              "outlinewidth": 0,
              "ticks": ""
             }
            },
            "type": "scattermapbox"
           }
          ],
          "scatterpolar": [
           {
            "marker": {
             "colorbar": {
              "outlinewidth": 0,
              "ticks": ""
             }
            },
            "type": "scatterpolar"
           }
          ],
          "scatterpolargl": [
           {
            "marker": {
             "colorbar": {
              "outlinewidth": 0,
              "ticks": ""
             }
            },
            "type": "scatterpolargl"
           }
          ],
          "scatterternary": [
           {
            "marker": {
             "colorbar": {
              "outlinewidth": 0,
              "ticks": ""
             }
            },
            "type": "scatterternary"
           }
          ],
          "surface": [
           {
            "colorbar": {
             "outlinewidth": 0,
             "ticks": ""
            },
            "colorscale": [
             [
              0,
              "#0d0887"
             ],
             [
              0.1111111111111111,
              "#46039f"
             ],
             [
              0.2222222222222222,
              "#7201a8"
             ],
             [
              0.3333333333333333,
              "#9c179e"
             ],
             [
              0.4444444444444444,
              "#bd3786"
             ],
             [
              0.5555555555555556,
              "#d8576b"
             ],
             [
              0.6666666666666666,
              "#ed7953"
             ],
             [
              0.7777777777777778,
              "#fb9f3a"
             ],
             [
              0.8888888888888888,
              "#fdca26"
             ],
             [
              1,
              "#f0f921"
             ]
            ],
            "type": "surface"
           }
          ],
          "table": [
           {
            "cells": {
             "fill": {
              "color": "#EBF0F8"
             },
             "line": {
              "color": "white"
             }
            },
            "header": {
             "fill": {
              "color": "#C8D4E3"
             },
             "line": {
              "color": "white"
             }
            },
            "type": "table"
           }
          ]
         },
         "layout": {
          "annotationdefaults": {
           "arrowcolor": "#2a3f5f",
           "arrowhead": 0,
           "arrowwidth": 1
          },
          "autotypenumbers": "strict",
          "coloraxis": {
           "colorbar": {
            "outlinewidth": 0,
            "ticks": ""
           }
          },
          "colorscale": {
           "diverging": [
            [
             0,
             "#8e0152"
            ],
            [
             0.1,
             "#c51b7d"
            ],
            [
             0.2,
             "#de77ae"
            ],
            [
             0.3,
             "#f1b6da"
            ],
            [
             0.4,
             "#fde0ef"
            ],
            [
             0.5,
             "#f7f7f7"
            ],
            [
             0.6,
             "#e6f5d0"
            ],
            [
             0.7,
             "#b8e186"
            ],
            [
             0.8,
             "#7fbc41"
            ],
            [
             0.9,
             "#4d9221"
            ],
            [
             1,
             "#276419"
            ]
           ],
           "sequential": [
            [
             0,
             "#0d0887"
            ],
            [
             0.1111111111111111,
             "#46039f"
            ],
            [
             0.2222222222222222,
             "#7201a8"
            ],
            [
             0.3333333333333333,
             "#9c179e"
            ],
            [
             0.4444444444444444,
             "#bd3786"
            ],
            [
             0.5555555555555556,
             "#d8576b"
            ],
            [
             0.6666666666666666,
             "#ed7953"
            ],
            [
             0.7777777777777778,
             "#fb9f3a"
            ],
            [
             0.8888888888888888,
             "#fdca26"
            ],
            [
             1,
             "#f0f921"
            ]
           ],
           "sequentialminus": [
            [
             0,
             "#0d0887"
            ],
            [
             0.1111111111111111,
             "#46039f"
            ],
            [
             0.2222222222222222,
             "#7201a8"
            ],
            [
             0.3333333333333333,
             "#9c179e"
            ],
            [
             0.4444444444444444,
             "#bd3786"
            ],
            [
             0.5555555555555556,
             "#d8576b"
            ],
            [
             0.6666666666666666,
             "#ed7953"
            ],
            [
             0.7777777777777778,
             "#fb9f3a"
            ],
            [
             0.8888888888888888,
             "#fdca26"
            ],
            [
             1,
             "#f0f921"
            ]
           ]
          },
          "colorway": [
           "#636efa",
           "#EF553B",
           "#00cc96",
           "#ab63fa",
           "#FFA15A",
           "#19d3f3",
           "#FF6692",
           "#B6E880",
           "#FF97FF",
           "#FECB52"
          ],
          "font": {
           "color": "#2a3f5f"
          },
          "geo": {
           "bgcolor": "white",
           "lakecolor": "white",
           "landcolor": "#E5ECF6",
           "showlakes": true,
           "showland": true,
           "subunitcolor": "white"
          },
          "hoverlabel": {
           "align": "left"
          },
          "hovermode": "closest",
          "mapbox": {
           "style": "light"
          },
          "paper_bgcolor": "white",
          "plot_bgcolor": "#E5ECF6",
          "polar": {
           "angularaxis": {
            "gridcolor": "white",
            "linecolor": "white",
            "ticks": ""
           },
           "bgcolor": "#E5ECF6",
           "radialaxis": {
            "gridcolor": "white",
            "linecolor": "white",
            "ticks": ""
           }
          },
          "scene": {
           "xaxis": {
            "backgroundcolor": "#E5ECF6",
            "gridcolor": "white",
            "gridwidth": 2,
            "linecolor": "white",
            "showbackground": true,
            "ticks": "",
            "zerolinecolor": "white"
           },
           "yaxis": {
            "backgroundcolor": "#E5ECF6",
            "gridcolor": "white",
            "gridwidth": 2,
            "linecolor": "white",
            "showbackground": true,
            "ticks": "",
            "zerolinecolor": "white"
           },
           "zaxis": {
            "backgroundcolor": "#E5ECF6",
            "gridcolor": "white",
            "gridwidth": 2,
            "linecolor": "white",
            "showbackground": true,
            "ticks": "",
            "zerolinecolor": "white"
           }
          },
          "shapedefaults": {
           "line": {
            "color": "#2a3f5f"
           }
          },
          "ternary": {
           "aaxis": {
            "gridcolor": "white",
            "linecolor": "white",
            "ticks": ""
           },
           "baxis": {
            "gridcolor": "white",
            "linecolor": "white",
            "ticks": ""
           },
           "bgcolor": "#E5ECF6",
           "caxis": {
            "gridcolor": "white",
            "linecolor": "white",
            "ticks": ""
           }
          },
          "title": {
           "x": 0.05
          },
          "xaxis": {
           "automargin": true,
           "gridcolor": "white",
           "linecolor": "white",
           "ticks": "",
           "title": {
            "standoff": 15
           },
           "zerolinecolor": "white",
           "zerolinewidth": 2
          },
          "yaxis": {
           "automargin": true,
           "gridcolor": "white",
           "linecolor": "white",
           "ticks": "",
           "title": {
            "standoff": 15
           },
           "zerolinecolor": "white",
           "zerolinewidth": 2
          }
         }
        },
        "title": {
         "text": "Slice Plot"
        },
        "xaxis": {
         "anchor": "y",
         "domain": [
          0,
          0.2888888888888889
         ],
         "title": {
          "text": "c"
         },
         "type": "log"
        },
        "xaxis2": {
         "anchor": "y2",
         "domain": [
          0.35555555555555557,
          0.6444444444444445
         ],
         "title": {
          "text": "gamma"
         }
        },
        "xaxis3": {
         "anchor": "y3",
         "domain": [
          0.7111111111111111,
          1
         ],
         "title": {
          "text": "kernel"
         }
        },
        "yaxis": {
         "anchor": "x",
         "domain": [
          0,
          1
         ],
         "title": {
          "text": "Objective Value"
         }
        },
        "yaxis2": {
         "anchor": "x2",
         "domain": [
          0,
          1
         ],
         "matches": "y",
         "showticklabels": false
        },
        "yaxis3": {
         "anchor": "x3",
         "domain": [
          0,
          1
         ],
         "matches": "y",
         "showticklabels": false
        }
       }
      }
     },
     "metadata": {},
     "output_type": "display_data"
    }
   ],
   "source": [
    "plot_slice(study)"
   ]
  },
  {
   "cell_type": "code",
   "execution_count": 13,
   "metadata": {},
   "outputs": [
    {
     "name": "stdout",
     "output_type": "stream",
     "text": [
      "                    precision    recall  f1-score   support\n",
      "\n",
      "           Fiction       0.57      0.72      0.64      1154\n",
      "           Fantasy       0.77      0.79      0.78      1111\n",
      "           Romance       0.69      0.69      0.69       630\n",
      "       Young Adult       0.61      0.59      0.60       616\n",
      "        Nonfiction       0.78      0.69      0.74       507\n",
      "Historical Fiction       0.68      0.60      0.64       442\n",
      "           Mystery       0.77      0.69      0.73       421\n",
      "   Science Fiction       0.77      0.64      0.70       281\n",
      "          Classics       0.62      0.32      0.42       227\n",
      "           History       0.70      0.62      0.66       182\n",
      "\n",
      "          accuracy                           0.68      5571\n",
      "         macro avg       0.70      0.63      0.66      5571\n",
      "      weighted avg       0.69      0.68      0.68      5571\n",
      "\n",
      "Accuracy: 0.66 (+/- 0.04)\n",
      "F1 score: 0.657300\n"
     ]
    }
   ],
   "source": [
    "clf = svm.SVC(kernel='rbf', C=3.9153433857642326, gamma='scale')\n",
    "clf.fit(Xtrain, Ytrain)\n",
    "Ypred = clf.predict(Xtest)\n",
    "print(classification_report(Ytest, Ypred, target_names=genre_mapping.values()))\n",
    "\n",
    "scores = cross_val_score(clf, X, Y, cv=10)\n",
    "print(\"Accuracy: %0.2f (+/- %0.2f)\" % (scores.mean(), scores.std() * 2))\n",
    "f1 = f1_score(Ytest, Ypred, average='macro')\n",
    "print('F1 score: %f' % f1)"
   ]
  },
  {
   "cell_type": "code",
   "execution_count": 14,
   "metadata": {},
   "outputs": [
    {
     "name": "stderr",
     "output_type": "stream",
     "text": [
      "/home/byron/.local/lib/python3.10/site-packages/sklearn/metrics/_classification.py:1344: UndefinedMetricWarning:\n",
      "\n",
      "Precision and F-score are ill-defined and being set to 0.0 in labels with no predicted samples. Use `zero_division` parameter to control this behavior.\n",
      "\n",
      "/home/byron/.local/lib/python3.10/site-packages/sklearn/metrics/_classification.py:1344: UndefinedMetricWarning:\n",
      "\n",
      "Precision and F-score are ill-defined and being set to 0.0 in labels with no predicted samples. Use `zero_division` parameter to control this behavior.\n",
      "\n",
      "/home/byron/.local/lib/python3.10/site-packages/sklearn/metrics/_classification.py:1344: UndefinedMetricWarning:\n",
      "\n",
      "Precision and F-score are ill-defined and being set to 0.0 in labels with no predicted samples. Use `zero_division` parameter to control this behavior.\n",
      "\n"
     ]
    },
    {
     "name": "stdout",
     "output_type": "stream",
     "text": [
      "                    precision    recall  f1-score   support\n",
      "\n",
      "           Fiction       0.28      0.85      0.43      1154\n",
      "           Fantasy       0.49      0.77      0.60      1111\n",
      "           Romance       0.49      0.29      0.36       630\n",
      "       Young Adult       0.00      0.00      0.00       616\n",
      "        Nonfiction       0.00      0.00      0.00       507\n",
      "Historical Fiction       0.00      0.00      0.00       442\n",
      "           Mystery       0.00      0.00      0.00       421\n",
      "   Science Fiction       0.00      0.00      0.00       281\n",
      "          Classics       0.00      0.00      0.00       227\n",
      "           History       0.00      0.00      0.00       182\n",
      "\n",
      "          accuracy                           0.36      5571\n",
      "         macro avg       0.13      0.19      0.14      5571\n",
      "      weighted avg       0.21      0.36      0.25      5571\n",
      "\n",
      "Accuracy: 0.36 (+/- 0.02)\n",
      "F1 score: 0.139406\n"
     ]
    }
   ],
   "source": [
    "# classify using random forests from sklearn\n",
    "forest = RandomForestClassifier(n_estimators=100, max_depth=2, random_state=420)\n",
    "forest.fit(Xtrain, Ytrain)\n",
    "Ypred = forest.predict(Xtest)\n",
    "print(classification_report(Ytest, Ypred, target_names=genre_mapping.values()))\n",
    "\n",
    "scores = cross_val_score(forest, X, Y, cv=10)\n",
    "print(\"Accuracy: %0.2f (+/- %0.2f)\" % (scores.mean(), scores.std() * 2))\n",
    "f1 = f1_score(Ytest, Ypred, average='macro')\n",
    "print('F1 score: %f' % f1)"
   ]
  },
  {
   "cell_type": "markdown",
   "metadata": {},
   "source": []
  },
  {
   "cell_type": "code",
   "execution_count": 3,
   "metadata": {},
   "outputs": [
    {
     "data": {
      "text/html": [
       "<div>\n",
       "<style scoped>\n",
       "    .dataframe tbody tr th:only-of-type {\n",
       "        vertical-align: middle;\n",
       "    }\n",
       "\n",
       "    .dataframe tbody tr th {\n",
       "        vertical-align: top;\n",
       "    }\n",
       "\n",
       "    .dataframe thead th {\n",
       "        text-align: right;\n",
       "    }\n",
       "</style>\n",
       "<table border=\"1\" class=\"dataframe\">\n",
       "  <thead>\n",
       "    <tr style=\"text-align: right;\">\n",
       "      <th></th>\n",
       "      <th>model</th>\n",
       "      <th>accuracy</th>\n",
       "      <th>f1</th>\n",
       "    </tr>\n",
       "  </thead>\n",
       "  <tbody>\n",
       "    <tr>\n",
       "      <th>0</th>\n",
       "      <td>Naive Bayes</td>\n",
       "      <td>0.32</td>\n",
       "      <td>0.327082</td>\n",
       "    </tr>\n",
       "    <tr>\n",
       "      <th>1</th>\n",
       "      <td>SVM</td>\n",
       "      <td>0.66</td>\n",
       "      <td>0.657300</td>\n",
       "    </tr>\n",
       "    <tr>\n",
       "      <th>2</th>\n",
       "      <td>Random Forest</td>\n",
       "      <td>0.36</td>\n",
       "      <td>0.139406</td>\n",
       "    </tr>\n",
       "  </tbody>\n",
       "</table>\n",
       "</div>"
      ],
      "text/plain": [
       "           model  accuracy        f1\n",
       "0    Naive Bayes      0.32  0.327082\n",
       "1            SVM      0.66  0.657300\n",
       "2  Random Forest      0.36  0.139406"
      ]
     },
     "execution_count": 3,
     "metadata": {},
     "output_type": "execute_result"
    }
   ],
   "source": [
    "\n",
    "# create and print table with all the results\n",
    "results = pd.DataFrame(columns=['model', 'accuracy', 'f1'])\n",
    "results.loc[0] = ['Naive Bayes', 0.32, 0.327082]\n",
    "results.loc[1] = ['SVM', 0.66, 0.657300]\n",
    "results.loc[2] = ['Random Forest', 0.36, 0.139406]\n",
    "results"
   ]
  }
 ],
 "metadata": {
  "kernelspec": {
   "display_name": "jupyter",
   "language": "python",
   "name": "python3"
  },
  "language_info": {
   "codemirror_mode": {
    "name": "ipython",
    "version": 3
   },
   "file_extension": ".py",
   "mimetype": "text/x-python",
   "name": "python",
   "nbconvert_exporter": "python",
   "pygments_lexer": "ipython3",
   "version": "3.10.9"
  },
  "orig_nbformat": 4
 },
 "nbformat": 4,
 "nbformat_minor": 2
}
