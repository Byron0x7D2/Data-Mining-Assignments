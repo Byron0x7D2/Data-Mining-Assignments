{
 "cells": [
  {
   "attachments": {},
   "cell_type": "markdown",
   "metadata": {},
   "source": [
    "Vyron-Georgios Anemogiannis 1115202000008  \\\n",
    "Georgios-Alexandros Vasilakopoulos 1115202000018\n",
    "\n",
    "Assignment Written Locally"
   ]
  },
  {
   "cell_type": "code",
   "execution_count": 6,
   "metadata": {},
   "outputs": [
    {
     "name": "stderr",
     "output_type": "stream",
     "text": [
      "[nltk_data] Downloading package stopwords to /home/byron/nltk_data...\n",
      "[nltk_data]   Package stopwords is already up-to-date!\n"
     ]
    }
   ],
   "source": [
    "import pandas as pd\n",
    "import numpy as np\n",
    "import sklearn\n",
    "import math\n",
    "import matplotlib.pyplot as plt\n",
    "import wordcloud\n",
    "import nltk\n",
    "nltk.download('stopwords')\n",
    "from nltk.corpus import stopwords\n",
    "stop_words = stopwords.words('english')\n",
    "from nltk.stem.porter import PorterStemmer\n",
    "from nltk.stem import WordNetLemmatizer\n",
    "import re\n",
    "from sklearn.feature_extraction.text import TfidfVectorizer\n",
    "pd.set_option('display.max_rows', 20)\n",
    "pd.set_option('display.max_columns', None)\n",
    "pd.set_option('display.width', None)\n",
    "import pickle\n",
    "from math import ceil\n",
    "from sklearn.model_selection import train_test_split\n",
    "from sklearn.metrics import classification_report, RocCurveDisplay, roc_curve, auc\n",
    "from sklearn.metrics import f1_score \n",
    "from sklearn.naive_bayes import GaussianNB\n",
    "from sklearn.model_selection import cross_val_score\n",
    "from sklearn.ensemble import RandomForestClassifier\n",
    "\n",
    "\n",
    "from sklearn import svm\n",
    "import optuna\n",
    "from optuna.visualization import plot_contour\n",
    "from optuna.visualization import plot_edf\n",
    "from optuna.visualization import plot_intermediate_values\n",
    "from optuna.visualization import plot_optimization_history\n",
    "from optuna.visualization import plot_parallel_coordinate\n",
    "from optuna.visualization import plot_param_importances\n",
    "from optuna.visualization import plot_slice\n",
    "\n",
    "import joblib\n"
   ]
  },
  {
   "cell_type": "code",
   "execution_count": 2,
   "metadata": {},
   "outputs": [
    {
     "data": {
      "text/html": [
       "<div>\n",
       "<style scoped>\n",
       "    .dataframe tbody tr th:only-of-type {\n",
       "        vertical-align: middle;\n",
       "    }\n",
       "\n",
       "    .dataframe tbody tr th {\n",
       "        vertical-align: top;\n",
       "    }\n",
       "\n",
       "    .dataframe thead th {\n",
       "        text-align: right;\n",
       "    }\n",
       "</style>\n",
       "<table border=\"1\" class=\"dataframe\">\n",
       "  <thead>\n",
       "    <tr style=\"text-align: right;\">\n",
       "      <th></th>\n",
       "      <th>bookId</th>\n",
       "      <th>description</th>\n",
       "      <th>genreSingle</th>\n",
       "    </tr>\n",
       "  </thead>\n",
       "  <tbody>\n",
       "    <tr>\n",
       "      <th>0</th>\n",
       "      <td>2767052-the-hunger-games</td>\n",
       "      <td>WINNING MEANS FAME AND FORTUNE.LOSING MEANS CE...</td>\n",
       "      <td>Young Adult</td>\n",
       "    </tr>\n",
       "    <tr>\n",
       "      <th>1</th>\n",
       "      <td>2.Harry_Potter_and_the_Order_of_the_Phoenix</td>\n",
       "      <td>There is a door at the end of a silent corrido...</td>\n",
       "      <td>Fantasy</td>\n",
       "    </tr>\n",
       "    <tr>\n",
       "      <th>2</th>\n",
       "      <td>2657.To_Kill_a_Mockingbird</td>\n",
       "      <td>The unforgettable novel of a childhood in a sl...</td>\n",
       "      <td>Classics</td>\n",
       "    </tr>\n",
       "    <tr>\n",
       "      <th>3</th>\n",
       "      <td>1885.Pride_and_Prejudice</td>\n",
       "      <td>Alternate cover edition of ISBN 9780679783268S...</td>\n",
       "      <td>Classics</td>\n",
       "    </tr>\n",
       "    <tr>\n",
       "      <th>4</th>\n",
       "      <td>41865.Twilight</td>\n",
       "      <td>About three things I was absolutely positive.\\...</td>\n",
       "      <td>Young Adult</td>\n",
       "    </tr>\n",
       "    <tr>\n",
       "      <th>...</th>\n",
       "      <td>...</td>\n",
       "      <td>...</td>\n",
       "      <td>...</td>\n",
       "    </tr>\n",
       "    <tr>\n",
       "      <th>52471</th>\n",
       "      <td>12464361-elemental</td>\n",
       "      <td>When seventeen-year-old Kara Nightingale is su...</td>\n",
       "      <td>Fantasy</td>\n",
       "    </tr>\n",
       "    <tr>\n",
       "      <th>52472</th>\n",
       "      <td>12395883-unbelievable</td>\n",
       "      <td>Lilah Lopez Dreser's in town to take care of u...</td>\n",
       "      <td>Romance</td>\n",
       "    </tr>\n",
       "    <tr>\n",
       "      <th>52474</th>\n",
       "      <td>11836711-anasazi</td>\n",
       "      <td>'Anasazi', sequel to 'The Thirteenth Chime' by...</td>\n",
       "      <td>Mystery</td>\n",
       "    </tr>\n",
       "    <tr>\n",
       "      <th>52475</th>\n",
       "      <td>10815662-marked</td>\n",
       "      <td>--READERS FAVORITE AWARDS WINNER 2011--Sixteen...</td>\n",
       "      <td>Fantasy</td>\n",
       "    </tr>\n",
       "    <tr>\n",
       "      <th>52476</th>\n",
       "      <td>11330278-wayward-son</td>\n",
       "      <td>A POWERFUL TREMOR UNEARTHS AN ANCIENT SECRETBu...</td>\n",
       "      <td>Fiction</td>\n",
       "    </tr>\n",
       "  </tbody>\n",
       "</table>\n",
       "<p>28211 rows × 3 columns</p>\n",
       "</div>"
      ],
      "text/plain": [
       "                                            bookId  \\\n",
       "0                         2767052-the-hunger-games   \n",
       "1      2.Harry_Potter_and_the_Order_of_the_Phoenix   \n",
       "2                       2657.To_Kill_a_Mockingbird   \n",
       "3                         1885.Pride_and_Prejudice   \n",
       "4                                   41865.Twilight   \n",
       "...                                            ...   \n",
       "52471                           12464361-elemental   \n",
       "52472                        12395883-unbelievable   \n",
       "52474                             11836711-anasazi   \n",
       "52475                              10815662-marked   \n",
       "52476                         11330278-wayward-son   \n",
       "\n",
       "                                             description  genreSingle  \n",
       "0      WINNING MEANS FAME AND FORTUNE.LOSING MEANS CE...  Young Adult  \n",
       "1      There is a door at the end of a silent corrido...      Fantasy  \n",
       "2      The unforgettable novel of a childhood in a sl...     Classics  \n",
       "3      Alternate cover edition of ISBN 9780679783268S...     Classics  \n",
       "4      About three things I was absolutely positive.\\...  Young Adult  \n",
       "...                                                  ...          ...  \n",
       "52471  When seventeen-year-old Kara Nightingale is su...      Fantasy  \n",
       "52472  Lilah Lopez Dreser's in town to take care of u...      Romance  \n",
       "52474  'Anasazi', sequel to 'The Thirteenth Chime' by...      Mystery  \n",
       "52475  --READERS FAVORITE AWARDS WINNER 2011--Sixteen...      Fantasy  \n",
       "52476  A POWERFUL TREMOR UNEARTHS AN ANCIENT SECRETBu...      Fiction  \n",
       "\n",
       "[28211 rows x 3 columns]"
      ]
     },
     "execution_count": 2,
     "metadata": {},
     "output_type": "execute_result"
    }
   ],
   "source": [
    "# load csv\n",
    "df = pd.read_csv('books_1.Best_Books_Ever.csv')\n",
    "\n",
    "def convert_to_list(row):\n",
    "    return eval(row)\n",
    "\n",
    "df['genres'] = df['genres'].apply(convert_to_list)\n",
    "df['genreSingle'] = df['genres'].apply(lambda x: x[0] if len(x) > 0 else np.nan)\n",
    "# keep bookId, description, genreSingle columns\n",
    "df = df[['bookId', 'description', 'genreSingle']]\n",
    "# drop rows with NaN\n",
    "df = df.dropna()\n",
    "\n",
    "# keep only the rows that have one of the top 10 gerneSingle values\n",
    "top10 = df['genreSingle'].value_counts().head(10).index.tolist()\n",
    "df = df[df['genreSingle'].isin(top10)]\n",
    "df"
   ]
  },
  {
   "cell_type": "code",
   "execution_count": 3,
   "metadata": {},
   "outputs": [],
   "source": [
    "df['description'] = [r.lower() for r in df['description'] ]   #making everything lowercase\n",
    "df['description'] = df['description'].apply(lambda r: re.sub(r'[^a-z]', ' ', r))   #only keeping letters\n",
    "df['description'] = df['description'].apply(lambda r: ' '.join([word for word in r.split() if word not in (stop_words)]))\n"
   ]
  },
  {
   "cell_type": "code",
   "execution_count": 4,
   "metadata": {},
   "outputs": [],
   "source": [
    "# !wget http://nlp.stanford.edu/data/glove.6B.zip\n",
    "# !unzip glove*.zip"
   ]
  },
  {
   "cell_type": "code",
   "execution_count": 5,
   "metadata": {},
   "outputs": [
    {
     "data": {
      "text/html": [
       "<div>\n",
       "<style scoped>\n",
       "    .dataframe tbody tr th:only-of-type {\n",
       "        vertical-align: middle;\n",
       "    }\n",
       "\n",
       "    .dataframe tbody tr th {\n",
       "        vertical-align: top;\n",
       "    }\n",
       "\n",
       "    .dataframe thead th {\n",
       "        text-align: right;\n",
       "    }\n",
       "</style>\n",
       "<table border=\"1\" class=\"dataframe\">\n",
       "  <thead>\n",
       "    <tr style=\"text-align: right;\">\n",
       "      <th></th>\n",
       "      <th>bookId</th>\n",
       "      <th>description</th>\n",
       "      <th>genreSingle</th>\n",
       "    </tr>\n",
       "  </thead>\n",
       "  <tbody>\n",
       "    <tr>\n",
       "      <th>0</th>\n",
       "      <td>2767052-the-hunger-games</td>\n",
       "      <td>winning means fame fortune losing means certai...</td>\n",
       "      <td>3</td>\n",
       "    </tr>\n",
       "    <tr>\n",
       "      <th>1</th>\n",
       "      <td>2.Harry_Potter_and_the_Order_of_the_Phoenix</td>\n",
       "      <td>door end silent corridor haunting harry pottte...</td>\n",
       "      <td>1</td>\n",
       "    </tr>\n",
       "    <tr>\n",
       "      <th>2</th>\n",
       "      <td>2657.To_Kill_a_Mockingbird</td>\n",
       "      <td>unforgettable novel childhood sleepy southern ...</td>\n",
       "      <td>8</td>\n",
       "    </tr>\n",
       "    <tr>\n",
       "      <th>3</th>\n",
       "      <td>1885.Pride_and_Prejudice</td>\n",
       "      <td>alternate cover edition isbn since immediate s...</td>\n",
       "      <td>8</td>\n",
       "    </tr>\n",
       "    <tr>\n",
       "      <th>4</th>\n",
       "      <td>41865.Twilight</td>\n",
       "      <td>three things absolutely positive first edward ...</td>\n",
       "      <td>3</td>\n",
       "    </tr>\n",
       "    <tr>\n",
       "      <th>...</th>\n",
       "      <td>...</td>\n",
       "      <td>...</td>\n",
       "      <td>...</td>\n",
       "    </tr>\n",
       "    <tr>\n",
       "      <th>52471</th>\n",
       "      <td>12464361-elemental</td>\n",
       "      <td>seventeen year old kara nightingale suddenly s...</td>\n",
       "      <td>1</td>\n",
       "    </tr>\n",
       "    <tr>\n",
       "      <th>52472</th>\n",
       "      <td>12395883-unbelievable</td>\n",
       "      <td>lilah lopez dreser town take care unfinished f...</td>\n",
       "      <td>2</td>\n",
       "    </tr>\n",
       "    <tr>\n",
       "      <th>52474</th>\n",
       "      <td>11836711-anasazi</td>\n",
       "      <td>anasazi sequel thirteenth chime emma michaels ...</td>\n",
       "      <td>6</td>\n",
       "    </tr>\n",
       "    <tr>\n",
       "      <th>52475</th>\n",
       "      <td>10815662-marked</td>\n",
       "      <td>readers favorite awards winner sixteen year ol...</td>\n",
       "      <td>1</td>\n",
       "    </tr>\n",
       "    <tr>\n",
       "      <th>52476</th>\n",
       "      <td>11330278-wayward-son</td>\n",
       "      <td>powerful tremor unearths ancient secretburied ...</td>\n",
       "      <td>0</td>\n",
       "    </tr>\n",
       "  </tbody>\n",
       "</table>\n",
       "<p>28211 rows × 3 columns</p>\n",
       "</div>"
      ],
      "text/plain": [
       "                                            bookId  \\\n",
       "0                         2767052-the-hunger-games   \n",
       "1      2.Harry_Potter_and_the_Order_of_the_Phoenix   \n",
       "2                       2657.To_Kill_a_Mockingbird   \n",
       "3                         1885.Pride_and_Prejudice   \n",
       "4                                   41865.Twilight   \n",
       "...                                            ...   \n",
       "52471                           12464361-elemental   \n",
       "52472                        12395883-unbelievable   \n",
       "52474                             11836711-anasazi   \n",
       "52475                              10815662-marked   \n",
       "52476                         11330278-wayward-son   \n",
       "\n",
       "                                             description genreSingle  \n",
       "0      winning means fame fortune losing means certai...           3  \n",
       "1      door end silent corridor haunting harry pottte...           1  \n",
       "2      unforgettable novel childhood sleepy southern ...           8  \n",
       "3      alternate cover edition isbn since immediate s...           8  \n",
       "4      three things absolutely positive first edward ...           3  \n",
       "...                                                  ...         ...  \n",
       "52471  seventeen year old kara nightingale suddenly s...           1  \n",
       "52472  lilah lopez dreser town take care unfinished f...           2  \n",
       "52474  anasazi sequel thirteenth chime emma michaels ...           6  \n",
       "52475  readers favorite awards winner sixteen year ol...           1  \n",
       "52476  powerful tremor unearths ancient secretburied ...           0  \n",
       "\n",
       "[28211 rows x 3 columns]"
      ]
     },
     "execution_count": 5,
     "metadata": {},
     "output_type": "execute_result"
    }
   ],
   "source": [
    "# enumerate the 10 genres and keep the enumeration in the df as well as a mapping\n",
    "genre_mapping = {}\n",
    "for i, genre in enumerate(top10):\n",
    "\tgenre_mapping[i] = genre\n",
    "\tdf.loc[df['genreSingle'] == genre, 'genreSingle'] = i\n",
    "    \n",
    "df"
   ]
  },
  {
   "cell_type": "code",
   "execution_count": 6,
   "metadata": {},
   "outputs": [],
   "source": [
    "def vectorize(df, w2v):\n",
    "\tX = list()\n",
    "\tY = list()\n",
    "\tgernes = df['genreSingle'].values\n",
    "\n",
    "\n",
    "\tfor (i, review) in enumerate(df[\"description\"].values):\n",
    "\t\twvectors = list()\n",
    "\t\tfor word in review.split(\" \"):\n",
    "\t\t\tif word in w2v.keys(): # Keeping only words in the vocabulary and using theur value\n",
    "\t\t\t\twvectors.append(list(w2v[word]))\n",
    "\t\tif len(wvectors) > 0:\n",
    "\t\t\tX.append(np.mean(wvectors, axis=0)) #we keep the mean \n",
    "\t\t\tY.append(gernes[i])\n",
    "\treturn (X,Y)\n",
    "\n",
    "\n",
    "\n",
    "w2v = {}\n",
    "\n",
    "with open('glove.6B.300d.txt', encoding=\"utf8\") as fp:\n",
    "\tfor lines in fp:\n",
    "\t\tvarray = lines.split(\" \")\n",
    "\t\tw2v[varray[0]] = np.asarray(varray[1:], dtype='float32')\n",
    "\n",
    "(X, Y) = vectorize(df, w2v)\n",
    "\n"
   ]
  },
  {
   "cell_type": "code",
   "execution_count": 7,
   "metadata": {},
   "outputs": [],
   "source": [
    "with open('X.pkl', 'wb') as f:\n",
    "    pickle.dump(X, f)\n",
    "with open('Y.pkl', 'wb') as f:\n",
    "    pickle.dump(Y, f)\n",
    "with open('genre_mapping.pkl', 'wb') as f:\n",
    "    pickle.dump(genre_mapping, f)"
   ]
  },
  {
   "attachments": {},
   "cell_type": "markdown",
   "metadata": {},
   "source": [
    "### Cleaned"
   ]
  },
  {
   "cell_type": "code",
   "execution_count": 2,
   "metadata": {},
   "outputs": [],
   "source": [
    "with open('X.pkl', 'rb') as f:\n",
    "    X = pickle.load(f)\n",
    "with open('Y.pkl', 'rb') as f:\n",
    "    Y = pickle.load(f)\n",
    "with open('genre_mapping.pkl', 'rb') as f:\n",
    "    genre_mapping = pickle.load(f)"
   ]
  },
  {
   "cell_type": "code",
   "execution_count": 3,
   "metadata": {},
   "outputs": [],
   "source": [
    "Xtrain, Xtest , Ytrain, Ytest = train_test_split(X, Y, test_size=0.2, random_state=69)"
   ]
  },
  {
   "attachments": {},
   "cell_type": "markdown",
   "metadata": {},
   "source": [
    "# Naive Bayes"
   ]
  },
  {
   "cell_type": "code",
   "execution_count": 18,
   "metadata": {},
   "outputs": [
    {
     "name": "stdout",
     "output_type": "stream",
     "text": [
      "                    precision    recall  f1-score   support\n",
      "\n",
      "           Fiction       0.51      0.04      0.07      1154\n",
      "           Fantasy       0.82      0.33      0.47      1111\n",
      "           Romance       0.40      0.01      0.02       630\n",
      "       Young Adult       0.23      0.78      0.36       616\n",
      "        Nonfiction       0.46      0.42      0.44       507\n",
      "Historical Fiction       0.42      0.37      0.39       442\n",
      "           Mystery       0.33      0.78      0.46       421\n",
      "   Science Fiction       0.45      0.55      0.49       281\n",
      "          Classics       0.12      0.31      0.18       227\n",
      "           History       0.39      0.40      0.39       182\n",
      "\n",
      "          accuracy                           0.34      5571\n",
      "         macro avg       0.41      0.40      0.33      5571\n",
      "      weighted avg       0.48      0.34      0.30      5571\n",
      "\n",
      "Accuracy: 0.32 (+/- 0.01)\n",
      "F1 score: 0.327082\n"
     ]
    }
   ],
   "source": [
    "gnb = GaussianNB()\n",
    "gnb.fit(Xtrain, Ytrain)\n",
    "Ypred = gnb.predict(Xtest)\n",
    "print(classification_report(Ytest, Ypred, target_names=genre_mapping.values()))\n",
    "\n",
    "scores = cross_val_score(gnb, X, Y, cv=10)\n",
    "print(\"Accuracy: %0.2f (+/- %0.2f)\" % (scores.mean(), scores.std() * 2))\n",
    "f1 = f1_score(Ytest, Ypred, average='macro')\n",
    "print('F1 score: %f' % f1)\n"
   ]
  },
  {
   "attachments": {},
   "cell_type": "markdown",
   "metadata": {},
   "source": [
    "# Support vector Machines"
   ]
  },
  {
   "cell_type": "code",
   "execution_count": 4,
   "metadata": {},
   "outputs": [
    {
     "name": "stderr",
     "output_type": "stream",
     "text": [
      "\u001b[32m[I 2023-05-07 11:26:49,376]\u001b[0m A new study created in memory with name: no-name-3079ce67-c799-45a7-9b0a-23186dd711a4\u001b[0m\n",
      "\u001b[32m[I 2023-05-07 11:29:38,330]\u001b[0m Trial 0 finished with value: 0.3440596910620287 and parameters: {'kernel': 'rbf', 'c': 0.04111714115664755, 'gamma': 'scale'}. Best is trial 0 with value: 0.3440596910620287.\u001b[0m\n",
      "\u001b[32m[I 2023-05-07 11:31:03,782]\u001b[0m Trial 1 finished with value: 0.6217920198414303 and parameters: {'kernel': 'linear', 'c': 3.141043061182334, 'gamma': 'auto'}. Best is trial 1 with value: 0.6217920198414303.\u001b[0m\n",
      "\u001b[32m[I 2023-05-07 11:34:16,169]\u001b[0m Trial 2 finished with value: 0.03431970260223048 and parameters: {'kernel': 'rbf', 'c': 0.03499617688808586, 'gamma': 'auto'}. Best is trial 1 with value: 0.6217920198414303.\u001b[0m\n",
      "\u001b[32m[I 2023-05-07 11:35:43,084]\u001b[0m Trial 3 finished with value: 0.6154665905381511 and parameters: {'kernel': 'linear', 'c': 0.39383942450460424, 'gamma': 'auto'}. Best is trial 1 with value: 0.6217920198414303.\u001b[0m\n",
      "\u001b[32m[I 2023-05-07 11:38:25,770]\u001b[0m Trial 4 finished with value: 0.5078477515777273 and parameters: {'kernel': 'rbf', 'c': 0.09597493568860846, 'gamma': 'scale'}. Best is trial 1 with value: 0.6217920198414303.\u001b[0m\n",
      "\u001b[32m[I 2023-05-07 11:41:39,805]\u001b[0m Trial 5 finished with value: 0.03431970260223048 and parameters: {'kernel': 'rbf', 'c': 0.026554230868065267, 'gamma': 'auto'}. Best is trial 1 with value: 0.6217920198414303.\u001b[0m\n",
      "\u001b[32m[I 2023-05-07 11:43:57,857]\u001b[0m Trial 6 finished with value: 0.4086971595103358 and parameters: {'kernel': 'linear', 'c': 0.012143096823549518, 'gamma': 'auto'}. Best is trial 1 with value: 0.6217920198414303.\u001b[0m\n",
      "\u001b[32m[I 2023-05-07 11:46:19,600]\u001b[0m Trial 7 finished with value: 0.5269270526709142 and parameters: {'kernel': 'rbf', 'c': 0.11686244133073516, 'gamma': 'scale'}. Best is trial 1 with value: 0.6217920198414303.\u001b[0m\n",
      "\u001b[32m[I 2023-05-07 11:47:43,280]\u001b[0m Trial 8 finished with value: 0.6200452406281155 and parameters: {'kernel': 'linear', 'c': 0.6142515946747281, 'gamma': 'scale'}. Best is trial 1 with value: 0.6217920198414303.\u001b[0m\n",
      "\u001b[32m[I 2023-05-07 11:49:35,011]\u001b[0m Trial 9 finished with value: 0.5477464462381204 and parameters: {'kernel': 'linear', 'c': 0.046089231102795405, 'gamma': 'scale'}. Best is trial 1 with value: 0.6217920198414303.\u001b[0m\n",
      "\u001b[32m[I 2023-05-07 11:51:02,670]\u001b[0m Trial 10 finished with value: 0.6227801573103362 and parameters: {'kernel': 'linear', 'c': 4.875103196646984, 'gamma': 'auto'}. Best is trial 10 with value: 0.6227801573103362.\u001b[0m\n",
      "\u001b[32m[I 2023-05-07 11:52:30,978]\u001b[0m Trial 11 finished with value: 0.6231594961947701 and parameters: {'kernel': 'linear', 'c': 5.3043047389051345, 'gamma': 'auto'}. Best is trial 11 with value: 0.6231594961947701.\u001b[0m\n",
      "\u001b[32m[I 2023-05-07 11:54:09,602]\u001b[0m Trial 12 finished with value: 0.6211225131596293 and parameters: {'kernel': 'linear', 'c': 9.782171880109399, 'gamma': 'auto'}. Best is trial 11 with value: 0.6231594961947701.\u001b[0m\n",
      "\u001b[32m[I 2023-05-07 11:55:31,620]\u001b[0m Trial 13 finished with value: 0.6237309727024284 and parameters: {'kernel': 'linear', 'c': 2.0591564482583657, 'gamma': 'auto'}. Best is trial 13 with value: 0.6237309727024284.\u001b[0m\n",
      "\u001b[32m[I 2023-05-07 11:56:53,824]\u001b[0m Trial 14 finished with value: 0.625981643883754 and parameters: {'kernel': 'linear', 'c': 1.5904163312291153, 'gamma': 'auto'}. Best is trial 14 with value: 0.625981643883754.\u001b[0m\n",
      "\u001b[32m[I 2023-05-07 11:58:15,794]\u001b[0m Trial 15 finished with value: 0.6260939230227985 and parameters: {'kernel': 'linear', 'c': 1.279156779580503, 'gamma': 'auto'}. Best is trial 15 with value: 0.6260939230227985.\u001b[0m\n",
      "\u001b[32m[I 2023-05-07 11:59:37,355]\u001b[0m Trial 16 finished with value: 0.6256055155417102 and parameters: {'kernel': 'linear', 'c': 1.2846416128425218, 'gamma': 'auto'}. Best is trial 15 with value: 0.6260939230227985.\u001b[0m\n",
      "\u001b[32m[I 2023-05-07 12:00:59,676]\u001b[0m Trial 17 finished with value: 0.6255603746042705 and parameters: {'kernel': 'linear', 'c': 0.973788182629961, 'gamma': 'auto'}. Best is trial 15 with value: 0.6260939230227985.\u001b[0m\n",
      "\u001b[32m[I 2023-05-07 12:02:21,846]\u001b[0m Trial 18 finished with value: 0.6258510094965027 and parameters: {'kernel': 'linear', 'c': 1.6014333356962671, 'gamma': 'auto'}. Best is trial 15 with value: 0.6260939230227985.\u001b[0m\n",
      "\u001b[32m[I 2023-05-07 12:03:50,134]\u001b[0m Trial 19 finished with value: 0.6228135640479411 and parameters: {'kernel': 'linear', 'c': 0.6480869209208344, 'gamma': 'auto'}. Best is trial 15 with value: 0.6260939230227985.\u001b[0m\n",
      "\u001b[32m[I 2023-05-07 12:05:18,694]\u001b[0m Trial 20 finished with value: 0.6141124294167423 and parameters: {'kernel': 'linear', 'c': 0.3621844556437957, 'gamma': 'auto'}. Best is trial 15 with value: 0.6260939230227985.\u001b[0m\n",
      "\u001b[32m[I 2023-05-07 12:06:41,484]\u001b[0m Trial 21 finished with value: 0.6236602563870367 and parameters: {'kernel': 'linear', 'c': 1.9431657249199208, 'gamma': 'auto'}. Best is trial 15 with value: 0.6260939230227985.\u001b[0m\n",
      "\u001b[32m[I 2023-05-07 12:08:04,017]\u001b[0m Trial 22 finished with value: 0.6248009353737188 and parameters: {'kernel': 'linear', 'c': 1.3815880429813183, 'gamma': 'auto'}. Best is trial 15 with value: 0.6260939230227985.\u001b[0m\n",
      "\u001b[32m[I 2023-05-07 12:09:27,828]\u001b[0m Trial 23 finished with value: 0.6251290972620459 and parameters: {'kernel': 'linear', 'c': 0.8413808358820025, 'gamma': 'auto'}. Best is trial 15 with value: 0.6260939230227985.\u001b[0m\n",
      "\u001b[32m[I 2023-05-07 12:10:51,068]\u001b[0m Trial 24 finished with value: 0.623786509836864 and parameters: {'kernel': 'linear', 'c': 1.910999810644982, 'gamma': 'auto'}. Best is trial 15 with value: 0.6260939230227985.\u001b[0m\n",
      "\u001b[32m[I 2023-05-07 12:12:16,147]\u001b[0m Trial 25 finished with value: 0.6215016038930324 and parameters: {'kernel': 'linear', 'c': 3.0672361660367025, 'gamma': 'auto'}. Best is trial 15 with value: 0.6260939230227985.\u001b[0m\n",
      "\u001b[32m[I 2023-05-07 12:14:09,689]\u001b[0m Trial 26 finished with value: 0.6264856603090225 and parameters: {'kernel': 'rbf', 'c': 0.5818525776592376, 'gamma': 'scale'}. Best is trial 26 with value: 0.6264856603090225.\u001b[0m\n",
      "\u001b[32m[I 2023-05-07 12:16:21,467]\u001b[0m Trial 27 finished with value: 0.5636866565502585 and parameters: {'kernel': 'rbf', 'c': 0.19687493724150107, 'gamma': 'scale'}. Best is trial 26 with value: 0.6264856603090225.\u001b[0m\n",
      "\u001b[32m[I 2023-05-07 12:18:15,292]\u001b[0m Trial 28 finished with value: 0.6215843687227763 and parameters: {'kernel': 'rbf', 'c': 0.5146113432549427, 'gamma': 'scale'}. Best is trial 26 with value: 0.6264856603090225.\u001b[0m\n",
      "\u001b[32m[I 2023-05-07 12:20:19,778]\u001b[0m Trial 29 finished with value: 0.584593389409293 and parameters: {'kernel': 'rbf', 'c': 0.27882393919168064, 'gamma': 'scale'}. Best is trial 26 with value: 0.6264856603090225.\u001b[0m\n",
      "\u001b[32m[I 2023-05-07 12:22:07,779]\u001b[0m Trial 30 finished with value: 0.6363368010315259 and parameters: {'kernel': 'rbf', 'c': 1.0529470400258216, 'gamma': 'scale'}. Best is trial 30 with value: 0.6363368010315259.\u001b[0m\n",
      "\u001b[32m[I 2023-05-07 12:23:56,377]\u001b[0m Trial 31 finished with value: 0.6340339582223975 and parameters: {'kernel': 'rbf', 'c': 0.9904767501053444, 'gamma': 'scale'}. Best is trial 30 with value: 0.6363368010315259.\u001b[0m\n",
      "\u001b[32m[I 2023-05-07 12:25:43,492]\u001b[0m Trial 32 finished with value: 0.633038112379446 and parameters: {'kernel': 'rbf', 'c': 0.9076363682186189, 'gamma': 'scale'}. Best is trial 30 with value: 0.6363368010315259.\u001b[0m\n",
      "\u001b[32m[I 2023-05-07 12:27:32,907]\u001b[0m Trial 33 finished with value: 0.6332029109703179 and parameters: {'kernel': 'rbf', 'c': 0.7836686279602519, 'gamma': 'scale'}. Best is trial 30 with value: 0.6363368010315259.\u001b[0m\n",
      "\u001b[32m[I 2023-05-07 12:29:19,655]\u001b[0m Trial 34 finished with value: 0.6338287651041521 and parameters: {'kernel': 'rbf', 'c': 0.9276566618643377, 'gamma': 'scale'}. Best is trial 30 with value: 0.6363368010315259.\u001b[0m\n",
      "\u001b[32m[I 2023-05-07 12:31:16,562]\u001b[0m Trial 35 finished with value: 0.6076461312834815 and parameters: {'kernel': 'rbf', 'c': 0.4015553288366672, 'gamma': 'scale'}. Best is trial 30 with value: 0.6363368010315259.\u001b[0m\n",
      "\u001b[32m[I 2023-05-07 12:33:04,704]\u001b[0m Trial 36 finished with value: 0.6344126834398166 and parameters: {'kernel': 'rbf', 'c': 0.876596000894981, 'gamma': 'scale'}. Best is trial 30 with value: 0.6363368010315259.\u001b[0m\n",
      "\u001b[32m[I 2023-05-07 12:34:50,856]\u001b[0m Trial 37 finished with value: 0.6340339582223975 and parameters: {'kernel': 'rbf', 'c': 0.9889348050058239, 'gamma': 'scale'}. Best is trial 30 with value: 0.6363368010315259.\u001b[0m\n",
      "\u001b[32m[I 2023-05-07 12:36:45,949]\u001b[0m Trial 38 finished with value: 0.6200596105234972 and parameters: {'kernel': 'rbf', 'c': 0.4980521794778418, 'gamma': 'scale'}. Best is trial 30 with value: 0.6363368010315259.\u001b[0m\n",
      "\u001b[32m[I 2023-05-07 12:38:49,673]\u001b[0m Trial 39 finished with value: 0.5864746691576213 and parameters: {'kernel': 'rbf', 'c': 0.2851284359431068, 'gamma': 'scale'}. Best is trial 30 with value: 0.6363368010315259.\u001b[0m\n",
      "\u001b[32m[I 2023-05-07 12:40:27,872]\u001b[0m Trial 40 finished with value: 0.6516417553413782 and parameters: {'kernel': 'rbf', 'c': 2.650965968270078, 'gamma': 'scale'}. Best is trial 40 with value: 0.6516417553413782.\u001b[0m\n",
      "\u001b[32m[I 2023-05-07 12:42:08,860]\u001b[0m Trial 41 finished with value: 0.651194884543296 and parameters: {'kernel': 'rbf', 'c': 2.4675477613592345, 'gamma': 'scale'}. Best is trial 40 with value: 0.6516417553413782.\u001b[0m\n",
      "\u001b[32m[I 2023-05-07 12:43:47,291]\u001b[0m Trial 42 finished with value: 0.6528840905833782 and parameters: {'kernel': 'rbf', 'c': 2.7274652063963454, 'gamma': 'scale'}. Best is trial 42 with value: 0.6528840905833782.\u001b[0m\n",
      "\u001b[32m[I 2023-05-07 12:45:24,962]\u001b[0m Trial 43 finished with value: 0.6541714448654339 and parameters: {'kernel': 'rbf', 'c': 2.8532492194031094, 'gamma': 'scale'}. Best is trial 43 with value: 0.6541714448654339.\u001b[0m\n",
      "\u001b[32m[I 2023-05-07 12:47:03,922]\u001b[0m Trial 44 finished with value: 0.6553925925413401 and parameters: {'kernel': 'rbf', 'c': 2.8779664350014134, 'gamma': 'scale'}. Best is trial 44 with value: 0.6553925925413401.\u001b[0m\n",
      "\u001b[32m[I 2023-05-07 12:48:41,627]\u001b[0m Trial 45 finished with value: 0.6561666555339485 and parameters: {'kernel': 'rbf', 'c': 3.1963680716447933, 'gamma': 'scale'}. Best is trial 45 with value: 0.6561666555339485.\u001b[0m\n",
      "\u001b[32m[I 2023-05-07 12:50:18,976]\u001b[0m Trial 46 finished with value: 0.6546578262226566 and parameters: {'kernel': 'rbf', 'c': 4.630210285154217, 'gamma': 'scale'}. Best is trial 45 with value: 0.6561666555339485.\u001b[0m\n",
      "\u001b[32m[I 2023-05-07 12:51:59,386]\u001b[0m Trial 47 finished with value: 0.6572999323446688 and parameters: {'kernel': 'rbf', 'c': 3.9153433857642326, 'gamma': 'scale'}. Best is trial 47 with value: 0.6572999323446688.\u001b[0m\n",
      "\u001b[32m[I 2023-05-07 12:53:51,996]\u001b[0m Trial 48 finished with value: 0.6562734227970017 and parameters: {'kernel': 'rbf', 'c': 4.266679897093789, 'gamma': 'scale'}. Best is trial 47 with value: 0.6572999323446688.\u001b[0m\n",
      "\u001b[32m[I 2023-05-07 12:55:37,193]\u001b[0m Trial 49 finished with value: 0.6561039571427711 and parameters: {'kernel': 'rbf', 'c': 4.274290891825934, 'gamma': 'scale'}. Best is trial 47 with value: 0.6572999323446688.\u001b[0m\n"
     ]
    },
    {
     "name": "stdout",
     "output_type": "stream",
     "text": [
      "{'kernel': 'rbf', 'c': 3.9153433857642326, 'gamma': 'scale'}\n"
     ]
    }
   ],
   "source": [
    "def objective(trial):\n",
    "\tkernel = trial.suggest_categorical('kernel', ['linear', 'rbf'])\n",
    "\tc = trial.suggest_float('c', 1e-2, 10, log=True)\n",
    "\tgamma = trial.suggest_categorical('gamma', ['scale', 'auto'])\n",
    "    \n",
    "\tclf = svm.SVC(kernel=kernel, C=c, gamma=gamma)\n",
    "\tclf.fit(Xtrain, Ytrain)\n",
    "\tYpred = clf.predict(Xtest)\n",
    "\tf1 = f1_score(Ytest, Ypred, average='macro')\n",
    "\treturn f1\n",
    "\n",
    "study = optuna.create_study(direction='maximize')\n",
    "study.optimize(objective, n_trials=50)\n",
    "print(study.best_params)\n",
    "\n",
    "# {'kernel': 'rbf', 'c': 3.9153433857642326, 'gamma': 'scale'}\n"
   ]
  },
  {
   "cell_type": "code",
   "execution_count": 18,
   "metadata": {},
   "outputs": [
    {
     "data": {
      "text/plain": [
       "['study.pkl']"
      ]
     },
     "execution_count": 18,
     "metadata": {},
     "output_type": "execute_result"
    }
   ],
   "source": [
    "joblib.dump(study, \"study.pkl\")"
   ]
  },
  {
   "cell_type": "code",
   "execution_count": 16,
   "metadata": {},
   "outputs": [
    {
     "name": "stdout",
     "output_type": "stream",
     "text": [
      "Requirement already satisfied: plotly in /home/byron/anaconda3/envs/jupyter/lib/python3.10/site-packages (5.14.1)\n",
      "Requirement already satisfied: tenacity>=6.2.0 in /home/byron/anaconda3/envs/jupyter/lib/python3.10/site-packages (from plotly) (8.2.2)\n",
      "Requirement already satisfied: packaging in /home/byron/.local/lib/python3.10/site-packages (from plotly) (23.0)\n",
      "Note: you may need to restart the kernel to use updated packages.\n"
     ]
    }
   ],
   "source": [
    "study = joblib.load(\"study.pkl\")"
   ]
  },
  {
   "cell_type": "code",
   "execution_count": 17,
   "metadata": {},
   "outputs": [
    {
     "ename": "ImportError",
     "evalue": "Tried to import 'plotly' but failed. Please make sure that the package is installed correctly to use this feature. Actual error: No module named 'plotly'.",
     "output_type": "error",
     "traceback": [
      "\u001b[0;31m---------------------------------------------------------------------------\u001b[0m",
      "\u001b[0;31mModuleNotFoundError\u001b[0m                       Traceback (most recent call last)",
      "File \u001b[0;32m~/.local/lib/python3.10/site-packages/optuna/visualization/_plotly_imports.py:7\u001b[0m\n\u001b[1;32m      6\u001b[0m \u001b[39mwith\u001b[39;00m try_import() \u001b[39mas\u001b[39;00m _imports:\n\u001b[0;32m----> 7\u001b[0m     \u001b[39mimport\u001b[39;00m \u001b[39mplotly\u001b[39;00m\n\u001b[1;32m      8\u001b[0m     \u001b[39mfrom\u001b[39;00m \u001b[39mplotly\u001b[39;00m \u001b[39mimport\u001b[39;00m __version__ \u001b[39mas\u001b[39;00m plotly_version\n",
      "\u001b[0;31mModuleNotFoundError\u001b[0m: No module named 'plotly'",
      "\nThe above exception was the direct cause of the following exception:\n",
      "\u001b[0;31mImportError\u001b[0m                               Traceback (most recent call last)",
      "Cell \u001b[0;32mIn[17], line 1\u001b[0m\n\u001b[0;32m----> 1\u001b[0m plot_contour(study)\n",
      "File \u001b[0;32m~/.local/lib/python3.10/site-packages/optuna/visualization/_contour.py:112\u001b[0m, in \u001b[0;36mplot_contour\u001b[0;34m(study, params, target, target_name)\u001b[0m\n\u001b[1;32m     57\u001b[0m \u001b[39mdef\u001b[39;00m \u001b[39mplot_contour\u001b[39m(\n\u001b[1;32m     58\u001b[0m     study: Study,\n\u001b[1;32m     59\u001b[0m     params: Optional[List[\u001b[39mstr\u001b[39m]] \u001b[39m=\u001b[39m \u001b[39mNone\u001b[39;00m,\n\u001b[0;32m   (...)\u001b[0m\n\u001b[1;32m     62\u001b[0m     target_name: \u001b[39mstr\u001b[39m \u001b[39m=\u001b[39m \u001b[39m\"\u001b[39m\u001b[39mObjective Value\u001b[39m\u001b[39m\"\u001b[39m,\n\u001b[1;32m     63\u001b[0m ) \u001b[39m-\u001b[39m\u001b[39m>\u001b[39m \u001b[39m\"\u001b[39m\u001b[39mgo.Figure\u001b[39m\u001b[39m\"\u001b[39m:\n\u001b[1;32m     64\u001b[0m \u001b[39m    \u001b[39m\u001b[39m\"\"\"Plot the parameter relationship as contour plot in a study.\u001b[39;00m\n\u001b[1;32m     65\u001b[0m \n\u001b[1;32m     66\u001b[0m \u001b[39m    Note that, if a parameter contains missing values, a trial with missing values is not plotted.\u001b[39;00m\n\u001b[0;32m   (...)\u001b[0m\n\u001b[1;32m    109\u001b[0m \u001b[39m        of :class:`~optuna.study.Study` is ``minimize``.\u001b[39;00m\n\u001b[1;32m    110\u001b[0m \u001b[39m    \"\"\"\u001b[39;00m\n\u001b[0;32m--> 112\u001b[0m     _imports\u001b[39m.\u001b[39;49mcheck()\n\u001b[1;32m    113\u001b[0m     info \u001b[39m=\u001b[39m _get_contour_info(study, params, target, target_name)\n\u001b[1;32m    114\u001b[0m     \u001b[39mreturn\u001b[39;00m _get_contour_plot(info)\n",
      "File \u001b[0;32m~/.local/lib/python3.10/site-packages/optuna/_imports.py:89\u001b[0m, in \u001b[0;36m_DeferredImportExceptionContextManager.check\u001b[0;34m(self)\u001b[0m\n\u001b[1;32m     87\u001b[0m \u001b[39mif\u001b[39;00m \u001b[39mself\u001b[39m\u001b[39m.\u001b[39m_deferred \u001b[39mis\u001b[39;00m \u001b[39mnot\u001b[39;00m \u001b[39mNone\u001b[39;00m:\n\u001b[1;32m     88\u001b[0m     exc_value, message \u001b[39m=\u001b[39m \u001b[39mself\u001b[39m\u001b[39m.\u001b[39m_deferred\n\u001b[0;32m---> 89\u001b[0m     \u001b[39mraise\u001b[39;00m \u001b[39mImportError\u001b[39;00m(message) \u001b[39mfrom\u001b[39;00m \u001b[39mexc_value\u001b[39;00m\n",
      "\u001b[0;31mImportError\u001b[0m: Tried to import 'plotly' but failed. Please make sure that the package is installed correctly to use this feature. Actual error: No module named 'plotly'."
     ]
    }
   ],
   "source": [
    "plot_contour(study)"
   ]
  },
  {
   "cell_type": "code",
   "execution_count": 8,
   "metadata": {},
   "outputs": [
    {
     "ename": "ImportError",
     "evalue": "Tried to import 'plotly' but failed. Please make sure that the package is installed correctly to use this feature. Actual error: No module named 'plotly'.",
     "output_type": "error",
     "traceback": [
      "\u001b[0;31m---------------------------------------------------------------------------\u001b[0m",
      "\u001b[0;31mModuleNotFoundError\u001b[0m                       Traceback (most recent call last)",
      "File \u001b[0;32m~/.local/lib/python3.10/site-packages/optuna/visualization/_plotly_imports.py:7\u001b[0m\n\u001b[1;32m      6\u001b[0m \u001b[39mwith\u001b[39;00m try_import() \u001b[39mas\u001b[39;00m _imports:\n\u001b[0;32m----> 7\u001b[0m     \u001b[39mimport\u001b[39;00m \u001b[39mplotly\u001b[39;00m\n\u001b[1;32m      8\u001b[0m     \u001b[39mfrom\u001b[39;00m \u001b[39mplotly\u001b[39;00m \u001b[39mimport\u001b[39;00m __version__ \u001b[39mas\u001b[39;00m plotly_version\n",
      "\u001b[0;31mModuleNotFoundError\u001b[0m: No module named 'plotly'",
      "\nThe above exception was the direct cause of the following exception:\n",
      "\u001b[0;31mImportError\u001b[0m                               Traceback (most recent call last)",
      "Cell \u001b[0;32mIn[8], line 1\u001b[0m\n\u001b[0;32m----> 1\u001b[0m plot_edf(study)\n",
      "File \u001b[0;32m~/.local/lib/python3.10/site-packages/optuna/visualization/_edf.py:117\u001b[0m, in \u001b[0;36mplot_edf\u001b[0;34m(study, target, target_name)\u001b[0m\n\u001b[1;32m     39\u001b[0m \u001b[39mdef\u001b[39;00m \u001b[39mplot_edf\u001b[39m(\n\u001b[1;32m     40\u001b[0m     study: Union[Study, Sequence[Study]],\n\u001b[1;32m     41\u001b[0m     \u001b[39m*\u001b[39m,\n\u001b[1;32m     42\u001b[0m     target: Optional[Callable[[FrozenTrial], \u001b[39mfloat\u001b[39m]] \u001b[39m=\u001b[39m \u001b[39mNone\u001b[39;00m,\n\u001b[1;32m     43\u001b[0m     target_name: \u001b[39mstr\u001b[39m \u001b[39m=\u001b[39m \u001b[39m\"\u001b[39m\u001b[39mObjective Value\u001b[39m\u001b[39m\"\u001b[39m,\n\u001b[1;32m     44\u001b[0m ) \u001b[39m-\u001b[39m\u001b[39m>\u001b[39m \u001b[39m\"\u001b[39m\u001b[39mgo.Figure\u001b[39m\u001b[39m\"\u001b[39m:\n\u001b[1;32m     45\u001b[0m \u001b[39m    \u001b[39m\u001b[39m\"\"\"Plot the objective value EDF (empirical distribution function) of a study.\u001b[39;00m\n\u001b[1;32m     46\u001b[0m \n\u001b[1;32m     47\u001b[0m \u001b[39m    Note that only the complete trials are considered when plotting the EDF.\u001b[39;00m\n\u001b[0;32m   (...)\u001b[0m\n\u001b[1;32m    114\u001b[0m \u001b[39m        A :class:`plotly.graph_objs.Figure` object.\u001b[39;00m\n\u001b[1;32m    115\u001b[0m \u001b[39m    \"\"\"\u001b[39;00m\n\u001b[0;32m--> 117\u001b[0m     _imports\u001b[39m.\u001b[39;49mcheck()\n\u001b[1;32m    119\u001b[0m     layout \u001b[39m=\u001b[39m go\u001b[39m.\u001b[39mLayout(\n\u001b[1;32m    120\u001b[0m         title\u001b[39m=\u001b[39m\u001b[39m\"\u001b[39m\u001b[39mEmpirical Distribution Function Plot\u001b[39m\u001b[39m\"\u001b[39m,\n\u001b[1;32m    121\u001b[0m         xaxis\u001b[39m=\u001b[39m{\u001b[39m\"\u001b[39m\u001b[39mtitle\u001b[39m\u001b[39m\"\u001b[39m: target_name},\n\u001b[1;32m    122\u001b[0m         yaxis\u001b[39m=\u001b[39m{\u001b[39m\"\u001b[39m\u001b[39mtitle\u001b[39m\u001b[39m\"\u001b[39m: \u001b[39m\"\u001b[39m\u001b[39mCumulative Probability\u001b[39m\u001b[39m\"\u001b[39m},\n\u001b[1;32m    123\u001b[0m     )\n\u001b[1;32m    125\u001b[0m     info \u001b[39m=\u001b[39m _get_edf_info(study, target, target_name)\n",
      "File \u001b[0;32m~/.local/lib/python3.10/site-packages/optuna/_imports.py:89\u001b[0m, in \u001b[0;36m_DeferredImportExceptionContextManager.check\u001b[0;34m(self)\u001b[0m\n\u001b[1;32m     87\u001b[0m \u001b[39mif\u001b[39;00m \u001b[39mself\u001b[39m\u001b[39m.\u001b[39m_deferred \u001b[39mis\u001b[39;00m \u001b[39mnot\u001b[39;00m \u001b[39mNone\u001b[39;00m:\n\u001b[1;32m     88\u001b[0m     exc_value, message \u001b[39m=\u001b[39m \u001b[39mself\u001b[39m\u001b[39m.\u001b[39m_deferred\n\u001b[0;32m---> 89\u001b[0m     \u001b[39mraise\u001b[39;00m \u001b[39mImportError\u001b[39;00m(message) \u001b[39mfrom\u001b[39;00m \u001b[39mexc_value\u001b[39;00m\n",
      "\u001b[0;31mImportError\u001b[0m: Tried to import 'plotly' but failed. Please make sure that the package is installed correctly to use this feature. Actual error: No module named 'plotly'."
     ]
    }
   ],
   "source": [
    "plot_edf(study)"
   ]
  },
  {
   "cell_type": "code",
   "execution_count": 15,
   "metadata": {},
   "outputs": [
    {
     "ename": "ImportError",
     "evalue": "Tried to import 'plotly' but failed. Please make sure that the package is installed correctly to use this feature. Actual error: No module named 'plotly'.",
     "output_type": "error",
     "traceback": [
      "\u001b[0;31m---------------------------------------------------------------------------\u001b[0m",
      "\u001b[0;31mModuleNotFoundError\u001b[0m                       Traceback (most recent call last)",
      "File \u001b[0;32m~/.local/lib/python3.10/site-packages/optuna/visualization/_plotly_imports.py:7\u001b[0m\n\u001b[1;32m      6\u001b[0m \u001b[39mwith\u001b[39;00m try_import() \u001b[39mas\u001b[39;00m _imports:\n\u001b[0;32m----> 7\u001b[0m     \u001b[39mimport\u001b[39;00m \u001b[39mplotly\u001b[39;00m\n\u001b[1;32m      8\u001b[0m     \u001b[39mfrom\u001b[39;00m \u001b[39mplotly\u001b[39;00m \u001b[39mimport\u001b[39;00m __version__ \u001b[39mas\u001b[39;00m plotly_version\n",
      "\u001b[0;31mModuleNotFoundError\u001b[0m: No module named 'plotly'",
      "\nThe above exception was the direct cause of the following exception:\n",
      "\u001b[0;31mImportError\u001b[0m                               Traceback (most recent call last)",
      "Cell \u001b[0;32mIn[15], line 1\u001b[0m\n\u001b[0;32m----> 1\u001b[0m plot_optimization_history(study)\n",
      "File \u001b[0;32m~/.local/lib/python3.10/site-packages/optuna/visualization/_optimization_history.py:167\u001b[0m, in \u001b[0;36mplot_optimization_history\u001b[0;34m(study, target, target_name, error_bar)\u001b[0m\n\u001b[1;32m    117\u001b[0m \u001b[39mdef\u001b[39;00m \u001b[39mplot_optimization_history\u001b[39m(\n\u001b[1;32m    118\u001b[0m     study: Union[Study, Sequence[Study]],\n\u001b[1;32m    119\u001b[0m     \u001b[39m*\u001b[39m,\n\u001b[0;32m   (...)\u001b[0m\n\u001b[1;32m    122\u001b[0m     error_bar: \u001b[39mbool\u001b[39m \u001b[39m=\u001b[39m \u001b[39mFalse\u001b[39;00m,\n\u001b[1;32m    123\u001b[0m ) \u001b[39m-\u001b[39m\u001b[39m>\u001b[39m \u001b[39m\"\u001b[39m\u001b[39mgo.Figure\u001b[39m\u001b[39m\"\u001b[39m:\n\u001b[1;32m    124\u001b[0m \u001b[39m    \u001b[39m\u001b[39m\"\"\"Plot optimization history of all trials in a study.\u001b[39;00m\n\u001b[1;32m    125\u001b[0m \n\u001b[1;32m    126\u001b[0m \u001b[39m    Example:\u001b[39;00m\n\u001b[0;32m   (...)\u001b[0m\n\u001b[1;32m    164\u001b[0m \u001b[39m        A :class:`plotly.graph_objs.Figure` object.\u001b[39;00m\n\u001b[1;32m    165\u001b[0m \u001b[39m    \"\"\"\u001b[39;00m\n\u001b[0;32m--> 167\u001b[0m     _imports\u001b[39m.\u001b[39;49mcheck()\n\u001b[1;32m    169\u001b[0m     info_list \u001b[39m=\u001b[39m _get_optimization_history_info_list(study, target, target_name, error_bar)\n\u001b[1;32m    170\u001b[0m     \u001b[39mreturn\u001b[39;00m _get_optimization_history_plot(info_list, target_name)\n",
      "File \u001b[0;32m~/.local/lib/python3.10/site-packages/optuna/_imports.py:89\u001b[0m, in \u001b[0;36m_DeferredImportExceptionContextManager.check\u001b[0;34m(self)\u001b[0m\n\u001b[1;32m     87\u001b[0m \u001b[39mif\u001b[39;00m \u001b[39mself\u001b[39m\u001b[39m.\u001b[39m_deferred \u001b[39mis\u001b[39;00m \u001b[39mnot\u001b[39;00m \u001b[39mNone\u001b[39;00m:\n\u001b[1;32m     88\u001b[0m     exc_value, message \u001b[39m=\u001b[39m \u001b[39mself\u001b[39m\u001b[39m.\u001b[39m_deferred\n\u001b[0;32m---> 89\u001b[0m     \u001b[39mraise\u001b[39;00m \u001b[39mImportError\u001b[39;00m(message) \u001b[39mfrom\u001b[39;00m \u001b[39mexc_value\u001b[39;00m\n",
      "\u001b[0;31mImportError\u001b[0m: Tried to import 'plotly' but failed. Please make sure that the package is installed correctly to use this feature. Actual error: No module named 'plotly'."
     ]
    }
   ],
   "source": [
    "plot_optimization_history(study)"
   ]
  },
  {
   "cell_type": "code",
   "execution_count": null,
   "metadata": {},
   "outputs": [],
   "source": [
    "plot_parallel_coordinate(study)"
   ]
  },
  {
   "cell_type": "code",
   "execution_count": null,
   "metadata": {},
   "outputs": [],
   "source": [
    "plot_param_importances(study)"
   ]
  },
  {
   "cell_type": "code",
   "execution_count": null,
   "metadata": {},
   "outputs": [],
   "source": [
    "plot_slice(study)"
   ]
  },
  {
   "cell_type": "code",
   "execution_count": null,
   "metadata": {},
   "outputs": [],
   "source": [
    "clf = svm.SVC(kernel=kernel, C=c, gamma=gamma)\n",
    "clf.fit(Xtrain, Ytrain)\n",
    "Ypred = clf.predict(Xtest)\n",
    "print(classification_report(Ytest, Ypred, target_names=genre_mapping.values()))\n",
    "\n",
    "scores = cross_val_score(gnb, X, Y, cv=10)\n",
    "print(\"Accuracy: %0.2f (+/- %0.2f)\" % (scores.mean(), scores.std() * 2))\n",
    "f1 = f1_score(Ytest, Ypred, average='macro')\n",
    "print('F1 score: %f' % f1)"
   ]
  },
  {
   "cell_type": "code",
   "execution_count": null,
   "metadata": {},
   "outputs": [],
   "source": [
    "# classify using random forests from sklearn\n",
    "clf = RandomForestClassifier(n_estimators=100, max_depth=2, random_state=420)\n",
    "clf.fit(Xtrain, Ytrain)\n",
    "Ypred = clf.predict(Xtest)\n",
    "print(classification_report(Ytest, Ypred, target_names=genre_mapping.values()))\n"
   ]
  }
 ],
 "metadata": {
  "kernelspec": {
   "display_name": "jupyter",
   "language": "python",
   "name": "python3"
  },
  "language_info": {
   "codemirror_mode": {
    "name": "ipython",
    "version": 3
   },
   "file_extension": ".py",
   "mimetype": "text/x-python",
   "name": "python",
   "nbconvert_exporter": "python",
   "pygments_lexer": "ipython3",
   "version": "3.10.9"
  },
  "orig_nbformat": 4
 },
 "nbformat": 4,
 "nbformat_minor": 2
}
