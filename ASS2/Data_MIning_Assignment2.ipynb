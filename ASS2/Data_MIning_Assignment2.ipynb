{
 "cells": [
  {
   "attachments": {},
   "cell_type": "markdown",
   "metadata": {},
   "source": [
    "Vyron-Georgios Anemogiannis 1115202000008  \\\n",
    "Georgios-Alexandros Vasilakopoulos 1115202000018\n",
    "\n",
    "Assignment Written Locally"
   ]
  },
  {
   "cell_type": "code",
   "execution_count": 1,
   "metadata": {},
   "outputs": [
    {
     "name": "stderr",
     "output_type": "stream",
     "text": [
      "[nltk_data] Downloading package stopwords to /home/byron/nltk_data...\n",
      "[nltk_data]   Package stopwords is already up-to-date!\n"
     ]
    }
   ],
   "source": [
    "import pandas as pd\n",
    "import numpy as np\n",
    "import sklearn\n",
    "import math\n",
    "import matplotlib.pyplot as plt\n",
    "import wordcloud\n",
    "import nltk\n",
    "nltk.download('stopwords')\n",
    "from nltk.corpus import stopwords\n",
    "stop_words = stopwords.words('english')\n",
    "from nltk.stem.porter import PorterStemmer\n",
    "from nltk.stem import WordNetLemmatizer\n",
    "import re\n",
    "from sklearn.feature_extraction.text import TfidfVectorizer\n",
    "pd.set_option('display.max_rows', 20)\n",
    "pd.set_option('display.max_columns', None)\n",
    "pd.set_option('display.width', None)\n",
    "from sklearn.metrics.pairwise import cosine_similarity\n",
    "import pickle\n"
   ]
  },
  {
   "cell_type": "code",
   "execution_count": 2,
   "metadata": {},
   "outputs": [],
   "source": [
    "df = pd.read_csv('books_1.Best_Books_Ever.csv')\n"
   ]
  },
  {
   "cell_type": "code",
   "execution_count": 3,
   "metadata": {},
   "outputs": [
    {
     "name": "stdout",
     "output_type": "stream",
     "text": [
      "52478\n",
      "42151\n"
     ]
    }
   ],
   "source": [
    "# I care only about English books that have a description (For the recommendation system)\n",
    "print(len(df))\n",
    "\n",
    "df = df[df['language'] == 'English']\n",
    "df = df[df['description'].notna()]\n",
    "\n",
    "\n",
    "\n",
    "print(len(df))\n"
   ]
  },
  {
   "attachments": {},
   "cell_type": "markdown",
   "metadata": {},
   "source": [
    "# Preprocessing"
   ]
  },
  {
   "cell_type": "code",
   "execution_count": 4,
   "metadata": {},
   "outputs": [
    {
     "data": {
      "text/plain": [
       "0        3444695\n",
       "1        1593642\n",
       "2        2363896\n",
       "3        1617567\n",
       "4        1751460\n",
       "          ...   \n",
       "52473        311\n",
       "52474         16\n",
       "52475       2109\n",
       "52476         77\n",
       "52477        106\n",
       "Name: 1_star, Length: 42151, dtype: object"
      ]
     },
     "execution_count": 4,
     "metadata": {},
     "output_type": "execute_result"
    }
   ],
   "source": [
    "def convert_to_list(row):\n",
    "    return eval(row)\n",
    "\n",
    "df['ratingsByStars'] = df['ratingsByStars'].apply(convert_to_list)\n",
    "\n",
    "# create 5 new columns for each star rating or nan if nan\n",
    "\n",
    "df['1_star'] = df['ratingsByStars'].apply(lambda x: x[0] if len(x) > 0 else np.nan)\n",
    "df['2_star'] = df['ratingsByStars'].apply(lambda x: x[1] if len(x) > 1 else np.nan)\n",
    "df['3_star'] = df['ratingsByStars'].apply(lambda x: x[2] if len(x) > 2 else np.nan)\n",
    "df['4_star'] = df['ratingsByStars'].apply(lambda x: x[3] if len(x) > 3 else np.nan)\n",
    "df['5_star'] = df['ratingsByStars'].apply(lambda x: x[4] if len(x) > 4 else np.nan)\n",
    "\n",
    "df['1_star'] \n",
    "    "
   ]
  },
  {
   "cell_type": "code",
   "execution_count": 5,
   "metadata": {},
   "outputs": [
    {
     "data": {
      "text/plain": [
       "0        Young Adult\n",
       "1            Fantasy\n",
       "2           Classics\n",
       "3           Classics\n",
       "4        Young Adult\n",
       "            ...     \n",
       "52473       Vampires\n",
       "52474        Mystery\n",
       "52475        Fantasy\n",
       "52476        Fiction\n",
       "52477    Lds Fiction\n",
       "Name: genreSingle, Length: 42151, dtype: object"
      ]
     },
     "execution_count": 5,
     "metadata": {},
     "output_type": "execute_result"
    }
   ],
   "source": [
    "df['genres'] = df['genres'].apply(convert_to_list)\n",
    "df['genreSingle'] = df['genres'].apply(lambda x: x[0] if len(x) > 0 else np.nan)\n",
    "\n",
    "df['genreSingle']"
   ]
  },
  {
   "cell_type": "code",
   "execution_count": 6,
   "metadata": {},
   "outputs": [
    {
     "name": "stdout",
     "output_type": "stream",
     "text": [
      "0        2008\n",
      "1        2004\n",
      "2        2006\n",
      "3        2000\n",
      "4        2006\n",
      "         ... \n",
      "52473    2011\n",
      "52474    2011\n",
      "52475    2011\n",
      "52476    2011\n",
      "52477    2011\n",
      "Name: publishYear, Length: 42151, dtype: Int64\n"
     ]
    }
   ],
   "source": [
    "\n",
    "df['publishYear'] = pd.to_datetime(df['publishDate'], errors='coerce').dt.year.astype('Int64')\n",
    "\n",
    "print(df['publishYear'])"
   ]
  },
  {
   "attachments": {},
   "cell_type": "markdown",
   "metadata": {},
   "source": [
    "# Questions on data"
   ]
  },
  {
   "attachments": {},
   "cell_type": "markdown",
   "metadata": {},
   "source": [
    "## Question 1"
   ]
  },
  {
   "cell_type": "code",
   "execution_count": 7,
   "metadata": {},
   "outputs": [
    {
     "data": {
      "text/plain": [
       "<AxesSubplot: >"
      ]
     },
     "execution_count": 7,
     "metadata": {},
     "output_type": "execute_result"
    },
    {
     "data": {
      "image/png": "[encoded data removed]",
      "text/plain": [
       "<Figure size 640x480 with 1 Axes>"
      ]
     },
     "metadata": {},
     "output_type": "display_data"
    }
   ],
   "source": [
    "df['rating'].hist()\n"
   ]
  },
  {
   "attachments": {},
   "cell_type": "markdown",
   "metadata": {},
   "source": [
    "## Question 2"
   ]
  },
  {
   "cell_type": "code",
   "execution_count": 8,
   "metadata": {},
   "outputs": [
    {
     "data": {
      "text/html": [
       "<div>\n",
       "<style scoped>\n",
       "    .dataframe tbody tr th:only-of-type {\n",
       "        vertical-align: middle;\n",
       "    }\n",
       "\n",
       "    .dataframe tbody tr th {\n",
       "        vertical-align: top;\n",
       "    }\n",
       "\n",
       "    .dataframe thead th {\n",
       "        text-align: right;\n",
       "    }\n",
       "</style>\n",
       "<table border=\"1\" class=\"dataframe\">\n",
       "  <thead>\n",
       "    <tr style=\"text-align: right;\">\n",
       "      <th></th>\n",
       "      <th>title</th>\n",
       "      <th>pages</th>\n",
       "    </tr>\n",
       "  </thead>\n",
       "  <tbody>\n",
       "    <tr>\n",
       "      <th>11490</th>\n",
       "      <td>The Story of Civilization</td>\n",
       "      <td>14777</td>\n",
       "    </tr>\n",
       "    <tr>\n",
       "      <th>22960</th>\n",
       "      <td>The Complete Wheel of Time</td>\n",
       "      <td>11095</td>\n",
       "    </tr>\n",
       "    <tr>\n",
       "      <th>8374</th>\n",
       "      <td>The Complete Malazan Book of the Fallen</td>\n",
       "      <td>8258</td>\n",
       "    </tr>\n",
       "    <tr>\n",
       "      <th>5098</th>\n",
       "      <td>Animorphs</td>\n",
       "      <td>8245</td>\n",
       "    </tr>\n",
       "    <tr>\n",
       "      <th>20098</th>\n",
       "      <td>Homestuck</td>\n",
       "      <td>8124</td>\n",
       "    </tr>\n",
       "    <tr>\n",
       "      <th>3148</th>\n",
       "      <td>Worm</td>\n",
       "      <td>6680</td>\n",
       "    </tr>\n",
       "    <tr>\n",
       "      <th>4692</th>\n",
       "      <td>The Complete Aubrey/Maturin Novels (5 Volumes)</td>\n",
       "      <td>6576</td>\n",
       "    </tr>\n",
       "    <tr>\n",
       "      <th>1679</th>\n",
       "      <td>A Song of Ice and Fire</td>\n",
       "      <td>5216</td>\n",
       "    </tr>\n",
       "    <tr>\n",
       "      <th>38814</th>\n",
       "      <td>One Piece Box Set 3: Thriller Bark to New Worl...</td>\n",
       "      <td>5056</td>\n",
       "    </tr>\n",
       "    <tr>\n",
       "      <th>38247</th>\n",
       "      <td>One Piece Box Set 2: Skypeia and Water Seven: ...</td>\n",
       "      <td>4936</td>\n",
       "    </tr>\n",
       "  </tbody>\n",
       "</table>\n",
       "</div>"
      ],
      "text/plain": [
       "                                                   title  pages\n",
       "11490                          The Story of Civilization  14777\n",
       "22960                         The Complete Wheel of Time  11095\n",
       "8374             The Complete Malazan Book of the Fallen   8258\n",
       "5098                                           Animorphs   8245\n",
       "20098                                          Homestuck   8124\n",
       "3148                                                Worm   6680\n",
       "4692      The Complete Aubrey/Maturin Novels (5 Volumes)   6576\n",
       "1679                              A Song of Ice and Fire   5216\n",
       "38814  One Piece Box Set 3: Thriller Bark to New Worl...   5056\n",
       "38247  One Piece Box Set 2: Skypeia and Water Seven: ...   4936"
      ]
     },
     "execution_count": 8,
     "metadata": {},
     "output_type": "execute_result"
    }
   ],
   "source": [
    "df['pages'] = pd.to_numeric(df['pages'], errors='coerce').astype('Int64')\n",
    "\n",
    "Q2 = df.sort_values(by=['pages'], ascending=False).head(10)\n",
    "Q2 = Q2[['title', 'pages']]\n",
    "Q2\n",
    "\n"
   ]
  },
  {
   "attachments": {},
   "cell_type": "markdown",
   "metadata": {},
   "source": [
    "## Question 3"
   ]
  },
  {
   "cell_type": "code",
   "execution_count": 9,
   "metadata": {},
   "outputs": [
    {
     "data": {
      "text/html": [
       "<div>\n",
       "<style scoped>\n",
       "    .dataframe tbody tr th:only-of-type {\n",
       "        vertical-align: middle;\n",
       "    }\n",
       "\n",
       "    .dataframe tbody tr th {\n",
       "        vertical-align: top;\n",
       "    }\n",
       "\n",
       "    .dataframe thead th {\n",
       "        text-align: right;\n",
       "    }\n",
       "</style>\n",
       "<table border=\"1\" class=\"dataframe\">\n",
       "  <thead>\n",
       "    <tr style=\"text-align: right;\">\n",
       "      <th></th>\n",
       "      <th>title</th>\n",
       "      <th>5_star</th>\n",
       "    </tr>\n",
       "  </thead>\n",
       "  <tbody>\n",
       "    <tr>\n",
       "      <th>4</th>\n",
       "      <td>Twilight</td>\n",
       "      <td>548674</td>\n",
       "    </tr>\n",
       "    <tr>\n",
       "      <th>192</th>\n",
       "      <td>Fifty Shades of Grey</td>\n",
       "      <td>228885</td>\n",
       "    </tr>\n",
       "    <tr>\n",
       "      <th>40</th>\n",
       "      <td>The Catcher in the Rye</td>\n",
       "      <td>139016</td>\n",
       "    </tr>\n",
       "    <tr>\n",
       "      <th>1201</th>\n",
       "      <td>New Moon</td>\n",
       "      <td>121711</td>\n",
       "    </tr>\n",
       "    <tr>\n",
       "      <th>22</th>\n",
       "      <td>Lord of the Flies</td>\n",
       "      <td>120835</td>\n",
       "    </tr>\n",
       "    <tr>\n",
       "      <th>32</th>\n",
       "      <td>Harry Potter and the Sorcerer's Stone</td>\n",
       "      <td>118525</td>\n",
       "    </tr>\n",
       "    <tr>\n",
       "      <th>1116</th>\n",
       "      <td>Breaking Dawn</td>\n",
       "      <td>117129</td>\n",
       "    </tr>\n",
       "    <tr>\n",
       "      <th>158</th>\n",
       "      <td>Eat, Pray, Love</td>\n",
       "      <td>112573</td>\n",
       "    </tr>\n",
       "    <tr>\n",
       "      <th>27</th>\n",
       "      <td>The Great Gatsby</td>\n",
       "      <td>112144</td>\n",
       "    </tr>\n",
       "    <tr>\n",
       "      <th>24</th>\n",
       "      <td>The Alchemist</td>\n",
       "      <td>102377</td>\n",
       "    </tr>\n",
       "  </tbody>\n",
       "</table>\n",
       "</div>"
      ],
      "text/plain": [
       "                                      title  5_star\n",
       "4                                  Twilight  548674\n",
       "192                    Fifty Shades of Grey  228885\n",
       "40                   The Catcher in the Rye  139016\n",
       "1201                               New Moon  121711\n",
       "22                        Lord of the Flies  120835\n",
       "32    Harry Potter and the Sorcerer's Stone  118525\n",
       "1116                          Breaking Dawn  117129\n",
       "158                         Eat, Pray, Love  112573\n",
       "27                         The Great Gatsby  112144\n",
       "24                            The Alchemist  102377"
      ]
     },
     "execution_count": 9,
     "metadata": {},
     "output_type": "execute_result"
    }
   ],
   "source": [
    "df['5_star'] = pd.to_numeric(df['5_star'], errors='coerce').astype('Int64')\n",
    "\n",
    "Q3 = df[df['5_star'] > 10000]\n",
    "Q3 = Q3.sort_values(by=['5_star'], ascending=False).head(10)\n",
    "Q3 = Q3[['title', '5_star']]\n",
    "Q3"
   ]
  },
  {
   "attachments": {},
   "cell_type": "markdown",
   "metadata": {},
   "source": [
    "## Question 5"
   ]
  },
  {
   "cell_type": "code",
   "execution_count": 10,
   "metadata": {},
   "outputs": [
    {
     "data": {
      "text/html": [
       "<div>\n",
       "<style scoped>\n",
       "    .dataframe tbody tr th:only-of-type {\n",
       "        vertical-align: middle;\n",
       "    }\n",
       "\n",
       "    .dataframe tbody tr th {\n",
       "        vertical-align: top;\n",
       "    }\n",
       "\n",
       "    .dataframe thead th {\n",
       "        text-align: right;\n",
       "    }\n",
       "</style>\n",
       "<table border=\"1\" class=\"dataframe\">\n",
       "  <thead>\n",
       "    <tr style=\"text-align: right;\">\n",
       "      <th></th>\n",
       "      <th>author</th>\n",
       "      <th>count</th>\n",
       "    </tr>\n",
       "  </thead>\n",
       "  <tbody>\n",
       "    <tr>\n",
       "      <th>15876</th>\n",
       "      <td>Nora Roberts (Goodreads Author)</td>\n",
       "      <td>85</td>\n",
       "    </tr>\n",
       "    <tr>\n",
       "      <th>259</th>\n",
       "      <td>Agatha Christie</td>\n",
       "      <td>69</td>\n",
       "    </tr>\n",
       "    <tr>\n",
       "      <th>19605</th>\n",
       "      <td>Stephen King (Goodreads Author)</td>\n",
       "      <td>62</td>\n",
       "    </tr>\n",
       "    <tr>\n",
       "      <th>2040</th>\n",
       "      <td>Bella Forrest (Goodreads Author)</td>\n",
       "      <td>49</td>\n",
       "    </tr>\n",
       "    <tr>\n",
       "      <th>14488</th>\n",
       "      <td>Meg Cabot (Goodreads Author)</td>\n",
       "      <td>49</td>\n",
       "    </tr>\n",
       "    <tr>\n",
       "      <th>6161</th>\n",
       "      <td>Erin Hunter</td>\n",
       "      <td>49</td>\n",
       "    </tr>\n",
       "    <tr>\n",
       "      <th>11304</th>\n",
       "      <td>Karen Kingsbury (Goodreads Author)</td>\n",
       "      <td>48</td>\n",
       "    </tr>\n",
       "    <tr>\n",
       "      <th>20365</th>\n",
       "      <td>Terry Pratchett</td>\n",
       "      <td>48</td>\n",
       "    </tr>\n",
       "    <tr>\n",
       "      <th>14640</th>\n",
       "      <td>Mercedes Lackey</td>\n",
       "      <td>45</td>\n",
       "    </tr>\n",
       "    <tr>\n",
       "      <th>6024</th>\n",
       "      <td>Enid Blyton</td>\n",
       "      <td>43</td>\n",
       "    </tr>\n",
       "  </tbody>\n",
       "</table>\n",
       "</div>"
      ],
      "text/plain": [
       "                                   author  count\n",
       "15876     Nora Roberts (Goodreads Author)     85\n",
       "259                       Agatha Christie     69\n",
       "19605     Stephen King (Goodreads Author)     62\n",
       "2040     Bella Forrest (Goodreads Author)     49\n",
       "14488        Meg Cabot (Goodreads Author)     49\n",
       "6161                          Erin Hunter     49\n",
       "11304  Karen Kingsbury (Goodreads Author)     48\n",
       "20365                     Terry Pratchett     48\n",
       "14640                     Mercedes Lackey     45\n",
       "6024                          Enid Blyton     43"
      ]
     },
     "execution_count": 10,
     "metadata": {},
     "output_type": "execute_result"
    }
   ],
   "source": [
    "Q4 = df.groupby('author')['title'].count().reset_index(name='count').sort_values(['count'], ascending=False).head(10)\n",
    "Q4"
   ]
  },
  {
   "attachments": {},
   "cell_type": "markdown",
   "metadata": {},
   "source": [
    "## Question 6"
   ]
  },
  {
   "cell_type": "code",
   "execution_count": 11,
   "metadata": {},
   "outputs": [
    {
     "data": {
      "text/html": [
       "<div>\n",
       "<style scoped>\n",
       "    .dataframe tbody tr th:only-of-type {\n",
       "        vertical-align: middle;\n",
       "    }\n",
       "\n",
       "    .dataframe tbody tr th {\n",
       "        vertical-align: top;\n",
       "    }\n",
       "\n",
       "    .dataframe thead th {\n",
       "        text-align: right;\n",
       "    }\n",
       "</style>\n",
       "<table border=\"1\" class=\"dataframe\">\n",
       "  <thead>\n",
       "    <tr style=\"text-align: right;\">\n",
       "      <th></th>\n",
       "      <th>author</th>\n",
       "      <th>sum</th>\n",
       "    </tr>\n",
       "  </thead>\n",
       "  <tbody>\n",
       "    <tr>\n",
       "      <th>8544</th>\n",
       "      <td>J.K. Rowling, Mary GrandPré (Illustrator)</td>\n",
       "      <td>17790643</td>\n",
       "    </tr>\n",
       "    <tr>\n",
       "      <th>19974</th>\n",
       "      <td>Suzanne Collins</td>\n",
       "      <td>11654607</td>\n",
       "    </tr>\n",
       "    <tr>\n",
       "      <th>19654</th>\n",
       "      <td>Stephenie Meyer</td>\n",
       "      <td>10710870</td>\n",
       "    </tr>\n",
       "    <tr>\n",
       "      <th>19605</th>\n",
       "      <td>Stephen King (Goodreads Author)</td>\n",
       "      <td>10025253</td>\n",
       "    </tr>\n",
       "    <tr>\n",
       "      <th>17597</th>\n",
       "      <td>Rick Riordan (Goodreads Author)</td>\n",
       "      <td>8111644</td>\n",
       "    </tr>\n",
       "    <tr>\n",
       "      <th>4237</th>\n",
       "      <td>Dan Brown (Goodreads Author)</td>\n",
       "      <td>7014203</td>\n",
       "    </tr>\n",
       "    <tr>\n",
       "      <th>8609</th>\n",
       "      <td>J.R.R. Tolkien</td>\n",
       "      <td>6620587</td>\n",
       "    </tr>\n",
       "    <tr>\n",
       "      <th>8542</th>\n",
       "      <td>J.K. Rowling</td>\n",
       "      <td>6462880</td>\n",
       "    </tr>\n",
       "    <tr>\n",
       "      <th>10345</th>\n",
       "      <td>John Green (Goodreads Author)</td>\n",
       "      <td>6355092</td>\n",
       "    </tr>\n",
       "    <tr>\n",
       "      <th>3119</th>\n",
       "      <td>Cassandra Clare (Goodreads Author)</td>\n",
       "      <td>5637877</td>\n",
       "    </tr>\n",
       "  </tbody>\n",
       "</table>\n",
       "</div>"
      ],
      "text/plain": [
       "                                          author       sum\n",
       "8544   J.K. Rowling, Mary GrandPré (Illustrator)  17790643\n",
       "19974                            Suzanne Collins  11654607\n",
       "19654                            Stephenie Meyer  10710870\n",
       "19605            Stephen King (Goodreads Author)  10025253\n",
       "17597            Rick Riordan (Goodreads Author)   8111644\n",
       "4237                Dan Brown (Goodreads Author)   7014203\n",
       "8609                              J.R.R. Tolkien   6620587\n",
       "8542                                J.K. Rowling   6462880\n",
       "10345              John Green (Goodreads Author)   6355092\n",
       "3119          Cassandra Clare (Goodreads Author)   5637877"
      ]
     },
     "execution_count": 11,
     "metadata": {},
     "output_type": "execute_result"
    }
   ],
   "source": [
    "\n",
    "df['numRatings'] = pd.to_numeric(df['numRatings'], errors='coerce').astype('Int64')\n",
    "\n",
    "Q5 = df.groupby('author')['numRatings'].sum().reset_index(name='sum').sort_values(['sum'], ascending=False).head(10)\n",
    "Q5"
   ]
  },
  {
   "attachments": {},
   "cell_type": "markdown",
   "metadata": {},
   "source": [
    "# Recomendation System"
   ]
  },
  {
   "cell_type": "code",
   "execution_count": 12,
   "metadata": {},
   "outputs": [
    {
     "data": {
      "text/html": [
       "<div>\n",
       "<style scoped>\n",
       "    .dataframe tbody tr th:only-of-type {\n",
       "        vertical-align: middle;\n",
       "    }\n",
       "\n",
       "    .dataframe tbody tr th {\n",
       "        vertical-align: top;\n",
       "    }\n",
       "\n",
       "    .dataframe thead th {\n",
       "        text-align: right;\n",
       "    }\n",
       "</style>\n",
       "<table border=\"1\" class=\"dataframe\">\n",
       "  <thead>\n",
       "    <tr style=\"text-align: right;\">\n",
       "      <th></th>\n",
       "      <th>bookId</th>\n",
       "      <th>description</th>\n",
       "    </tr>\n",
       "  </thead>\n",
       "  <tbody>\n",
       "    <tr>\n",
       "      <th>0</th>\n",
       "      <td>2767052-the-hunger-games</td>\n",
       "      <td>WINNING MEANS FAME AND FORTUNE.LOSING MEANS CE...</td>\n",
       "    </tr>\n",
       "    <tr>\n",
       "      <th>1</th>\n",
       "      <td>2.Harry_Potter_and_the_Order_of_the_Phoenix</td>\n",
       "      <td>There is a door at the end of a silent corrido...</td>\n",
       "    </tr>\n",
       "    <tr>\n",
       "      <th>2</th>\n",
       "      <td>2657.To_Kill_a_Mockingbird</td>\n",
       "      <td>The unforgettable novel of a childhood in a sl...</td>\n",
       "    </tr>\n",
       "    <tr>\n",
       "      <th>3</th>\n",
       "      <td>1885.Pride_and_Prejudice</td>\n",
       "      <td>Alternate cover edition of ISBN 9780679783268S...</td>\n",
       "    </tr>\n",
       "    <tr>\n",
       "      <th>4</th>\n",
       "      <td>41865.Twilight</td>\n",
       "      <td>About three things I was absolutely positive.\\...</td>\n",
       "    </tr>\n",
       "    <tr>\n",
       "      <th>...</th>\n",
       "      <td>...</td>\n",
       "      <td>...</td>\n",
       "    </tr>\n",
       "    <tr>\n",
       "      <th>52473</th>\n",
       "      <td>11492014-fractured</td>\n",
       "      <td>The Fateful Trilogy continues with Fractured. ...</td>\n",
       "    </tr>\n",
       "    <tr>\n",
       "      <th>52474</th>\n",
       "      <td>11836711-anasazi</td>\n",
       "      <td>'Anasazi', sequel to 'The Thirteenth Chime' by...</td>\n",
       "    </tr>\n",
       "    <tr>\n",
       "      <th>52475</th>\n",
       "      <td>10815662-marked</td>\n",
       "      <td>--READERS FAVORITE AWARDS WINNER 2011--Sixteen...</td>\n",
       "    </tr>\n",
       "    <tr>\n",
       "      <th>52476</th>\n",
       "      <td>11330278-wayward-son</td>\n",
       "      <td>A POWERFUL TREMOR UNEARTHS AN ANCIENT SECRETBu...</td>\n",
       "    </tr>\n",
       "    <tr>\n",
       "      <th>52477</th>\n",
       "      <td>10991547-daughter-of-helaman</td>\n",
       "      <td>Fighting in Helaman's army is Keturah's deepes...</td>\n",
       "    </tr>\n",
       "  </tbody>\n",
       "</table>\n",
       "<p>42151 rows × 2 columns</p>\n",
       "</div>"
      ],
      "text/plain": [
       "                                            bookId  \\\n",
       "0                         2767052-the-hunger-games   \n",
       "1      2.Harry_Potter_and_the_Order_of_the_Phoenix   \n",
       "2                       2657.To_Kill_a_Mockingbird   \n",
       "3                         1885.Pride_and_Prejudice   \n",
       "4                                   41865.Twilight   \n",
       "...                                            ...   \n",
       "52473                           11492014-fractured   \n",
       "52474                             11836711-anasazi   \n",
       "52475                              10815662-marked   \n",
       "52476                         11330278-wayward-son   \n",
       "52477                 10991547-daughter-of-helaman   \n",
       "\n",
       "                                             description  \n",
       "0      WINNING MEANS FAME AND FORTUNE.LOSING MEANS CE...  \n",
       "1      There is a door at the end of a silent corrido...  \n",
       "2      The unforgettable novel of a childhood in a sl...  \n",
       "3      Alternate cover edition of ISBN 9780679783268S...  \n",
       "4      About three things I was absolutely positive.\\...  \n",
       "...                                                  ...  \n",
       "52473  The Fateful Trilogy continues with Fractured. ...  \n",
       "52474  'Anasazi', sequel to 'The Thirteenth Chime' by...  \n",
       "52475  --READERS FAVORITE AWARDS WINNER 2011--Sixteen...  \n",
       "52476  A POWERFUL TREMOR UNEARTHS AN ANCIENT SECRETBu...  \n",
       "52477  Fighting in Helaman's army is Keturah's deepes...  \n",
       "\n",
       "[42151 rows x 2 columns]"
      ]
     },
     "execution_count": 12,
     "metadata": {},
     "output_type": "execute_result"
    }
   ],
   "source": [
    "# make a new df that contains only the bookid and description\n",
    "df = df[['bookId', 'description']]\n",
    "\n",
    "df"
   ]
  },
  {
   "cell_type": "code",
   "execution_count": 13,
   "metadata": {},
   "outputs": [],
   "source": [
    "df['description'] = [r.lower() for r in df['description'] ]   #making everything lowercase\n",
    "df['description'] = df['description'].apply(lambda r: re.sub(r'[^a-z]', ' ', r))   #only keeping letters\n"
   ]
  },
  {
   "attachments": {},
   "cell_type": "markdown",
   "metadata": {},
   "source": [
    "### Removing Stopwords"
   ]
  },
  {
   "cell_type": "code",
   "execution_count": 14,
   "metadata": {},
   "outputs": [],
   "source": [
    "df['description'] = df['description'].apply(lambda r: ' '.join([word for word in r.split() if word not in (stop_words)]))\n"
   ]
  },
  {
   "attachments": {},
   "cell_type": "markdown",
   "metadata": {},
   "source": [
    "### Stemming"
   ]
  },
  {
   "cell_type": "code",
   "execution_count": 15,
   "metadata": {},
   "outputs": [],
   "source": [
    "stemmer = PorterStemmer()\n",
    "def stemming(text):\n",
    "  tokens = text.split()\n",
    "  ret = []\n",
    "  for token in tokens:\n",
    "    ret.append(stemmer.stem(token))\n",
    "  return ' '.join(ret)\n",
    "\n",
    "df['description'] = df['description'].apply(stemming)"
   ]
  },
  {
   "attachments": {},
   "cell_type": "markdown",
   "metadata": {},
   "source": [
    "### Lemmatization"
   ]
  },
  {
   "cell_type": "code",
   "execution_count": 16,
   "metadata": {},
   "outputs": [],
   "source": [
    "lemmatizer = WordNetLemmatizer()\n",
    "def lemmatization(text):\n",
    "  tokens = text.split()\n",
    "  ret = []\n",
    "  for token in tokens:\n",
    "    ret.append(lemmatizer.lemmatize(token))\n",
    "  return ' '.join(ret)\n",
    "\n",
    "df['description'] = df['description'].apply(lemmatization)"
   ]
  },
  {
   "cell_type": "code",
   "execution_count": null,
   "metadata": {},
   "outputs": [],
   "source": [
    "df.to_csv('books_1.Best_Books_Ever_cleaned.csv', index=False)"
   ]
  },
  {
   "cell_type": "code",
   "execution_count": 2,
   "metadata": {},
   "outputs": [],
   "source": [
    "df = pd.read_csv('books_1.Best_Books_Ever_cleaned.csv')\n",
    "df = df[df['description'].notna()]\n",
    "df = df.reset_index(drop=True)\n"
   ]
  },
  {
   "attachments": {},
   "cell_type": "markdown",
   "metadata": {},
   "source": [
    "### Vectorization "
   ]
  },
  {
   "cell_type": "code",
   "execution_count": 3,
   "metadata": {},
   "outputs": [],
   "source": [
    "# vectorizer = TfidfVectorizer(ngram_range=(1, 1), max_df=1.0, min_df=1, norm='l1', stop_words=stop_words)\n",
    "# unigrams = vectorizer.fit_transform(df['description'])\n",
    "\n",
    "vectorizer = TfidfVectorizer(ngram_range=(2, 2), max_df=1.0, min_df=1, norm='l1', stop_words=stop_words)\n",
    "bigrams = vectorizer.fit_transform(df['description'])"
   ]
  },
  {
   "attachments": {},
   "cell_type": "markdown",
   "metadata": {},
   "source": [
    "## Cosine Similarity"
   ]
  },
  {
   "attachments": {},
   "cell_type": "markdown",
   "metadata": {},
   "source": [
    "### Unigrams"
   ]
  },
  {
   "cell_type": "code",
   "execution_count": null,
   "metadata": {},
   "outputs": [],
   "source": [
    "\n",
    "# on a loop for all the bookids, get the top 10 recommendations and store them in a dictionary\n",
    "recommendations = {}\n",
    "for i in range(0, len(df)):\n",
    "    if i % 1000 == 0:\n",
    "        print(i)\n",
    "        \n",
    "    cosine_similarities = cosine_similarity(unigrams[i:i+1], unigrams[0:len(df)])\n",
    "   \n",
    "    recommendations[df['bookId'][i]] = cosine_similarities[0].argsort()[:-11:-1]\n",
    "\n",
    "\n",
    "# with open('recommendations.pickle', 'wb') as handle:\n",
    "#     pickle.dump(recommendations, handle, protocol=pickle.HIGHEST_PROTOCOL)"
   ]
  },
  {
   "cell_type": "code",
   "execution_count": 38,
   "metadata": {},
   "outputs": [],
   "source": [
    "with open('recommendations.pickle', 'rb') as handle:\n",
    "    recommendations = pickle.load(handle)"
   ]
  },
  {
   "cell_type": "code",
   "execution_count": 45,
   "metadata": {},
   "outputs": [
    {
     "name": "stdout",
     "output_type": "stream",
     "text": [
      "Recommnending 5 books similar to 2.Harry_Potter_and_the_Order_of_the_Phoenix\n",
      "---------------------------------------------------------\n",
      "Recommended: 15881.Harry_Potter_and_the_Chamber_of_Secrets\n",
      "Description: ever sinc harri potter come home summer dursley mean hideou harri want get back hogwart school witchcraft wizardri pack bag harri receiv warn strang impish creatur say harri return hogwart disast strike strike harri second year hogwart fresh torment horror aris includ outrag stuck new professor spirit haunt girl bathroom real troubl begin someon turn hogwart student stone could draco malfoy poison rival ever could possibl hagrid whose mysteri past final told could one everyon hogwart suspect harri potter\n",
      "(score: [[0.37030114]])\n",
      "\n",
      "Recommended: 5.Harry_Potter_and_the_Prisoner_of_Azkaban\n",
      "Description: harri potter third year hogwart full new danger convict murder siriu black broken azkaban prison seem harri hogwart patrol dementor azkaban guard hunt siriu harri imagin siriu matter evil lord voldemort could frighten dementor terribl power fill anyon come across ach loneli despair meanwhil life continu usual hogwart top line broom take harri success quidditch sport wizard world new height cute fourth year student catch eye becom close new defens dark art teacher childhood friend father yet despit rel safeti life hogwart best effort dementor threat siriu black grow ever closer harri learn anyth educ wizardri thing often seem tragic revel heartwarm surpris high stake magic adventur await boy wizard funni poignant third instal belov seri scholast com\n",
      "(score: [[0.32281806]])\n",
      "\n",
      "Recommended: 3.Harry_Potter_and_the_Sorcerer_s_Stone\n",
      "Description: harri potter life miser parent dead stuck heartless rel forc live tini closet stair fortun chang receiv letter tell truth wizard mysteri visitor rescu rel take new home hogwart school witchcraft wizardri lifetim bottl magic power harri final feel like normal kid even within wizard commun special boy live person ever surviv kill cur inflict evil lord voldemort launch brutal takeov wizard world vanish fail kill harri though harri first year hogwart best life everyth perfect danger secret object hidden within castl wall harri believ respons prevent fall evil hand bring contact forc terrifi ever could imagin full sympathet charact wildli imagin situat countless excit detail first instal seri assembl unforgett magic world set stage mani high stake adventur come\n",
      "(score: [[0.27829589]])\n",
      "\n",
      "Recommended: 2002.Harry_Potter_Schoolbooks_Box_Set\n",
      "Description: altern cover edit isbn fan harri potter love chanc realli get insid hogwart school witchcraft wizardri straight hogwart school librari come two textbook use harri fellow wizard train written j k rowl two delight pseudonym quidditch age fantast beast find come packag fabul box set know wizard zacharia mump set first full descript game quidditch written renown quidditch expert author mani quidditch relat work quidditch age reveal everyth reader need know import sport wizard world evolut fli broomstick rule play quidditch chang sport sinc th centuri today detail quidditch team britain ireland book must quidditch fan old new well research fill diagram definit quidditch age everi wizard train need pro fantast beast find offer complet list fantast beast exist harri potter world acromantula monstrou eight eye spider capabl human speech yeti also known bigfoot abomin snowman well research inform come look like eat import ever meet one face face indispens textbook also includ insight muggl awar fantast beast inform magizoolog matter much ad fun authent fantast beast find featur scribbl comment margin harri potter previou owner book well friend ron hermion\n",
      "(score: [[0.26982473]])\n",
      "\n",
      "Recommended: 6.Harry_Potter_and_the_Goblet_of_Fire\n",
      "Description: harri potter midway train wizard come age harri want get away pernici dursley go intern quidditch cup hermion ron weasley want dream cho chang crush mayb dream want find mysteri event suppos take place hogwart year event involv two rival school magic competit happen hundr year want normal fourteen year old wizard unfortun harri potter normal even wizard standard case differ deadli\n",
      "(score: [[0.25955726]])\n",
      "\n"
     ]
    }
   ],
   "source": [
    "# create a recommendation function that takes in an id and the number of top similarities up to 100 and prints the bookId, description and similarity score of each one using the recommendations dictionary\n",
    "def recommend(item_id, num):\n",
    "\n",
    "\t# print Recommending num books similar to : item_id in python\n",
    "\tprint('Recommnending ' + str(num) + ' books similar to ' + str(item_id))\n",
    "\t\n",
    "\n",
    "\tprint('---------------------------------------------------------')\n",
    "\trecs = recommendations[item_id][1:num+1]\n",
    "\tindex = df[df['bookId'] == item_id].index[0]\n",
    "\n",
    "\tfor rec in recs:\n",
    "\t\tprint('Recommended: ' + str(df['bookId'][rec]))\n",
    "\t\tprint('Description: ' + str(df['description'][rec]))\n",
    "\t\tprint('(score: ' + str(cosine_similarity(unigrams[index], unigrams[rec])) + ')')\n",
    "\n",
    "\t\tprint()\n",
    "\t\n",
    "\n",
    "\n",
    "recommend(item_id = '2.Harry_Potter_and_the_Order_of_the_Phoenix', num = 5)\n"
   ]
  },
  {
   "attachments": {},
   "cell_type": "markdown",
   "metadata": {},
   "source": [
    "devours ram but realtively faster than bigrams"
   ]
  },
  {
   "attachments": {},
   "cell_type": "markdown",
   "metadata": {},
   "source": [
    "### Bigrams"
   ]
  },
  {
   "cell_type": "code",
   "execution_count": 4,
   "metadata": {},
   "outputs": [
    {
     "name": "stdout",
     "output_type": "stream",
     "text": [
      "0\n",
      "1000\n"
     ]
    }
   ],
   "source": [
    "recommendations = {}\n",
    "from math import ceil\n",
    "for i in range(0, ceil(len(df)/2)):\n",
    "    if i % 1000 == 0:\n",
    "        print(i)\n",
    "        \n",
    "    cosine_similarities = cosine_similarity(bigrams[i:i+1], bigrams[0:len(df)])\n",
    "  \n",
    "    recommendations[df['bookId'][i]] = cosine_similarities[0].argsort()[:-11:-1]\n",
    "    # # print the top cosine similarities scores \n",
    "    # print(cosine_similarities[0][recommendations[df['bookId'][i]]])\n",
    "\n",
    "with open('recommendationsB.pickle', 'wb') as handle:\n",
    "    pickle.dump(recommendations, handle, protocol=pickle.HIGHEST_PROTOCOL)\n",
    "\n"
   ]
  },
  {
   "cell_type": "code",
   "execution_count": null,
   "metadata": {},
   "outputs": [],
   "source": [
    "# recommendations = {}\n",
    "# for i in range(ceil(len(df)/2), len(df)):\n",
    "#     if i % 1000 == 0:\n",
    "#         print(i)\n",
    "        \n",
    "#     cosine_similarities = cosine_similarity(bigrams[i:i+1], bigrams[0:len(df)])\n",
    "  \n",
    "#     recommendations[df['bookId'][i]] = cosine_similarities[0].argsort()[:-11:-1]\n",
    "\n",
    "# with open('recommendationsC.pickle', 'wb') as handle:\n",
    "#     pickle.dump(recommendations, handle, protocol=pickle.HIGHEST_PROTOCOL)"
   ]
  },
  {
   "cell_type": "code",
   "execution_count": null,
   "metadata": {},
   "outputs": [],
   "source": [
    "with open('recommendationsB.pickle', 'rb') as handle:\n",
    "    recommendations1 = pickle.load(handle)\n",
    "\n",
    "with open('recommendationsC.pickle', 'rb') as handle:\n",
    "    recommendations2 = pickle.load(handle)\n",
    "\n",
    "# merge the two dictionaries\n",
    "recommendations = {**recommendations1, **recommendations2}"
   ]
  },
  {
   "cell_type": "code",
   "execution_count": 5,
   "metadata": {},
   "outputs": [
    {
     "name": "stdout",
     "output_type": "stream",
     "text": [
      "Recommnending 5 books similar to 2.Harry_Potter_and_the_Order_of_the_Phoenix\n",
      "---------------------------------------------------------\n",
      "Recommended: 5.Harry_Potter_and_the_Prisoner_of_Azkaban\n",
      "Description: harri potter third year hogwart full new danger convict murder siriu black broken azkaban prison seem harri hogwart patrol dementor azkaban guard hunt siriu harri imagin siriu matter evil lord voldemort could frighten dementor terribl power fill anyon come across ach loneli despair meanwhil life continu usual hogwart top line broom take harri success quidditch sport wizard world new height cute fourth year student catch eye becom close new defens dark art teacher childhood friend father yet despit rel safeti life hogwart best effort dementor threat siriu black grow ever closer harri learn anyth educ wizardri thing often seem tragic revel heartwarm surpris high stake magic adventur await boy wizard funni poignant third instal belov seri scholast com\n",
      "(score: [[0.03836546]])\n",
      "\n",
      "Recommended: 14421103-night-terrors\n",
      "Description: would wake middl night cold sweat drench sheet gasp air hand race defens throat brief moment fallow would alway realiz two thing one nightmar terribl nightmar two three figur stand foot bed disappear sceneri fallow figur knew well two men silhouett one femal surpris well knew saw everi night would alway run dark eeri familiar place would alway reach pin begin choke life even woke pressur around throat real would linger bruis figur would still stare doctor call night terror said uncommon child young teenag recent lost parent start night sixteenth birthday two week death\n",
      "(score: [[0.02950528]])\n",
      "\n",
      "Recommended: 22331746-the-bad-boy-stole-my-bra\n",
      "Description: pictur wake middl night swamp star war cover complet utterli groggi extent look like someth monster inc movi hear sound sit turn lamp see new neighbour clamber halfway windowsil still manag look like sort greek god may add hold mickey mous bra well scream obvious get reveng cours\n",
      "(score: [[0.02491257]])\n",
      "\n",
      "Recommended: 23224.Darkest_Hour\n",
      "Description: buri susannah backyard nineteenth centuri ghost maria de silva wake middl night suze know ordinari visit knife throat either life maria fianc e jess jess murder hundr fifti year jess suze love maria threaten suze backyard construct must ceas suze pretti good idea rather maria want found solv jess murder suze end lose forev\n",
      "(score: [[0.02295794]])\n",
      "\n",
      "Recommended: 196945.The_Torture_Garden\n",
      "Description: follow twin trail desir deprav shock sadist paradis garden china tortur practic art form dissolut frenchman discov true depth degrad beyond prior bourgeoi imagin entranc resolut englishwoman whose capac debaucheri know bound capitul everi whim amid ecstat yet torment incurs vision scent caress pleasur horror fantast atroc\n",
      "(score: [[0.02287312]])\n",
      "\n"
     ]
    }
   ],
   "source": [
    "def recommend(item_id, num):\n",
    "\n",
    "\t# print Recommending num books similar to : item_id in python\n",
    "\tprint('Recommnending ' + str(num) + ' books similar to ' + str(item_id))\n",
    "\t\n",
    "\n",
    "\tprint('---------------------------------------------------------')\n",
    "\trecs = recommendations[item_id][1:num+1]\n",
    "\tindex = df[df['bookId'] == item_id].index[0]\n",
    "\n",
    "\tfor rec in recs:\n",
    "\t\tprint('Recommended: ' + str(df['bookId'][rec]))\n",
    "\t\tprint('Description: ' + str(df['description'][rec]))\n",
    "\t\tprint('(score: ' + str(cosine_similarity(bigrams[index], bigrams[rec])) + ')')\n",
    "\n",
    "\t\tprint()\n",
    "\t\n",
    "\n",
    "\n",
    "recommend(item_id = '2.Harry_Potter_and_the_Order_of_the_Phoenix', num = 5)"
   ]
  },
  {
   "attachments": {},
   "cell_type": "markdown",
   "metadata": {},
   "source": [
    "takes 3 times the time"
   ]
  }
 ],
 "metadata": {
  "kernelspec": {
   "display_name": "jupyter",
   "language": "python",
   "name": "python3"
  },
  "language_info": {
   "codemirror_mode": {
    "name": "ipython",
    "version": 3
   },
   "file_extension": ".py",
   "mimetype": "text/x-python",
   "name": "python",
   "nbconvert_exporter": "python",
   "pygments_lexer": "ipython3",
   "version": "3.10.9"
  },
  "orig_nbformat": 4
 },
 "nbformat": 4,
 "nbformat_minor": 2
}
